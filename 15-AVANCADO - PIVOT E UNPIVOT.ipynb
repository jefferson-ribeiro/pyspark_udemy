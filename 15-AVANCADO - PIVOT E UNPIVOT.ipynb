{
 "cells": [
  {
   "cell_type": "code",
   "execution_count": 1,
   "metadata": {},
   "outputs": [],
   "source": [
    "#Cria sessão Spark\n",
    "from pyspark.sql import SparkSession\n",
    "from pyspark.sql.functions import col\n",
    "import pyspark.sql.functions as F"
   ]
  },
  {
   "cell_type": "code",
   "execution_count": 2,
   "metadata": {},
   "outputs": [],
   "source": [
    "#Instância Spark\n",
    "spark = SparkSession.builder.appName('Curso Pyspark') \\\n",
    "         .config('spark.sql.repl.eagerEval.enabled', True) \\\n",
    "         .getOrCreate()      "
   ]
  },
  {
   "cell_type": "code",
   "execution_count": 3,
   "metadata": {},
   "outputs": [],
   "source": [
    "# lendo um arquivo parquet\n",
    "df = spark.read.parquet('./DATASETS/COMPRAS.parquet')"
   ]
  },
  {
   "cell_type": "code",
   "execution_count": 4,
   "metadata": {},
   "outputs": [
    {
     "name": "stdout",
     "output_type": "stream",
     "text": [
      "+------+---------------------+-------------------+---------------------------+----------+-------------------------+----------+--------+---------------+---------------------------------------+-----------+---------+----------+\n",
      "|id    |cartao_data_expiracao|cartao_numero      |cartao_bandeira            |cartao_cvc|codigo_transacao_bancaria|data      |hora    |ipv4           |ipv6                                   |cep_entrega|cd_livro |cd_cliente|\n",
      "+------+---------------------+-------------------+---------------------------+----------+-------------------------+----------+--------+---------------+---------------------------------------+-----------+---------+----------+\n",
      "|012389|11/25                |5500804500517692   |Discover                   |959       |GB98MPIH62210859391317   |2021-07-24|03:21:28|62.145.31.164  |b23d:58a2:9eff:3667:47fe:d0bf:9241:433f|36629-219  |030334762|3339828   |\n",
      "|012476|01/31                |4609489235873      |VISA 16 digit              |6979      |GB79GAVL23301081997574   |2021-08-23|11:15:52|185.150.224.52 |1e2c:f641:49d1:5ae9:6d41:4e4d:2dde:5f83|17012-747  |013721981|7624624   |\n",
      "|012478|07/23                |30072722359174     |American Express           |689       |GB51SZOU53848453177346   |2020-01-27|17:08:10|40.179.153.24  |9bcd:ee0c:af68:33f3:c9dc:80ab:374b:40df|25921298   |019458805|8703114   |\n",
      "|012534|09/29                |4561935154572      |VISA 16 digit              |353       |GB05UNEX02146651137482   |2021-07-15|07:39:25|86.20.51.194   |be57:8f94:132:1cb2:cd13:394a:1725:5e02 |73799370   |014347542|7799936   |\n",
      "|012549|01/31                |3541220668415122   |JCB 15 digit               |967       |GB97RCCC58194262097481   |2020-07-22|23:56:14|55.189.220.65  |a1fd:9dd:115f:9d52:ccee:5176:697d:d49e |50727-454  |020215846|6703678   |\n",
      "|012574|06/24                |4155061214506542   |JCB 16 digit               |362       |GB93YATI19716429228898   |2020-05-19|10:47:09|212.26.253.42  |1815:dc0e:c557:968b:edb8:4756:12:1185  |67662-182  |010325500|6273720   |\n",
      "|012579|01/27                |30554213514227     |Maestro                    |9847      |GB54PQLN79970585948088   |2021-04-15|10:36:56|168.197.230.167|7f3b:4ada:4c62:3f3b:53ce:eecc:75a7:3ba9|61193-110  |053479015|6977964   |\n",
      "|012648|05/24                |347386847428278    |VISA 16 digit              |823       |GB90MYZL51019328337831   |2021-06-19|13:07:48|146.108.131.11 |c52d:53d8:371a:34f2:b44e:bf38:573:fd16 |10059-723  |012331534|6616715   |\n",
      "|012675|04/29                |4534805013764      |Mastercard                 |384       |GB11XMUH82487635157925   |2021-07-11|07:55:08|148.155.72.234 |b290:d2b7:6a58:86c0:eea4:1c7f:1d90:dd85|79292884   |035940339|649001    |\n",
      "|012698|12/31                |4450657280386776   |American Express           |247       |GB79ECRO01786844752799   |2021-08-11|12:06:48|190.135.5.172  |7cbc:4554:7f5d:653f:ae1e:aa7d:da6e:5a72|93609312   |058320651|4523531   |\n",
      "|012845|01/32                |6589457551152257   |Diners Club / Carte Blanche|081       |GB54ZAJA80081056170621   |2023-02-27|09:34:58|117.107.7.243  |d3f6:6a7f:32a8:eb35:7044:a9ab:aa32:aba4|65177115   |032169692|8443760   |\n",
      "|012948|12/28                |373871288580551    |Diners Club / Carte Blanche|619       |GB43SXJF88950594445519   |2020-02-20|03:10:01|210.130.27.213 |9ae4:b03a:1a1f:c6b6:fa63:a2ed:da6:6902 |39334-766  |032169692|1235431   |\n",
      "|012964|12/30                |4852311914204      |Mastercard                 |555       |GB64DLQF09005395403739   |2022-10-04|06:40:47|129.93.60.161  |5bfe:ad1b:a4f1:f261:7c34:c641:5e66:29f2|41199-650  |033338998|7811168   |\n",
      "|012984|06/31                |4513536757134128830|VISA 19 digit              |834       |GB32QSLY82158320446241   |2020-08-05|09:45:12|141.203.245.233|7528:d2f8:fa09:8263:3817:bb4a:1ac:e2fd |84410-583  |042900595|2093927   |\n",
      "|012986|10/26                |3585620838660639   |Mastercard                 |440       |GB79ZFSL74135556260152   |2020-05-06|23:22:03|221.251.216.243|5da7:4583:5800:9693:333f:ab09:f818:79d8|16961-730  |019458805|3945329   |\n",
      "|013257|05/23                |6579633995016199   |VISA 13 digit              |9804      |GB93NZLK21811856371990   |2022-11-28|02:09:43|189.189.141.229|7b91:3b21:d3f1:3667:aa1:d4b5:c95b:30c8 |83312054   |027740385|6689138   |\n",
      "|013265|12/31                |3535506018736607   |JCB 15 digit               |702       |GB97UUHZ23980488224754   |2020-10-27|18:17:07|24.152.218.181 |77da:6ce5:522a:ac8b:61e:d269:ce3d:cc9b |06479-166  |049141690|1942388   |\n",
      "|013274|01/24                |3568580151701777   |JCB 16 digit               |257       |GB80ISML11644267154036   |2021-12-20|14:44:09|42.253.7.153   |cf6a:3335:55be:e0d9:ab71:1f5a:f367:d47a|30462-427  |104361784|2487770   |\n",
      "|013457|06/28                |4589839699652790803|Maestro                    |280       |GB22HUUD09464282025985   |2021-10-26|23:04:27|207.179.196.45 |9b03:e5f0:c72f:c788:6b9:d7ca:e70e:d0ab |10506549   |021006591|4312106   |\n",
      "|013478|07/24                |3560452545224585   |VISA 16 digit              |126       |GB63LUHF43745270279050   |2020-05-10|02:33:28|105.127.245.188|dd79:3fca:9d38:98ae:9caf:7f80:9f:4203  |10354-560  |019488257|670483    |\n",
      "+------+---------------------+-------------------+---------------------------+----------+-------------------------+----------+--------+---------------+---------------------------------------+-----------+---------+----------+\n",
      "only showing top 20 rows\n",
      "\n"
     ]
    }
   ],
   "source": [
    "df.show(20, truncate=0)"
   ]
  },
  {
   "cell_type": "code",
   "execution_count": 8,
   "metadata": {},
   "outputs": [
    {
     "name": "stdout",
     "output_type": "stream",
     "text": [
      "+---------------------------+---------+--------+\n",
      "|cartao_bandeira            |mes      |count(1)|\n",
      "+---------------------------+---------+--------+\n",
      "|Discover                   |June     |297     |\n",
      "|American Express           |February |353     |\n",
      "|VISA 19 digit              |July     |352     |\n",
      "|American Express           |May      |346     |\n",
      "|VISA 19 digit              |October  |324     |\n",
      "|American Express           |December |332     |\n",
      "|VISA 16 digit              |November |616     |\n",
      "|Mastercard                 |August   |289     |\n",
      "|JCB 16 digit               |July     |641     |\n",
      "|JCB 15 digit               |March    |401     |\n",
      "|Diners Club / Carte Blanche|October  |328     |\n",
      "|VISA 13 digit              |August   |335     |\n",
      "|Diners Club / Carte Blanche|April    |300     |\n",
      "|Discover                   |September|310     |\n",
      "|JCB 15 digit               |May      |337     |\n",
      "|VISA 13 digit              |November |302     |\n",
      "|JCB 15 digit               |February |374     |\n",
      "|VISA 16 digit              |February |772     |\n",
      "|VISA 19 digit              |January  |437     |\n",
      "|JCB 15 digit               |June     |310     |\n",
      "+---------------------------+---------+--------+\n",
      "only showing top 20 rows\n",
      "\n"
     ]
    }
   ],
   "source": [
    "(\n",
    "    df\n",
    "    .withColumn('mes', F.date_format('data', 'MMMM'))\n",
    "    .groupBy('cartao_bandeira', 'mes')\n",
    "    .agg(F.count('*'))\n",
    "    \n",
    "    .show(20, truncate=0)\n",
    ")"
   ]
  },
  {
   "cell_type": "code",
   "execution_count": 10,
   "metadata": {},
   "outputs": [
    {
     "name": "stdout",
     "output_type": "stream",
     "text": [
      "+---------------------------+-------+--------+\n",
      "|cartao_bandeira            |January|February|\n",
      "+---------------------------+-------+--------+\n",
      "|VISA 16 digit              |878    |772     |\n",
      "|VISA 13 digit              |420    |350     |\n",
      "|Discover                   |454    |406     |\n",
      "|Diners Club / Carte Blanche|397    |395     |\n",
      "|American Express           |385    |353     |\n",
      "|Maestro                    |424    |374     |\n",
      "|Mastercard                 |415    |359     |\n",
      "|JCB 16 digit               |835    |756     |\n",
      "|VISA 19 digit              |437    |388     |\n",
      "|JCB 15 digit               |386    |374     |\n",
      "+---------------------------+-------+--------+\n",
      "\n"
     ]
    }
   ],
   "source": [
    "(\n",
    "    df\n",
    "    .withColumn('mes', F.date_format('data', 'MMMM'))\n",
    "    .groupBy('cartao_bandeira')\n",
    "    # transformar linhas em colunas\n",
    "    .pivot('mes', ['January', 'February'])\n",
    "    .agg(F.count('*'))\n",
    "    \n",
    "    .show(20, truncate=0)\n",
    ")"
   ]
  },
  {
   "cell_type": "code",
   "execution_count": 22,
   "metadata": {},
   "outputs": [],
   "source": [
    "df2 = (\n",
    "    df\n",
    "    .withColumn('mes', F.date_format('data', 'MMMM'))\n",
    "    .groupBy('cartao_bandeira')\n",
    "    # transformar linhas em colunas agrupando pelo mes e mostrando a quantidade para cada bandeira\n",
    "    .pivot('mes', ['January', 'February']) # caso não coloque o segundo parametro automaticamente ele percorre todos os registros\n",
    "    .agg(F.count('*'))\n",
    ")"
   ]
  },
  {
   "cell_type": "code",
   "execution_count": 23,
   "metadata": {},
   "outputs": [
    {
     "data": {
      "text/html": [
       "<table border='1'>\n",
       "<tr><th>cartao_bandeira</th><th>January</th><th>February</th></tr>\n",
       "<tr><td>VISA 16 digit</td><td>878</td><td>772</td></tr>\n",
       "<tr><td>VISA 13 digit</td><td>420</td><td>350</td></tr>\n",
       "<tr><td>Discover</td><td>454</td><td>406</td></tr>\n",
       "<tr><td>Diners Club / Car...</td><td>397</td><td>395</td></tr>\n",
       "<tr><td>American Express</td><td>385</td><td>353</td></tr>\n",
       "<tr><td>Maestro</td><td>424</td><td>374</td></tr>\n",
       "<tr><td>Mastercard</td><td>415</td><td>359</td></tr>\n",
       "<tr><td>JCB 16 digit</td><td>835</td><td>756</td></tr>\n",
       "<tr><td>VISA 19 digit</td><td>437</td><td>388</td></tr>\n",
       "<tr><td>JCB 15 digit</td><td>386</td><td>374</td></tr>\n",
       "</table>\n"
      ],
      "text/plain": [
       "+--------------------+-------+--------+\n",
       "|     cartao_bandeira|January|February|\n",
       "+--------------------+-------+--------+\n",
       "|       VISA 16 digit|    878|     772|\n",
       "|       VISA 13 digit|    420|     350|\n",
       "|            Discover|    454|     406|\n",
       "|Diners Club / Car...|    397|     395|\n",
       "|    American Express|    385|     353|\n",
       "|             Maestro|    424|     374|\n",
       "|          Mastercard|    415|     359|\n",
       "|        JCB 16 digit|    835|     756|\n",
       "|       VISA 19 digit|    437|     388|\n",
       "|        JCB 15 digit|    386|     374|\n",
       "+--------------------+-------+--------+"
      ]
     },
     "execution_count": 23,
     "metadata": {},
     "output_type": "execute_result"
    }
   ],
   "source": [
    "\n",
    "df2"
   ]
  },
  {
   "cell_type": "code",
   "execution_count": 25,
   "metadata": {},
   "outputs": [
    {
     "data": {
      "text/html": [
       "<table border='1'>\n",
       "<tr><th>cartao_bandeira</th><th>mes</th><th>valor</th></tr>\n",
       "<tr><td>VISA 16 digit</td><td>Jan</td><td>878</td></tr>\n",
       "<tr><td>VISA 16 digit</td><td>Fev</td><td>772</td></tr>\n",
       "<tr><td>VISA 13 digit</td><td>Jan</td><td>420</td></tr>\n",
       "<tr><td>VISA 13 digit</td><td>Fev</td><td>350</td></tr>\n",
       "<tr><td>Discover</td><td>Jan</td><td>454</td></tr>\n",
       "<tr><td>Discover</td><td>Fev</td><td>406</td></tr>\n",
       "<tr><td>Diners Club / Car...</td><td>Jan</td><td>397</td></tr>\n",
       "<tr><td>Diners Club / Car...</td><td>Fev</td><td>395</td></tr>\n",
       "<tr><td>American Express</td><td>Jan</td><td>385</td></tr>\n",
       "<tr><td>American Express</td><td>Fev</td><td>353</td></tr>\n",
       "<tr><td>Maestro</td><td>Jan</td><td>424</td></tr>\n",
       "<tr><td>Maestro</td><td>Fev</td><td>374</td></tr>\n",
       "<tr><td>Mastercard</td><td>Jan</td><td>415</td></tr>\n",
       "<tr><td>Mastercard</td><td>Fev</td><td>359</td></tr>\n",
       "<tr><td>JCB 16 digit</td><td>Jan</td><td>835</td></tr>\n",
       "<tr><td>JCB 16 digit</td><td>Fev</td><td>756</td></tr>\n",
       "<tr><td>VISA 19 digit</td><td>Jan</td><td>437</td></tr>\n",
       "<tr><td>VISA 19 digit</td><td>Fev</td><td>388</td></tr>\n",
       "<tr><td>JCB 15 digit</td><td>Jan</td><td>386</td></tr>\n",
       "<tr><td>JCB 15 digit</td><td>Fev</td><td>374</td></tr>\n",
       "</table>\n"
      ],
      "text/plain": [
       "+--------------------+---+-----+\n",
       "|     cartao_bandeira|mes|valor|\n",
       "+--------------------+---+-----+\n",
       "|       VISA 16 digit|Jan|  878|\n",
       "|       VISA 16 digit|Fev|  772|\n",
       "|       VISA 13 digit|Jan|  420|\n",
       "|       VISA 13 digit|Fev|  350|\n",
       "|            Discover|Jan|  454|\n",
       "|            Discover|Fev|  406|\n",
       "|Diners Club / Car...|Jan|  397|\n",
       "|Diners Club / Car...|Fev|  395|\n",
       "|    American Express|Jan|  385|\n",
       "|    American Express|Fev|  353|\n",
       "|             Maestro|Jan|  424|\n",
       "|             Maestro|Fev|  374|\n",
       "|          Mastercard|Jan|  415|\n",
       "|          Mastercard|Fev|  359|\n",
       "|        JCB 16 digit|Jan|  835|\n",
       "|        JCB 16 digit|Fev|  756|\n",
       "|       VISA 19 digit|Jan|  437|\n",
       "|       VISA 19 digit|Fev|  388|\n",
       "|        JCB 15 digit|Jan|  386|\n",
       "|        JCB 15 digit|Fev|  374|\n",
       "+--------------------+---+-----+"
      ]
     },
     "execution_count": 25,
     "metadata": {},
     "output_type": "execute_result"
    }
   ],
   "source": [
    "# aqui estamos desfanzendo e voltando as colunas para linhas\n",
    "df2.select('cartao_bandeira', F.expr('stack(2, \"Jan\", January, \"Fev\", February) as (mes, valor)'))"
   ]
  },
  {
   "cell_type": "code",
   "execution_count": null,
   "metadata": {},
   "outputs": [],
   "source": []
  }
 ],
 "metadata": {
  "kernelspec": {
   "display_name": "Python 3",
   "language": "python",
   "name": "python3"
  },
  "language_info": {
   "codemirror_mode": {
    "name": "ipython",
    "version": 3
   },
   "file_extension": ".py",
   "mimetype": "text/x-python",
   "name": "python",
   "nbconvert_exporter": "python",
   "pygments_lexer": "ipython3",
   "version": "3.11.8"
  }
 },
 "nbformat": 4,
 "nbformat_minor": 2
}
