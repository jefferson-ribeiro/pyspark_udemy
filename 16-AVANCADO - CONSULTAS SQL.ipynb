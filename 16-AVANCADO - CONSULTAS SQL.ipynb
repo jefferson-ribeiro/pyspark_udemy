{
 "cells": [
  {
   "cell_type": "code",
   "execution_count": 1,
   "metadata": {},
   "outputs": [],
   "source": [
    "#Cria sessão Spark\n",
    "from pyspark.sql import SparkSession\n",
    "from pyspark.sql.functions import col\n",
    "import pyspark.sql.functions as F"
   ]
  },
  {
   "cell_type": "code",
   "execution_count": 2,
   "metadata": {},
   "outputs": [],
   "source": [
    "#Instância Spark\n",
    "spark = SparkSession.builder.appName('Curso Pyspark') \\\n",
    "         .config('spark.sql.repl.eagerEval.enabled', True) \\\n",
    "         .getOrCreate()      "
   ]
  },
  {
   "cell_type": "code",
   "execution_count": 3,
   "metadata": {},
   "outputs": [],
   "source": [
    "# lendo um arquivo parquet\n",
    "df = spark.read.parquet('./DATASETS/LOGINS.parquet')"
   ]
  },
  {
   "cell_type": "code",
   "execution_count": 4,
   "metadata": {},
   "outputs": [
    {
     "name": "stdout",
     "output_type": "stream",
     "text": [
      "+--------------+----------------------------------+----------+------------------+------+-------------+---------------+------------+---------------------------+-------------------+\n",
      "|cpf           |email                             |senha     |data_de_nascimento|estado|data_cadastro|ipv4           |cor_favorita|profissao                  |telefone           |\n",
      "+--------------+----------------------------------+----------+------------------+------+-------------+---------------+------------+---------------------------+-------------------+\n",
      "|981.507.362-12|pedro-lucas53@gmail.com           |+7^7E%xFBc|2006-12-18        |RR    |2023-02-26   |99.107.250.210 |Roxo        |Jogador De Golfe           |31 7785-4046       |\n",
      "|493.705.168-75|rezendeisaac@hotmail.com          |_O_2GRnGOe|1992-06-17        |GO    |2023-02-16   |197.11.26.213  |Ciano       |Atleta De Arremesso De Peso|(031) 0803-6753    |\n",
      "|398.471.625-73|felipepires@uol.com.br            |*Aw5EOAvy9|1921-11-11        |MG    |2023-01-02   |181.90.63.58   |Azul        |Papiloscopista             |11 9674-0553       |\n",
      "|092.618.354-06|stellamoraes@bol.com.br           |mw0AWYAs#s|2021-06-01        |AC    |2023-01-08   |26.121.127.94  |Marrom      |Aeromoça                   |+55 (071) 3033 9177|\n",
      "|509.427.136-99|wcarvalho@ig.com.br               |pGD%!2Pq5X|1969-10-28        |AP    |2023-02-14   |76.184.52.163  |Laranja     |Fonoaudiólogo              |+55 (071) 6272 2468|\n",
      "|218.795.460-94|da-conceicaodavi-lucas@hotmail.com|uhBbFxPA&9|1986-05-19        |MG    |2023-03-07   |192.93.0.24    |Rosa        |Taxista                    |+55 84 0652 9691   |\n",
      "|715.836.940-48|efreitas@bol.com.br               |s#q9VZt&xl|2018-04-20        |MG    |2023-01-13   |76.251.188.148 |Branco      |Produtor De Audio Visual   |+55 (084) 1363 0052|\n",
      "|475.698.032-56|wnunes@bol.com.br                 |_8az1W%n7g|1996-05-12        |SE    |2023-02-04   |139.196.176.154|Azul        |Cadeirinha                 |(071) 1640-3388    |\n",
      "|217.639.540-99|jribeiro@bol.com.br               |MEf1X7fj_0|2021-10-05        |PA    |2023-03-02   |71.22.224.5    |Marrom      |Geólogo                    |21 1432 4092       |\n",
      "|261.938.750-77|murilo05@gmail.com                |Te&gO7GkKs|1917-01-05        |MT    |2023-02-21   |136.54.123.165 |Marrom      |Técnico De Som             |+55 (084) 5878-3346|\n",
      "|520.831.796-68|joaquim57@ig.com.br               |&2E1NY+ARc|1912-05-25        |BA    |2023-01-25   |78.196.255.126 |Rosa        |Esteticista                |41 7914-3753       |\n",
      "|413.087.526-44|alexiada-rocha@ig.com.br          |@f@!Z!2c*2|1920-05-26        |MS    |2023-02-18   |182.61.65.201  |Laranja     |Microfonista               |(021) 3739-2944    |\n",
      "|509.287.143-14|pmendes@gmail.com                 |M+^XDBfe(2|1938-03-11        |RR    |2023-01-19   |61.234.208.17  |Verde Claro |Fiscal                     |+55 (084) 5940-1932|\n",
      "|563.170.492-70|renan46@bol.com.br                |Rp%2pVqfe$|1922-09-01        |PA    |2023-02-01   |122.203.83.177 |Verde Escuro|Contabilista               |+55 41 6248 5773   |\n",
      "|098.712.346-78|manuelada-rosa@hotmail.com        |#hEIEOztQ3|2013-01-10        |SE    |2023-01-07   |175.18.73.211  |Violeta     |Seguidor De Compras        |51 0278 0564       |\n",
      "|345.709.261-34|usales@ig.com.br                  |b_8xaY$ozJ|1992-10-16        |AM    |2023-01-05   |97.93.29.75    |Rosa        |Almirante                  |(084) 8993-4521    |\n",
      "|318.254.906-51|pereiranicolas@hotmail.com        |YA9I85Wb+2|1945-11-18        |MA    |2023-01-24   |182.195.33.137 |Amarelo     |Consultor De Moda          |(084) 4591 3795    |\n",
      "|610.287.453-62|cardosolivia@ig.com.br            |yXkDW7Ebh*|1915-11-15        |GO    |2023-01-22   |195.194.63.184 |Laranja     |Barbeiro                   |+55 61 8967-9563   |\n",
      "|615.790.842-49|brenda39@ig.com.br                |XS$84Hpsnw|1964-02-01        |RJ    |2023-02-16   |21.252.226.29  |Branco      |Promotor De Vendas         |+55 (021) 4751 2004|\n",
      "|624.095.138-24|luizapeixoto@gmail.com            |TbKy82Kda$|1959-02-01        |DF    |2023-02-25   |105.107.23.13  |Ciano       |Implantodontista           |84 1293 1906       |\n",
      "+--------------+----------------------------------+----------+------------------+------+-------------+---------------+------------+---------------------------+-------------------+\n",
      "only showing top 20 rows\n",
      "\n"
     ]
    }
   ],
   "source": [
    "df.show(20, truncate=0)"
   ]
  },
  {
   "cell_type": "code",
   "execution_count": 6,
   "metadata": {},
   "outputs": [
    {
     "data": {
      "text/html": [
       "<table border='1'>\n",
       "<tr><th>cpf</th><th>email</th><th>senha</th><th>data_de_nascimento</th><th>estado</th><th>data_cadastro</th><th>ipv4</th><th>cor_favorita</th><th>profissao</th><th>telefone</th></tr>\n",
       "<tr><td>981.507.362-12</td><td>pedro-lucas53@gma...</td><td>+7^7E%xFBc</td><td>2006-12-18</td><td>RR</td><td>2023-02-26</td><td>99.107.250.210</td><td>Roxo</td><td>Jogador De Golfe</td><td>31 7785-4046</td></tr>\n",
       "<tr><td>493.705.168-75</td><td>rezendeisaac@hotm...</td><td>_O_2GRnGOe</td><td>1992-06-17</td><td>GO</td><td>2023-02-16</td><td>197.11.26.213</td><td>Ciano</td><td>Atleta De Arremes...</td><td>(031) 0803-6753</td></tr>\n",
       "<tr><td>509.287.143-14</td><td>pmendes@gmail.com</td><td>M+^XDBfe(2</td><td>1938-03-11</td><td>RR</td><td>2023-01-19</td><td>61.234.208.17</td><td>Verde Claro</td><td>Fiscal</td><td>+55 (084) 5940-1932</td></tr>\n",
       "<tr><td>610.287.453-62</td><td>cardosolivia@ig.c...</td><td>yXkDW7Ebh*</td><td>1915-11-15</td><td>GO</td><td>2023-01-22</td><td>195.194.63.184</td><td>Laranja</td><td>Barbeiro</td><td>+55 61 8967-9563</td></tr>\n",
       "<tr><td>170.965.428-76</td><td>qdias@gmail.com</td><td>6z5AgU_##v</td><td>1995-08-17</td><td>GO</td><td>2023-02-02</td><td>197.248.140.141</td><td>Verde</td><td>Auditor</td><td>84 9168 0488</td></tr>\n",
       "<tr><td>807.695.421-58</td><td>joao-guilhermeda-...</td><td>Z^9Og04O*(</td><td>2008-11-04</td><td>GO</td><td>2023-01-06</td><td>45.56.63.111</td><td>Roxo</td><td>Promotor De Eventos</td><td>+55 81 9388-4795</td></tr>\n",
       "<tr><td>607.291.534-52</td><td>maria-julia70@bol...</td><td>@(fO&amp;ei%1e</td><td>1953-08-28</td><td>GO</td><td>2023-01-10</td><td>10.121.107.117</td><td>Azul Escuro</td><td>T&eacute;cnico Em Rede</td><td>(031) 3689 5367</td></tr>\n",
       "<tr><td>041.237.869-87</td><td>dcampos@bol.com.br</td><td>$v0JLNYa#1</td><td>1968-03-29</td><td>GO</td><td>2023-03-11</td><td>71.231.219.114</td><td>Azul Escuro</td><td>Gerente De Vendas</td><td>(041) 4975-8677</td></tr>\n",
       "<tr><td>371.849.256-37</td><td>bsouza@ig.com.br</td><td>y8JpBdaD#)</td><td>1978-04-13</td><td>GO</td><td>2023-02-11</td><td>47.173.23.135</td><td>Marrom</td><td>Mec&acirc;nico</td><td>+55 61 0987 5226</td></tr>\n",
       "<tr><td>907.154.268-85</td><td>bryancampos@ig.co...</td><td>iji*Bp0m(1</td><td>1909-09-29</td><td>RR</td><td>2023-01-23</td><td>78.243.210.49</td><td>Magenta</td><td>Gastr&ocirc;nomo</td><td>+55 (021) 3837 9360</td></tr>\n",
       "<tr><td>932.567.014-34</td><td>caio40@hotmail.com</td><td>2UQ2p)5q@Y</td><td>1986-01-31</td><td>GO</td><td>2023-01-22</td><td>112.23.224.126</td><td>Azul</td><td>Flautista</td><td>+55 (081) 5756-7067</td></tr>\n",
       "<tr><td>723.419.058-97</td><td>joana43@uol.com.br</td><td>vk7R1o#zI!</td><td>1936-01-31</td><td>RR</td><td>2023-02-07</td><td>23.153.28.160</td><td>Azul</td><td>Jogador De Futebol</td><td>0900 150 4170</td></tr>\n",
       "<tr><td>517.264.980-85</td><td>ana-sophiajesus@b...</td><td>w9jTwVpj_r</td><td>2018-01-04</td><td>GO</td><td>2023-01-10</td><td>163.253.182.70</td><td>Amarelo</td><td>Jogador De Boliche</td><td>0800-940-3789</td></tr>\n",
       "<tr><td>603.248.715-62</td><td>franciscoda-cunha...</td><td>h+7L0$mjaA</td><td>1992-10-08</td><td>RR</td><td>2023-02-04</td><td>26.166.234.56</td><td>Cinza</td><td>Regente</td><td>(071) 8308 3783</td></tr>\n",
       "<tr><td>562.479.831-82</td><td>rezendelarissa@ho...</td><td>!6KVzmqd7L</td><td>1985-08-24</td><td>RR</td><td>2023-02-23</td><td>146.16.47.6</td><td>Azul Escuro</td><td>Capit&atilde;o</td><td>+55 71 7296 7623</td></tr>\n",
       "<tr><td>382.475.016-35</td><td>lopesenzo@yahoo.c...</td><td>)4dExFybO5</td><td>1961-09-16</td><td>GO</td><td>2023-01-04</td><td>115.205.238.140</td><td>Amarelo</td><td>Argumentista</td><td>+55 (021) 8133 3501</td></tr>\n",
       "<tr><td>124.387.069-96</td><td>pdas-neves@yahoo....</td><td>3^T9ePTK6w</td><td>1970-11-05</td><td>GO</td><td>2023-02-13</td><td>15.193.25.3</td><td>Azul Escuro</td><td>Agricultor</td><td>(071) 0735 9084</td></tr>\n",
       "<tr><td>916.872.450-02</td><td>renanmartins@bol....</td><td>&amp;R0_tWXgAG</td><td>2006-06-22</td><td>GO</td><td>2023-03-11</td><td>126.156.144.168</td><td>Verde Escuro</td><td>Profissional De C...</td><td>0800-822-9241</td></tr>\n",
       "<tr><td>271.905.486-02</td><td>ana-vitoria77@hot...</td><td>I*Sm2Ozyi$</td><td>2011-04-01</td><td>RR</td><td>2023-01-30</td><td>124.57.122.33</td><td>Amarelo</td><td>M&atilde;e Social</td><td>+55 61 0561 0784</td></tr>\n",
       "<tr><td>624.093.875-00</td><td>maria-fernandacal...</td><td>G3(9eEjO+I</td><td>1941-11-18</td><td>RR</td><td>2023-01-28</td><td>153.235.212.60</td><td>Laranja</td><td>Guarda Roupeiro</td><td>71 9618-5649</td></tr>\n",
       "</table>\n",
       "only showing top 20 rows\n"
      ],
      "text/plain": [
       "+--------------+--------------------+----------+------------------+------+-------------+---------------+------------+--------------------+-------------------+\n",
       "|           cpf|               email|     senha|data_de_nascimento|estado|data_cadastro|           ipv4|cor_favorita|           profissao|           telefone|\n",
       "+--------------+--------------------+----------+------------------+------+-------------+---------------+------------+--------------------+-------------------+\n",
       "|981.507.362-12|pedro-lucas53@gma...|+7^7E%xFBc|        2006-12-18|    RR|   2023-02-26| 99.107.250.210|        Roxo|    Jogador De Golfe|       31 7785-4046|\n",
       "|493.705.168-75|rezendeisaac@hotm...|_O_2GRnGOe|        1992-06-17|    GO|   2023-02-16|  197.11.26.213|       Ciano|Atleta De Arremes...|    (031) 0803-6753|\n",
       "|509.287.143-14|   pmendes@gmail.com|M+^XDBfe(2|        1938-03-11|    RR|   2023-01-19|  61.234.208.17| Verde Claro|              Fiscal|+55 (084) 5940-1932|\n",
       "|610.287.453-62|cardosolivia@ig.c...|yXkDW7Ebh*|        1915-11-15|    GO|   2023-01-22| 195.194.63.184|     Laranja|            Barbeiro|   +55 61 8967-9563|\n",
       "|170.965.428-76|     qdias@gmail.com|6z5AgU_##v|        1995-08-17|    GO|   2023-02-02|197.248.140.141|       Verde|             Auditor|       84 9168 0488|\n",
       "|807.695.421-58|joao-guilhermeda-...|Z^9Og04O*(|        2008-11-04|    GO|   2023-01-06|   45.56.63.111|        Roxo| Promotor De Eventos|   +55 81 9388-4795|\n",
       "|607.291.534-52|maria-julia70@bol...|@(fO&ei%1e|        1953-08-28|    GO|   2023-01-10| 10.121.107.117| Azul Escuro|     Técnico Em Rede|    (031) 3689 5367|\n",
       "|041.237.869-87|  dcampos@bol.com.br|$v0JLNYa#1|        1968-03-29|    GO|   2023-03-11| 71.231.219.114| Azul Escuro|   Gerente De Vendas|    (041) 4975-8677|\n",
       "|371.849.256-37|    bsouza@ig.com.br|y8JpBdaD#)|        1978-04-13|    GO|   2023-02-11|  47.173.23.135|      Marrom|            Mecânico|   +55 61 0987 5226|\n",
       "|907.154.268-85|bryancampos@ig.co...|iji*Bp0m(1|        1909-09-29|    RR|   2023-01-23|  78.243.210.49|     Magenta|          Gastrônomo|+55 (021) 3837 9360|\n",
       "|932.567.014-34|  caio40@hotmail.com|2UQ2p)5q@Y|        1986-01-31|    GO|   2023-01-22| 112.23.224.126|        Azul|           Flautista|+55 (081) 5756-7067|\n",
       "|723.419.058-97|  joana43@uol.com.br|vk7R1o#zI!|        1936-01-31|    RR|   2023-02-07|  23.153.28.160|        Azul|  Jogador De Futebol|      0900 150 4170|\n",
       "|517.264.980-85|ana-sophiajesus@b...|w9jTwVpj_r|        2018-01-04|    GO|   2023-01-10| 163.253.182.70|     Amarelo|  Jogador De Boliche|      0800-940-3789|\n",
       "|603.248.715-62|franciscoda-cunha...|h+7L0$mjaA|        1992-10-08|    RR|   2023-02-04|  26.166.234.56|       Cinza|             Regente|    (071) 8308 3783|\n",
       "|562.479.831-82|rezendelarissa@ho...|!6KVzmqd7L|        1985-08-24|    RR|   2023-02-23|    146.16.47.6| Azul Escuro|             Capitão|   +55 71 7296 7623|\n",
       "|382.475.016-35|lopesenzo@yahoo.c...|)4dExFybO5|        1961-09-16|    GO|   2023-01-04|115.205.238.140|     Amarelo|        Argumentista|+55 (021) 8133 3501|\n",
       "|124.387.069-96|pdas-neves@yahoo....|3^T9ePTK6w|        1970-11-05|    GO|   2023-02-13|    15.193.25.3| Azul Escuro|          Agricultor|    (071) 0735 9084|\n",
       "|916.872.450-02|renanmartins@bol....|&R0_tWXgAG|        2006-06-22|    GO|   2023-03-11|126.156.144.168|Verde Escuro|Profissional De C...|      0800-822-9241|\n",
       "|271.905.486-02|ana-vitoria77@hot...|I*Sm2Ozyi$|        2011-04-01|    RR|   2023-01-30|  124.57.122.33|     Amarelo|          Mãe Social|   +55 61 0561 0784|\n",
       "|624.093.875-00|maria-fernandacal...|G3(9eEjO+I|        1941-11-18|    RR|   2023-01-28| 153.235.212.60|     Laranja|     Guarda Roupeiro|       71 9618-5649|\n",
       "+--------------+--------------------+----------+------------------+------+-------------+---------------+------------+--------------------+-------------------+\n",
       "only showing top 20 rows"
      ]
     },
     "execution_count": 6,
     "metadata": {},
     "output_type": "execute_result"
    }
   ],
   "source": [
    "spark.sql(\n",
    "    '''\n",
    "    SELECT * FROM {tabela}\n",
    "    WHERE estado IN {lista_estados}\n",
    "    '''\n",
    ", tabela = df, lista_estados = ('RR', 'GO'))"
   ]
  },
  {
   "cell_type": "code",
   "execution_count": 7,
   "metadata": {},
   "outputs": [],
   "source": [
    "# outra forma de fazer\n",
    "\n",
    "tabela_sp = df.where(F.col('estado') == 'SP')\n",
    "tabela_rj = df.where(F.col('estado') == 'RJ')"
   ]
  },
  {
   "cell_type": "code",
   "execution_count": 8,
   "metadata": {},
   "outputs": [
    {
     "name": "stderr",
     "output_type": "stream",
     "text": [
      "c:\\Users\\Jeff\\AppData\\Local\\Programs\\Python\\Python311\\Lib\\site-packages\\pyspark\\sql\\dataframe.py:329: FutureWarning: Deprecated in 2.0, use createOrReplaceTempView instead.\n",
      "  warnings.warn(\"Deprecated in 2.0, use createOrReplaceTempView instead.\", FutureWarning)\n"
     ]
    }
   ],
   "source": [
    "# registra como uma tabela para usar em sql\n",
    "tabela_sp.registerTempTable('tabela_sp')\n",
    "tabela_rj.registerTempTable('tabela_rj')"
   ]
  },
  {
   "cell_type": "code",
   "execution_count": 12,
   "metadata": {},
   "outputs": [],
   "source": [
    "df2 = spark.sql('''\n",
    "    SELECT * FROM tabela_sp where email LIKE '%joao%'\n",
    "    UNION ALL\n",
    "    SELECT * FROM tabela_rj where email LIKE '%joao%'\n",
    "    ''')"
   ]
  },
  {
   "cell_type": "code",
   "execution_count": 13,
   "metadata": {},
   "outputs": [
    {
     "data": {
      "text/html": [
       "<table border='1'>\n",
       "<tr><th>cpf</th><th>email</th><th>senha</th><th>data_de_nascimento</th><th>estado</th><th>data_cadastro</th><th>ipv4</th><th>cor_favorita</th><th>profissao</th><th>telefone</th></tr>\n",
       "<tr><td>109.526.374-99</td><td>joaogoncalves@hot...</td><td>@w8Y_Cx_f^</td><td>1959-07-05</td><td>SP</td><td>2023-02-13</td><td>85.12.230.202</td><td>Rosa</td><td>T&eacute;cnico Em Edific...</td><td>+55 (081) 3902 8321</td></tr>\n",
       "</table>\n"
      ],
      "text/plain": [
       "+--------------+--------------------+----------+------------------+------+-------------+-------------+------------+--------------------+-------------------+\n",
       "|           cpf|               email|     senha|data_de_nascimento|estado|data_cadastro|         ipv4|cor_favorita|           profissao|           telefone|\n",
       "+--------------+--------------------+----------+------------------+------+-------------+-------------+------------+--------------------+-------------------+\n",
       "|109.526.374-99|joaogoncalves@hot...|@w8Y_Cx_f^|        1959-07-05|    SP|   2023-02-13|85.12.230.202|        Rosa|Técnico Em Edific...|+55 (081) 3902 8321|\n",
       "+--------------+--------------------+----------+------------------+------+-------------+-------------+------------+--------------------+-------------------+"
      ]
     },
     "execution_count": 13,
     "metadata": {},
     "output_type": "execute_result"
    }
   ],
   "source": [
    "df2.where(F.col('cor_favorita') == 'Rosa')"
   ]
  },
  {
   "cell_type": "code",
   "execution_count": null,
   "metadata": {},
   "outputs": [],
   "source": []
  }
 ],
 "metadata": {
  "kernelspec": {
   "display_name": "Python 3",
   "language": "python",
   "name": "python3"
  },
  "language_info": {
   "codemirror_mode": {
    "name": "ipython",
    "version": 3
   },
   "file_extension": ".py",
   "mimetype": "text/x-python",
   "name": "python",
   "nbconvert_exporter": "python",
   "pygments_lexer": "ipython3",
   "version": "3.11.8"
  }
 },
 "nbformat": 4,
 "nbformat_minor": 2
}
