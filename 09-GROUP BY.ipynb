{
 "cells": [
  {
   "cell_type": "code",
   "execution_count": 2,
   "metadata": {},
   "outputs": [],
   "source": [
    "#Cria sessão Spark\n",
    "from pyspark.sql import SparkSession\n",
    "from pyspark.sql.functions import col\n",
    "import pyspark.sql.functions as F"
   ]
  },
  {
   "cell_type": "code",
   "execution_count": 3,
   "metadata": {},
   "outputs": [],
   "source": [
    "#Instância Spark\n",
    "spark = SparkSession.builder.appName('Curso Pyspark') \\\n",
    "         .config('spark.sql.repl.eagerEval.enabled', True) \\\n",
    "         .getOrCreate()      "
   ]
  },
  {
   "cell_type": "code",
   "execution_count": 4,
   "metadata": {},
   "outputs": [],
   "source": [
    "# lendo um arquivo parquet\n",
    "df = spark.read.parquet('./DATASETS/LOGINS.parquet')"
   ]
  },
  {
   "cell_type": "code",
   "execution_count": 5,
   "metadata": {},
   "outputs": [
    {
     "name": "stdout",
     "output_type": "stream",
     "text": [
      "+--------------+----------------------------------+----------+------------------+------+-------------+---------------+------------+---------------------------+-------------------+\n",
      "|cpf           |email                             |senha     |data_de_nascimento|estado|data_cadastro|ipv4           |cor_favorita|profissao                  |telefone           |\n",
      "+--------------+----------------------------------+----------+------------------+------+-------------+---------------+------------+---------------------------+-------------------+\n",
      "|981.507.362-12|pedro-lucas53@gmail.com           |+7^7E%xFBc|2006-12-18        |RR    |2023-02-26   |99.107.250.210 |Roxo        |Jogador De Golfe           |31 7785-4046       |\n",
      "|493.705.168-75|rezendeisaac@hotmail.com          |_O_2GRnGOe|1992-06-17        |GO    |2023-02-16   |197.11.26.213  |Ciano       |Atleta De Arremesso De Peso|(031) 0803-6753    |\n",
      "|398.471.625-73|felipepires@uol.com.br            |*Aw5EOAvy9|1921-11-11        |MG    |2023-01-02   |181.90.63.58   |Azul        |Papiloscopista             |11 9674-0553       |\n",
      "|092.618.354-06|stellamoraes@bol.com.br           |mw0AWYAs#s|2021-06-01        |AC    |2023-01-08   |26.121.127.94  |Marrom      |Aeromoça                   |+55 (071) 3033 9177|\n",
      "|509.427.136-99|wcarvalho@ig.com.br               |pGD%!2Pq5X|1969-10-28        |AP    |2023-02-14   |76.184.52.163  |Laranja     |Fonoaudiólogo              |+55 (071) 6272 2468|\n",
      "|218.795.460-94|da-conceicaodavi-lucas@hotmail.com|uhBbFxPA&9|1986-05-19        |MG    |2023-03-07   |192.93.0.24    |Rosa        |Taxista                    |+55 84 0652 9691   |\n",
      "|715.836.940-48|efreitas@bol.com.br               |s#q9VZt&xl|2018-04-20        |MG    |2023-01-13   |76.251.188.148 |Branco      |Produtor De Audio Visual   |+55 (084) 1363 0052|\n",
      "|475.698.032-56|wnunes@bol.com.br                 |_8az1W%n7g|1996-05-12        |SE    |2023-02-04   |139.196.176.154|Azul        |Cadeirinha                 |(071) 1640-3388    |\n",
      "|217.639.540-99|jribeiro@bol.com.br               |MEf1X7fj_0|2021-10-05        |PA    |2023-03-02   |71.22.224.5    |Marrom      |Geólogo                    |21 1432 4092       |\n",
      "|261.938.750-77|murilo05@gmail.com                |Te&gO7GkKs|1917-01-05        |MT    |2023-02-21   |136.54.123.165 |Marrom      |Técnico De Som             |+55 (084) 5878-3346|\n",
      "|520.831.796-68|joaquim57@ig.com.br               |&2E1NY+ARc|1912-05-25        |BA    |2023-01-25   |78.196.255.126 |Rosa        |Esteticista                |41 7914-3753       |\n",
      "|413.087.526-44|alexiada-rocha@ig.com.br          |@f@!Z!2c*2|1920-05-26        |MS    |2023-02-18   |182.61.65.201  |Laranja     |Microfonista               |(021) 3739-2944    |\n",
      "|509.287.143-14|pmendes@gmail.com                 |M+^XDBfe(2|1938-03-11        |RR    |2023-01-19   |61.234.208.17  |Verde Claro |Fiscal                     |+55 (084) 5940-1932|\n",
      "|563.170.492-70|renan46@bol.com.br                |Rp%2pVqfe$|1922-09-01        |PA    |2023-02-01   |122.203.83.177 |Verde Escuro|Contabilista               |+55 41 6248 5773   |\n",
      "|098.712.346-78|manuelada-rosa@hotmail.com        |#hEIEOztQ3|2013-01-10        |SE    |2023-01-07   |175.18.73.211  |Violeta     |Seguidor De Compras        |51 0278 0564       |\n",
      "|345.709.261-34|usales@ig.com.br                  |b_8xaY$ozJ|1992-10-16        |AM    |2023-01-05   |97.93.29.75    |Rosa        |Almirante                  |(084) 8993-4521    |\n",
      "|318.254.906-51|pereiranicolas@hotmail.com        |YA9I85Wb+2|1945-11-18        |MA    |2023-01-24   |182.195.33.137 |Amarelo     |Consultor De Moda          |(084) 4591 3795    |\n",
      "|610.287.453-62|cardosolivia@ig.com.br            |yXkDW7Ebh*|1915-11-15        |GO    |2023-01-22   |195.194.63.184 |Laranja     |Barbeiro                   |+55 61 8967-9563   |\n",
      "|615.790.842-49|brenda39@ig.com.br                |XS$84Hpsnw|1964-02-01        |RJ    |2023-02-16   |21.252.226.29  |Branco      |Promotor De Vendas         |+55 (021) 4751 2004|\n",
      "|624.095.138-24|luizapeixoto@gmail.com            |TbKy82Kda$|1959-02-01        |DF    |2023-02-25   |105.107.23.13  |Ciano       |Implantodontista           |84 1293 1906       |\n",
      "+--------------+----------------------------------+----------+------------------+------+-------------+---------------+------------+---------------------------+-------------------+\n",
      "only showing top 20 rows\n",
      "\n"
     ]
    }
   ],
   "source": [
    "df.show(20, False)"
   ]
  },
  {
   "cell_type": "code",
   "execution_count": 10,
   "metadata": {},
   "outputs": [
    {
     "data": {
      "text/html": [
       "<table border='1'>\n",
       "<tr><th>estado</th><th>sum(count)</th></tr>\n",
       "<tr><td>SC</td><td>44</td></tr>\n",
       "<tr><td>RO</td><td>39</td></tr>\n",
       "<tr><td>PI</td><td>35</td></tr>\n",
       "<tr><td>AM</td><td>34</td></tr>\n",
       "<tr><td>RR</td><td>33</td></tr>\n",
       "<tr><td>GO</td><td>45</td></tr>\n",
       "<tr><td>TO</td><td>34</td></tr>\n",
       "<tr><td>MT</td><td>29</td></tr>\n",
       "<tr><td>SP</td><td>49</td></tr>\n",
       "<tr><td>ES</td><td>38</td></tr>\n",
       "<tr><td>PB</td><td>34</td></tr>\n",
       "<tr><td>RS</td><td>39</td></tr>\n",
       "<tr><td>MS</td><td>42</td></tr>\n",
       "<tr><td>AL</td><td>36</td></tr>\n",
       "<tr><td>MG</td><td>46</td></tr>\n",
       "<tr><td>PA</td><td>28</td></tr>\n",
       "<tr><td>BA</td><td>42</td></tr>\n",
       "<tr><td>SE</td><td>44</td></tr>\n",
       "<tr><td>PE</td><td>34</td></tr>\n",
       "<tr><td>CE</td><td>45</td></tr>\n",
       "</table>\n",
       "only showing top 20 rows\n"
      ],
      "text/plain": [
       "+------+----------+\n",
       "|estado|sum(count)|\n",
       "+------+----------+\n",
       "|    SC|        44|\n",
       "|    RO|        39|\n",
       "|    PI|        35|\n",
       "|    AM|        34|\n",
       "|    RR|        33|\n",
       "|    GO|        45|\n",
       "|    TO|        34|\n",
       "|    MT|        29|\n",
       "|    SP|        49|\n",
       "|    ES|        38|\n",
       "|    PB|        34|\n",
       "|    RS|        39|\n",
       "|    MS|        42|\n",
       "|    AL|        36|\n",
       "|    MG|        46|\n",
       "|    PA|        28|\n",
       "|    BA|        42|\n",
       "|    SE|        44|\n",
       "|    PE|        34|\n",
       "|    CE|        45|\n",
       "+------+----------+\n",
       "only showing top 20 rows"
      ]
     },
     "execution_count": 10,
     "metadata": {},
     "output_type": "execute_result"
    }
   ],
   "source": [
    "# reagrupar um agrupamento anterior \n",
    "df.groupBy('estado', 'cor_favorita').count().groupBy('estado').sum('count')"
   ]
  },
  {
   "cell_type": "code",
   "execution_count": 14,
   "metadata": {},
   "outputs": [
    {
     "data": {
      "text/html": [
       "<table border='1'>\n",
       "<tr><th>estado</th><th>max(count)</th></tr>\n",
       "<tr><td>SC</td><td>6</td></tr>\n",
       "<tr><td>RO</td><td>5</td></tr>\n",
       "<tr><td>PI</td><td>6</td></tr>\n",
       "<tr><td>AM</td><td>6</td></tr>\n",
       "<tr><td>RR</td><td>5</td></tr>\n",
       "<tr><td>GO</td><td>6</td></tr>\n",
       "<tr><td>TO</td><td>5</td></tr>\n",
       "<tr><td>MT</td><td>4</td></tr>\n",
       "<tr><td>SP</td><td>7</td></tr>\n",
       "<tr><td>ES</td><td>5</td></tr>\n",
       "<tr><td>PB</td><td>4</td></tr>\n",
       "<tr><td>RS</td><td>5</td></tr>\n",
       "<tr><td>MS</td><td>6</td></tr>\n",
       "<tr><td>AL</td><td>5</td></tr>\n",
       "<tr><td>MG</td><td>7</td></tr>\n",
       "<tr><td>PA</td><td>4</td></tr>\n",
       "<tr><td>BA</td><td>6</td></tr>\n",
       "<tr><td>SE</td><td>6</td></tr>\n",
       "<tr><td>PE</td><td>6</td></tr>\n",
       "<tr><td>CE</td><td>7</td></tr>\n",
       "</table>\n",
       "only showing top 20 rows\n"
      ],
      "text/plain": [
       "+------+----------+\n",
       "|estado|max(count)|\n",
       "+------+----------+\n",
       "|    SC|         6|\n",
       "|    RO|         5|\n",
       "|    PI|         6|\n",
       "|    AM|         6|\n",
       "|    RR|         5|\n",
       "|    GO|         6|\n",
       "|    TO|         5|\n",
       "|    MT|         4|\n",
       "|    SP|         7|\n",
       "|    ES|         5|\n",
       "|    PB|         4|\n",
       "|    RS|         5|\n",
       "|    MS|         6|\n",
       "|    AL|         5|\n",
       "|    MG|         7|\n",
       "|    PA|         4|\n",
       "|    BA|         6|\n",
       "|    SE|         6|\n",
       "|    PE|         6|\n",
       "|    CE|         7|\n",
       "+------+----------+\n",
       "only showing top 20 rows"
      ]
     },
     "execution_count": 14,
     "metadata": {},
     "output_type": "execute_result"
    }
   ],
   "source": [
    "# tirando a media\n",
    "\n",
    "# df.groupBy('estado', 'cor_favorita').count().groupBy('estado').avg('count')\n",
    "\n",
    "# maior valor\n",
    "df.groupBy('estado', 'cor_favorita').count().groupBy('estado').max('count')\n",
    "\n",
    "# menor valor\n",
    "# df.groupBy('estado', 'cor_favorita').count().groupBy('estado').min('count')\n",
    "\n"
   ]
  },
  {
   "cell_type": "code",
   "execution_count": 16,
   "metadata": {},
   "outputs": [
    {
     "data": {
      "text/html": [
       "<table border='1'>\n",
       "<tr><th>year(data_de_nascimento)</th><th>count</th></tr>\n",
       "<tr><td>1959</td><td>8</td></tr>\n",
       "<tr><td>1990</td><td>7</td></tr>\n",
       "<tr><td>1975</td><td>7</td></tr>\n",
       "<tr><td>1977</td><td>5</td></tr>\n",
       "<tr><td>1924</td><td>9</td></tr>\n",
       "<tr><td>2003</td><td>7</td></tr>\n",
       "<tr><td>2007</td><td>12</td></tr>\n",
       "<tr><td>2018</td><td>13</td></tr>\n",
       "<tr><td>1974</td><td>7</td></tr>\n",
       "<tr><td>2015</td><td>9</td></tr>\n",
       "<tr><td>2023</td><td>2</td></tr>\n",
       "<tr><td>1927</td><td>6</td></tr>\n",
       "<tr><td>1955</td><td>13</td></tr>\n",
       "<tr><td>2006</td><td>14</td></tr>\n",
       "<tr><td>2022</td><td>9</td></tr>\n",
       "<tr><td>1978</td><td>6</td></tr>\n",
       "<tr><td>1908</td><td>8</td></tr>\n",
       "<tr><td>1925</td><td>7</td></tr>\n",
       "<tr><td>1961</td><td>7</td></tr>\n",
       "<tr><td>2013</td><td>9</td></tr>\n",
       "</table>\n",
       "only showing top 20 rows\n"
      ],
      "text/plain": [
       "+------------------------+-----+\n",
       "|year(data_de_nascimento)|count|\n",
       "+------------------------+-----+\n",
       "|                    1959|    8|\n",
       "|                    1990|    7|\n",
       "|                    1975|    7|\n",
       "|                    1977|    5|\n",
       "|                    1924|    9|\n",
       "|                    2003|    7|\n",
       "|                    2007|   12|\n",
       "|                    2018|   13|\n",
       "|                    1974|    7|\n",
       "|                    2015|    9|\n",
       "|                    2023|    2|\n",
       "|                    1927|    6|\n",
       "|                    1955|   13|\n",
       "|                    2006|   14|\n",
       "|                    2022|    9|\n",
       "|                    1978|    6|\n",
       "|                    1908|    8|\n",
       "|                    1925|    7|\n",
       "|                    1961|    7|\n",
       "|                    2013|    9|\n",
       "+------------------------+-----+\n",
       "only showing top 20 rows"
      ]
     },
     "execution_count": 16,
     "metadata": {},
     "output_type": "execute_result"
    }
   ],
   "source": [
    "# o ano de cada data de nascimento contando a quantidade de registros\n",
    "\n",
    "df.groupBy(F.year('data_de_nascimento')).count()"
   ]
  },
  {
   "cell_type": "code",
   "execution_count": null,
   "metadata": {},
   "outputs": [],
   "source": []
  }
 ],
 "metadata": {
  "kernelspec": {
   "display_name": "Python 3",
   "language": "python",
   "name": "python3"
  },
  "language_info": {
   "codemirror_mode": {
    "name": "ipython",
    "version": 3
   },
   "file_extension": ".py",
   "mimetype": "text/x-python",
   "name": "python",
   "nbconvert_exporter": "python",
   "pygments_lexer": "ipython3",
   "version": "3.11.8"
  }
 },
 "nbformat": 4,
 "nbformat_minor": 2
}
