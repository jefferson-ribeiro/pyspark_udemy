{
 "cells": [
  {
   "cell_type": "code",
   "execution_count": 9,
   "metadata": {},
   "outputs": [],
   "source": [
    "#Cria sessão Spark\n",
    "from pyspark.sql import SparkSession\n",
    "from pyspark.sql.functions import col"
   ]
  },
  {
   "cell_type": "code",
   "execution_count": 11,
   "metadata": {},
   "outputs": [],
   "source": [
    "#Instância Spark\n",
    "spark = SparkSession.builder.appName('Curso Pyspark') \\\n",
    "         .config('spark.sql.repl.eagerEval.enabled', True) \\\n",
    "         .getOrCreate()      "
   ]
  },
  {
   "cell_type": "code",
   "execution_count": 12,
   "metadata": {},
   "outputs": [],
   "source": [
    "# lendo um arquivo parquet\n",
    "df = spark.read.parquet('./DATASETS/LOGINS.parquet')"
   ]
  },
  {
   "cell_type": "code",
   "execution_count": 14,
   "metadata": {},
   "outputs": [
    {
     "data": {
      "text/html": [
       "<table border='1'>\n",
       "<tr><th>cpf</th><th>email</th><th>senha</th><th>data_de_nascimento</th><th>estado</th><th>data_cadastro</th><th>ipv4</th><th>cor_favorita</th><th>profissao</th><th>telefone</th></tr>\n",
       "<tr><td>398.471.625-73</td><td>felipepires@uol.c...</td><td>*Aw5EOAvy9</td><td>1921-11-11</td><td>MG</td><td>2023-01-02</td><td>181.90.63.58</td><td>Azul</td><td>Papiloscopista</td><td>11 9674-0553</td></tr>\n",
       "<tr><td>218.795.460-94</td><td>da-conceicaodavi-...</td><td>uhBbFxPA&amp;9</td><td>1986-05-19</td><td>MG</td><td>2023-03-07</td><td>192.93.0.24</td><td>Rosa</td><td>Taxista</td><td>+55 84 0652 9691</td></tr>\n",
       "<tr><td>715.836.940-48</td><td>efreitas@bol.com.br</td><td>s#q9VZt&amp;xl</td><td>2018-04-20</td><td>MG</td><td>2023-01-13</td><td>76.251.188.148</td><td>Branco</td><td>Produtor De Audio...</td><td>+55 (084) 1363 0052</td></tr>\n",
       "<tr><td>348.215.690-51</td><td>omoreira@bol.com.br</td><td>!8maDkdVnY</td><td>2008-10-24</td><td>MG</td><td>2023-02-20</td><td>177.2.242.176</td><td>Verde Escuro</td><td>Adestrador De Ani...</td><td>+55 61 3217-9930</td></tr>\n",
       "<tr><td>137.964.520-43</td><td>natalia72@ig.com.br</td><td>i71MdCj2*^</td><td>1939-06-26</td><td>MG</td><td>2023-02-03</td><td>141.28.225.40</td><td>Branco</td><td>Espeleologista</td><td>(041) 8471 8007</td></tr>\n",
       "<tr><td>790.482.315-23</td><td>noaharagao@hotmai...</td><td>#i_LhbOX52</td><td>1922-03-19</td><td>MG</td><td>2023-01-25</td><td>170.188.237.119</td><td>Preto</td><td>Empacotador</td><td>+55 (031) 9156-3903</td></tr>\n",
       "<tr><td>872.041.936-87</td><td>fsilva@yahoo.com.br</td><td>B+E9r_CkU^</td><td>1926-05-20</td><td>MG</td><td>2023-01-04</td><td>220.1.100.77</td><td>Marrom</td><td>Mec&acirc;nico De V&ocirc;o</td><td>(031) 9834-4568</td></tr>\n",
       "<tr><td>832.714.650-53</td><td>ijesus@gmail.com</td><td>JLr@1Mlr!Z</td><td>1983-05-21</td><td>MG</td><td>2023-01-25</td><td>84.142.120.51</td><td>Roxo</td><td>Ministro</td><td>81 9463-7374</td></tr>\n",
       "<tr><td>529.610.873-68</td><td>barbosajuliana@bo...</td><td>$!3Td!uO%^</td><td>2016-09-03</td><td>MG</td><td>2023-02-15</td><td>85.36.21.190</td><td>Amarelo</td><td>Lenhador</td><td>(061) 3713 1708</td></tr>\n",
       "<tr><td>198.256.734-19</td><td>valentina08@ig.co...</td><td>@BJV)ATd!8</td><td>1962-01-11</td><td>MG</td><td>2023-02-23</td><td>4.122.66.211</td><td>Verde</td><td>Atu&aacute;rio</td><td>71 4313-7632</td></tr>\n",
       "<tr><td>568.037.192-86</td><td>correiabreno@uol....</td><td>+7Msf8JW$)</td><td>1979-04-29</td><td>MG</td><td>2023-01-16</td><td>94.151.189.72</td><td>Roxo</td><td>Guia Turistico</td><td>61 5868-4411</td></tr>\n",
       "<tr><td>915.074.832-79</td><td>jnunes@ig.com.br</td><td>$Z1&amp;Su4H+k</td><td>1917-09-13</td><td>MG</td><td>2023-01-28</td><td>68.252.77.213</td><td>Rosa</td><td>Chaveiro</td><td>0800-497-4568</td></tr>\n",
       "<tr><td>512.346.879-09</td><td>santosmiguel@bol....</td><td>3qYeSpr2$i</td><td>1948-11-14</td><td>MG</td><td>2023-01-02</td><td>23.111.181.66</td><td>Roxo</td><td>Mec&acirc;nico</td><td>(051) 0292-9648</td></tr>\n",
       "<tr><td>012.469.857-30</td><td>diasrebeca@uol.co...</td><td>E%0%8VUeID</td><td>1936-03-01</td><td>MG</td><td>2023-02-18</td><td>172.155.210.224</td><td>Cinza</td><td>Engenheiro De Aqu...</td><td>(041) 9158 0476</td></tr>\n",
       "<tr><td>032.548.967-00</td><td>rochaagatha@uol.c...</td><td>azXJMV)0*2</td><td>1995-03-04</td><td>MG</td><td>2023-02-09</td><td>2.55.79.36</td><td>Laranja</td><td>Odontologista Pre...</td><td>31 5789 4432</td></tr>\n",
       "<tr><td>863.051.924-05</td><td>pintoryan@uol.com.br</td><td>P5jNqf8U*^</td><td>1932-10-30</td><td>MG</td><td>2023-03-01</td><td>139.5.71.51</td><td>Branco</td><td>Odontopediatra</td><td>31 5503 6600</td></tr>\n",
       "<tr><td>706.135.948-00</td><td>ana-vitoriafernan...</td><td>ye!oooXy$0</td><td>1935-05-09</td><td>MG</td><td>2023-02-11</td><td>103.28.141.203</td><td>Amarelo</td><td>Cientista De Alim...</td><td>71 0827-8838</td></tr>\n",
       "<tr><td>513.780.269-77</td><td>kaiqueda-cunha@bo...</td><td>gtn&amp;GsT^^5</td><td>1984-01-17</td><td>MG</td><td>2023-03-08</td><td>218.106.248.244</td><td>Verde Escuro</td><td>Taxidermista/Emba...</td><td>+55 (021) 9610-2123</td></tr>\n",
       "<tr><td>829.617.354-91</td><td>diegojesus@gmail.com</td><td>M6yxjF!w^G</td><td>2017-04-10</td><td>MG</td><td>2023-01-09</td><td>6.1.173.123</td><td>Violeta</td><td>Empres&aacute;rio</td><td>(041) 3905-6942</td></tr>\n",
       "<tr><td>068.234.915-15</td><td>stephany16@yahoo....</td><td>R7GnyM+M(w</td><td>1969-09-13</td><td>MG</td><td>2023-01-09</td><td>139.126.79.210</td><td>Azul Escuro</td><td>Adestrador De Ani...</td><td>31 3341 1801</td></tr>\n",
       "</table>\n",
       "only showing top 20 rows\n"
      ],
      "text/plain": [
       "+--------------+--------------------+----------+------------------+------+-------------+---------------+------------+--------------------+-------------------+\n",
       "|           cpf|               email|     senha|data_de_nascimento|estado|data_cadastro|           ipv4|cor_favorita|           profissao|           telefone|\n",
       "+--------------+--------------------+----------+------------------+------+-------------+---------------+------------+--------------------+-------------------+\n",
       "|398.471.625-73|felipepires@uol.c...|*Aw5EOAvy9|        1921-11-11|    MG|   2023-01-02|   181.90.63.58|        Azul|      Papiloscopista|       11 9674-0553|\n",
       "|218.795.460-94|da-conceicaodavi-...|uhBbFxPA&9|        1986-05-19|    MG|   2023-03-07|    192.93.0.24|        Rosa|             Taxista|   +55 84 0652 9691|\n",
       "|715.836.940-48| efreitas@bol.com.br|s#q9VZt&xl|        2018-04-20|    MG|   2023-01-13| 76.251.188.148|      Branco|Produtor De Audio...|+55 (084) 1363 0052|\n",
       "|348.215.690-51| omoreira@bol.com.br|!8maDkdVnY|        2008-10-24|    MG|   2023-02-20|  177.2.242.176|Verde Escuro|Adestrador De Ani...|   +55 61 3217-9930|\n",
       "|137.964.520-43| natalia72@ig.com.br|i71MdCj2*^|        1939-06-26|    MG|   2023-02-03|  141.28.225.40|      Branco|      Espeleologista|    (041) 8471 8007|\n",
       "|790.482.315-23|noaharagao@hotmai...|#i_LhbOX52|        1922-03-19|    MG|   2023-01-25|170.188.237.119|       Preto|         Empacotador|+55 (031) 9156-3903|\n",
       "|872.041.936-87| fsilva@yahoo.com.br|B+E9r_CkU^|        1926-05-20|    MG|   2023-01-04|   220.1.100.77|      Marrom|     Mecânico De Vôo|    (031) 9834-4568|\n",
       "|832.714.650-53|    ijesus@gmail.com|JLr@1Mlr!Z|        1983-05-21|    MG|   2023-01-25|  84.142.120.51|        Roxo|            Ministro|       81 9463-7374|\n",
       "|529.610.873-68|barbosajuliana@bo...|$!3Td!uO%^|        2016-09-03|    MG|   2023-02-15|   85.36.21.190|     Amarelo|            Lenhador|    (061) 3713 1708|\n",
       "|198.256.734-19|valentina08@ig.co...|@BJV)ATd!8|        1962-01-11|    MG|   2023-02-23|   4.122.66.211|       Verde|             Atuário|       71 4313-7632|\n",
       "|568.037.192-86|correiabreno@uol....|+7Msf8JW$)|        1979-04-29|    MG|   2023-01-16|  94.151.189.72|        Roxo|      Guia Turistico|       61 5868-4411|\n",
       "|915.074.832-79|    jnunes@ig.com.br|$Z1&Su4H+k|        1917-09-13|    MG|   2023-01-28|  68.252.77.213|        Rosa|            Chaveiro|      0800-497-4568|\n",
       "|512.346.879-09|santosmiguel@bol....|3qYeSpr2$i|        1948-11-14|    MG|   2023-01-02|  23.111.181.66|        Roxo|            Mecânico|    (051) 0292-9648|\n",
       "|012.469.857-30|diasrebeca@uol.co...|E%0%8VUeID|        1936-03-01|    MG|   2023-02-18|172.155.210.224|       Cinza|Engenheiro De Aqu...|    (041) 9158 0476|\n",
       "|032.548.967-00|rochaagatha@uol.c...|azXJMV)0*2|        1995-03-04|    MG|   2023-02-09|     2.55.79.36|     Laranja|Odontologista Pre...|       31 5789 4432|\n",
       "|863.051.924-05|pintoryan@uol.com.br|P5jNqf8U*^|        1932-10-30|    MG|   2023-03-01|    139.5.71.51|      Branco|      Odontopediatra|       31 5503 6600|\n",
       "|706.135.948-00|ana-vitoriafernan...|ye!oooXy$0|        1935-05-09|    MG|   2023-02-11| 103.28.141.203|     Amarelo|Cientista De Alim...|       71 0827-8838|\n",
       "|513.780.269-77|kaiqueda-cunha@bo...|gtn&GsT^^5|        1984-01-17|    MG|   2023-03-08|218.106.248.244|Verde Escuro|Taxidermista/Emba...|+55 (021) 9610-2123|\n",
       "|829.617.354-91|diegojesus@gmail.com|M6yxjF!w^G|        2017-04-10|    MG|   2023-01-09|    6.1.173.123|     Violeta|          Empresário|    (041) 3905-6942|\n",
       "|068.234.915-15|stephany16@yahoo....|R7GnyM+M(w|        1969-09-13|    MG|   2023-01-09| 139.126.79.210| Azul Escuro|Adestrador De Ani...|       31 3341 1801|\n",
       "+--------------+--------------------+----------+------------------+------+-------------+---------------+------------+--------------------+-------------------+\n",
       "only showing top 20 rows"
      ]
     },
     "execution_count": 14,
     "metadata": {},
     "output_type": "execute_result"
    }
   ],
   "source": [
    "# df.filter(df.estado == 'MG')\n",
    "\n",
    "# Seleção como string (reconhece como comando SQL usar somente um '=')\n",
    "# df.filter(\"estado = 'MG'\")\n",
    "\n",
    "# Seleção especificando a coluna\n",
    "df.filter(df['estado'] == 'MG')\n"
   ]
  },
  {
   "cell_type": "code",
   "execution_count": 17,
   "metadata": {},
   "outputs": [
    {
     "data": {
      "text/html": [
       "<table border='1'>\n",
       "<tr><th>cpf</th><th>email</th><th>senha</th><th>data_de_nascimento</th><th>estado</th><th>data_cadastro</th><th>ipv4</th><th>cor_favorita</th><th>profissao</th><th>telefone</th></tr>\n",
       "<tr><td>398.471.625-73</td><td>felipepires@uol.c...</td><td>*Aw5EOAvy9</td><td>1921-11-11</td><td>MG</td><td>2023-01-02</td><td>181.90.63.58</td><td>Azul</td><td>Papiloscopista</td><td>11 9674-0553</td></tr>\n",
       "<tr><td>085.427.631-90</td><td>pedro-lucas79@yah...</td><td>B)9P4q+tLR</td><td>1944-03-01</td><td>MG</td><td>2023-01-06</td><td>171.175.90.138</td><td>Azul</td><td>Tecn&oacute;logo Em Espo...</td><td>+55 (081) 4438 9837</td></tr>\n",
       "<tr><td>940.578.623-74</td><td>fernandolopes@yah...</td><td>DE5Il)Thu*</td><td>1945-04-04</td><td>MG</td><td>2023-03-09</td><td>211.163.192.56</td><td>Azul</td><td>Tenente</td><td>0300-025-4031</td></tr>\n",
       "</table>\n"
      ],
      "text/plain": [
       "+--------------+--------------------+----------+------------------+------+-------------+--------------+------------+--------------------+-------------------+\n",
       "|           cpf|               email|     senha|data_de_nascimento|estado|data_cadastro|          ipv4|cor_favorita|           profissao|           telefone|\n",
       "+--------------+--------------------+----------+------------------+------+-------------+--------------+------------+--------------------+-------------------+\n",
       "|398.471.625-73|felipepires@uol.c...|*Aw5EOAvy9|        1921-11-11|    MG|   2023-01-02|  181.90.63.58|        Azul|      Papiloscopista|       11 9674-0553|\n",
       "|085.427.631-90|pedro-lucas79@yah...|B)9P4q+tLR|        1944-03-01|    MG|   2023-01-06|171.175.90.138|        Azul|Tecnólogo Em Espo...|+55 (081) 4438 9837|\n",
       "|940.578.623-74|fernandolopes@yah...|DE5Il)Thu*|        1945-04-04|    MG|   2023-03-09|211.163.192.56|        Azul|             Tenente|      0300-025-4031|\n",
       "+--------------+--------------------+----------+------------------+------+-------------+--------------+------------+--------------------+-------------------+"
      ]
     },
     "execution_count": 17,
     "metadata": {},
     "output_type": "execute_result"
    }
   ],
   "source": [
    "# Usando a combinação de duas condições\n",
    "# df.filter((df.estado == 'MG') & (df.cor_favorita == 'Azul'))\n",
    "\n",
    "#Ou\n",
    "df.filter(df.estado == 'MG').filter(df.cor_favorita == 'Azul')\n"
   ]
  },
  {
   "cell_type": "code",
   "execution_count": 21,
   "metadata": {},
   "outputs": [
    {
     "data": {
      "text/html": [
       "<table border='1'>\n",
       "<tr><th>cpf</th><th>email</th><th>senha</th><th>data_de_nascimento</th><th>estado</th><th>data_cadastro</th><th>ipv4</th><th>cor_favorita</th><th>profissao</th><th>telefone</th></tr>\n",
       "<tr><td>493.705.168-75</td><td>rezendeisaac@hotm...</td><td>_O_2GRnGOe</td><td>1992-06-17</td><td>GO</td><td>2023-02-16</td><td>197.11.26.213</td><td>Ciano</td><td>Atleta De Arremes...</td><td>(031) 0803-6753</td></tr>\n",
       "<tr><td>932.567.014-34</td><td>caio40@hotmail.com</td><td>2UQ2p)5q@Y</td><td>1986-01-31</td><td>GO</td><td>2023-01-22</td><td>112.23.224.126</td><td>Azul</td><td>Flautista</td><td>+55 (081) 5756-7067</td></tr>\n",
       "<tr><td>637.908.241-78</td><td>bryan63@hotmail.com</td><td>$p1S(oOcWT</td><td>1918-04-15</td><td>GO</td><td>2023-01-01</td><td>7.237.214.222</td><td>Ciano</td><td>Toxicologista</td><td>(011) 3987-4490</td></tr>\n",
       "<tr><td>127.804.593-79</td><td>ana-liviaviana@ho...</td><td>w2Q#2e(y!Q</td><td>1990-02-03</td><td>GO</td><td>2023-02-03</td><td>20.172.206.83</td><td>Ciano</td><td>Prot&eacute;tico Dent&aacute;rio</td><td>+55 71 3351-1224</td></tr>\n",
       "<tr><td>216.357.809-77</td><td>luigigoncalves@gm...</td><td>Sm3lTSzF*R</td><td>1958-12-22</td><td>GO</td><td>2023-01-24</td><td>139.190.205.166</td><td>Ciano</td><td>Engenheiro De Pro...</td><td>71 6561 6585</td></tr>\n",
       "<tr><td>048.596.317-57</td><td>mpinto@uol.com.br</td><td>&amp;4ZXAmjVkS</td><td>2020-12-24</td><td>GO</td><td>2023-02-27</td><td>163.222.27.6</td><td>Ciano</td><td>Odontopediatra</td><td>71 4327-1261</td></tr>\n",
       "</table>\n"
      ],
      "text/plain": [
       "+--------------+--------------------+----------+------------------+------+-------------+---------------+------------+--------------------+-------------------+\n",
       "|           cpf|               email|     senha|data_de_nascimento|estado|data_cadastro|           ipv4|cor_favorita|           profissao|           telefone|\n",
       "+--------------+--------------------+----------+------------------+------+-------------+---------------+------------+--------------------+-------------------+\n",
       "|493.705.168-75|rezendeisaac@hotm...|_O_2GRnGOe|        1992-06-17|    GO|   2023-02-16|  197.11.26.213|       Ciano|Atleta De Arremes...|    (031) 0803-6753|\n",
       "|932.567.014-34|  caio40@hotmail.com|2UQ2p)5q@Y|        1986-01-31|    GO|   2023-01-22| 112.23.224.126|        Azul|           Flautista|+55 (081) 5756-7067|\n",
       "|637.908.241-78| bryan63@hotmail.com|$p1S(oOcWT|        1918-04-15|    GO|   2023-01-01|  7.237.214.222|       Ciano|       Toxicologista|    (011) 3987-4490|\n",
       "|127.804.593-79|ana-liviaviana@ho...|w2Q#2e(y!Q|        1990-02-03|    GO|   2023-02-03|  20.172.206.83|       Ciano|  Protético Dentário|   +55 71 3351-1224|\n",
       "|216.357.809-77|luigigoncalves@gm...|Sm3lTSzF*R|        1958-12-22|    GO|   2023-01-24|139.190.205.166|       Ciano|Engenheiro De Pro...|       71 6561 6585|\n",
       "|048.596.317-57|   mpinto@uol.com.br|&4ZXAmjVkS|        2020-12-24|    GO|   2023-02-27|   163.222.27.6|       Ciano|      Odontopediatra|       71 4327-1261|\n",
       "+--------------+--------------------+----------+------------------+------+-------------+---------------+------------+--------------------+-------------------+"
      ]
     },
     "execution_count": 21,
     "metadata": {},
     "output_type": "execute_result"
    }
   ],
   "source": [
    "# condição uma ou outra\n",
    "# df.filter((df.cor_favorita == 'Ciano') | (df.cor_favorita == 'Azul'))\n",
    "\n",
    "# ou assim quando for opções da mesma coluna\n",
    "# pode ser usado filter ou where que é o mesmo efeito\n",
    "\n",
    "# df.filter(df.cor_favorita.isin('Ciano', 'Azul'))\n",
    "\n",
    "df.where(df.cor_favorita.isin('Ciano', 'Azul')).filter(df.estado == 'GO')"
   ]
  },
  {
   "cell_type": "code",
   "execution_count": 22,
   "metadata": {},
   "outputs": [],
   "source": [
    "import pyspark.sql.functions as F"
   ]
  },
  {
   "cell_type": "code",
   "execution_count": 30,
   "metadata": {},
   "outputs": [
    {
     "data": {
      "text/html": [
       "<table border='1'>\n",
       "<tr><th>cpf</th><th>email</th><th>senha</th><th>data_de_nascimento</th><th>estado</th><th>data_cadastro</th><th>ipv4</th><th>cor_favorita</th><th>profissao</th><th>telefone</th></tr>\n",
       "<tr><td>940.578.623-74</td><td>fernandolopes@yah...</td><td>DE5Il)Thu*</td><td>1945-04-04</td><td>MG</td><td>2023-03-09</td><td>211.163.192.56</td><td>Azul</td><td>Tenente</td><td>0300-025-4031</td></tr>\n",
       "</table>\n"
      ],
      "text/plain": [
       "+--------------+--------------------+----------+------------------+------+-------------+--------------+------------+---------+-------------+\n",
       "|           cpf|               email|     senha|data_de_nascimento|estado|data_cadastro|          ipv4|cor_favorita|profissao|     telefone|\n",
       "+--------------+--------------------+----------+------------------+------+-------------+--------------+------------+---------+-------------+\n",
       "|940.578.623-74|fernandolopes@yah...|DE5Il)Thu*|        1945-04-04|    MG|   2023-03-09|211.163.192.56|        Azul|  Tenente|0300-025-4031|\n",
       "+--------------+--------------------+----------+------------------+------+-------------+--------------+------------+---------+-------------+"
      ]
     },
     "execution_count": 30,
     "metadata": {},
     "output_type": "execute_result"
    }
   ],
   "source": [
    "# para escrever o código em várias linhas sequenciais pode colocar tudo entre parentes\n",
    "# ou se quiser pode utilizar \\ (barra invertida) mas nesse caso as linhas precisam ser sequenciais\n",
    "\n",
    "# df\\\n",
    "# .where(F.col('estado') == 'MG')\\\n",
    "# .where(F.col('cor_favorita') == 'Azul')\\\n",
    "# .where(F.col('profissao') == 'Tenente')\n",
    "\n",
    "\n",
    "(\n",
    "    df\n",
    "    .where(F.col('estado') == 'MG')\n",
    "    # .where(F.col('cor_favorita') == 'Azul')\n",
    "    .where(F.col('profissao') == 'Tenente')\n",
    ")"
   ]
  },
  {
   "cell_type": "code",
   "execution_count": null,
   "metadata": {},
   "outputs": [],
   "source": []
  }
 ],
 "metadata": {
  "kernelspec": {
   "display_name": "Python 3",
   "language": "python",
   "name": "python3"
  },
  "language_info": {
   "codemirror_mode": {
    "name": "ipython",
    "version": 3
   },
   "file_extension": ".py",
   "mimetype": "text/x-python",
   "name": "python",
   "nbconvert_exporter": "python",
   "pygments_lexer": "ipython3",
   "version": "3.11.8"
  }
 },
 "nbformat": 4,
 "nbformat_minor": 2
}
