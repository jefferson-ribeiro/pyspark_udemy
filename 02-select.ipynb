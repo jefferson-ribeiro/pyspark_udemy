{
 "cells": [
  {
   "cell_type": "code",
   "execution_count": null,
   "metadata": {},
   "outputs": [],
   "source": [
    "#Cria sessão Spark\n",
    "from pyspark.sql import SparkSession"
   ]
  },
  {
   "cell_type": "code",
   "execution_count": null,
   "metadata": {},
   "outputs": [],
   "source": [
    "#Instância Spark\n",
    "spark = SparkSession.builder.appName('Curso Pyspark') \\\n",
    "         .config('spark.sql.repl.eagerEval.enabled', True) \\\n",
    "         .getOrCreate()      "
   ]
  },
  {
   "cell_type": "code",
   "execution_count": null,
   "metadata": {},
   "outputs": [],
   "source": [
    "# lendo um arquivo parquet\n",
    "df_parquet = spark.read.parquet('./DATASETS/LOGINS.parquet')"
   ]
  },
  {
   "cell_type": "code",
   "execution_count": null,
   "metadata": {},
   "outputs": [],
   "source": [
    "# selecionando colunas\n",
    "df_parquet.select('email','senha')"
   ]
  },
  {
   "cell_type": "code",
   "execution_count": null,
   "metadata": {},
   "outputs": [],
   "source": [
    "# selecionando como objetos\n",
    "df_parquet.select(df_parquet.cpf,'senha')"
   ]
  },
  {
   "cell_type": "code",
   "execution_count": null,
   "metadata": {},
   "outputs": [],
   "source": [
    "# selecionando como lista\n",
    "df_parquet.select(df_parquet['ipv4'])"
   ]
  },
  {
   "cell_type": "code",
   "execution_count": 8,
   "metadata": {},
   "outputs": [],
   "source": [
    "from pyspark.sql.functions import col"
   ]
  },
  {
   "cell_type": "code",
   "execution_count": 9,
   "metadata": {},
   "outputs": [],
   "source": [
    "import pyspark.sql.functions as F"
   ]
  },
  {
   "cell_type": "code",
   "execution_count": 12,
   "metadata": {},
   "outputs": [
    {
     "data": {
      "text/html": [
       "<table border='1'>\n",
       "<tr><th>data_cadastro</th><th>data_de_nascimento</th></tr>\n",
       "<tr><td>2023-02-26</td><td>2006-12-18</td></tr>\n",
       "<tr><td>2023-02-16</td><td>1992-06-17</td></tr>\n",
       "<tr><td>2023-01-02</td><td>1921-11-11</td></tr>\n",
       "<tr><td>2023-01-08</td><td>2021-06-01</td></tr>\n",
       "<tr><td>2023-02-14</td><td>1969-10-28</td></tr>\n",
       "<tr><td>2023-03-07</td><td>1986-05-19</td></tr>\n",
       "<tr><td>2023-01-13</td><td>2018-04-20</td></tr>\n",
       "<tr><td>2023-02-04</td><td>1996-05-12</td></tr>\n",
       "<tr><td>2023-03-02</td><td>2021-10-05</td></tr>\n",
       "<tr><td>2023-02-21</td><td>1917-01-05</td></tr>\n",
       "<tr><td>2023-01-25</td><td>1912-05-25</td></tr>\n",
       "<tr><td>2023-02-18</td><td>1920-05-26</td></tr>\n",
       "<tr><td>2023-01-19</td><td>1938-03-11</td></tr>\n",
       "<tr><td>2023-02-01</td><td>1922-09-01</td></tr>\n",
       "<tr><td>2023-01-07</td><td>2013-01-10</td></tr>\n",
       "<tr><td>2023-01-05</td><td>1992-10-16</td></tr>\n",
       "<tr><td>2023-01-24</td><td>1945-11-18</td></tr>\n",
       "<tr><td>2023-01-22</td><td>1915-11-15</td></tr>\n",
       "<tr><td>2023-02-16</td><td>1964-02-01</td></tr>\n",
       "<tr><td>2023-02-25</td><td>1959-02-01</td></tr>\n",
       "</table>\n",
       "only showing top 20 rows\n"
      ],
      "text/plain": [
       "+-------------+------------------+\n",
       "|data_cadastro|data_de_nascimento|\n",
       "+-------------+------------------+\n",
       "|   2023-02-26|        2006-12-18|\n",
       "|   2023-02-16|        1992-06-17|\n",
       "|   2023-01-02|        1921-11-11|\n",
       "|   2023-01-08|        2021-06-01|\n",
       "|   2023-02-14|        1969-10-28|\n",
       "|   2023-03-07|        1986-05-19|\n",
       "|   2023-01-13|        2018-04-20|\n",
       "|   2023-02-04|        1996-05-12|\n",
       "|   2023-03-02|        2021-10-05|\n",
       "|   2023-02-21|        1917-01-05|\n",
       "|   2023-01-25|        1912-05-25|\n",
       "|   2023-02-18|        1920-05-26|\n",
       "|   2023-01-19|        1938-03-11|\n",
       "|   2023-02-01|        1922-09-01|\n",
       "|   2023-01-07|        2013-01-10|\n",
       "|   2023-01-05|        1992-10-16|\n",
       "|   2023-01-24|        1945-11-18|\n",
       "|   2023-01-22|        1915-11-15|\n",
       "|   2023-02-16|        1964-02-01|\n",
       "|   2023-02-25|        1959-02-01|\n",
       "+-------------+------------------+\n",
       "only showing top 20 rows"
      ]
     },
     "execution_count": 12,
     "metadata": {},
     "output_type": "execute_result"
    }
   ],
   "source": [
    "df_parquet.select(col('data_cadastro'), F.col('data_de_nascimento'))"
   ]
  },
  {
   "cell_type": "code",
   "execution_count": 13,
   "metadata": {},
   "outputs": [
    {
     "data": {
      "text/html": [
       "<table border='1'>\n",
       "<tr><th>cpf</th><th>email</th><th>senha</th><th>data_de_nascimento</th><th>estado</th><th>data_cadastro</th><th>ipv4</th><th>cor_favorita</th><th>profissao</th><th>telefone</th></tr>\n",
       "<tr><td>981.507.362-12</td><td>pedro-lucas53@gma...</td><td>+7^7E%xFBc</td><td>2006-12-18</td><td>RR</td><td>2023-02-26</td><td>99.107.250.210</td><td>Roxo</td><td>Jogador De Golfe</td><td>31 7785-4046</td></tr>\n",
       "<tr><td>493.705.168-75</td><td>rezendeisaac@hotm...</td><td>_O_2GRnGOe</td><td>1992-06-17</td><td>GO</td><td>2023-02-16</td><td>197.11.26.213</td><td>Ciano</td><td>Atleta De Arremes...</td><td>(031) 0803-6753</td></tr>\n",
       "<tr><td>398.471.625-73</td><td>felipepires@uol.c...</td><td>*Aw5EOAvy9</td><td>1921-11-11</td><td>MG</td><td>2023-01-02</td><td>181.90.63.58</td><td>Azul</td><td>Papiloscopista</td><td>11 9674-0553</td></tr>\n",
       "<tr><td>092.618.354-06</td><td>stellamoraes@bol....</td><td>mw0AWYAs#s</td><td>2021-06-01</td><td>AC</td><td>2023-01-08</td><td>26.121.127.94</td><td>Marrom</td><td>Aeromo&ccedil;a</td><td>+55 (071) 3033 9177</td></tr>\n",
       "<tr><td>509.427.136-99</td><td>wcarvalho@ig.com.br</td><td>pGD%!2Pq5X</td><td>1969-10-28</td><td>AP</td><td>2023-02-14</td><td>76.184.52.163</td><td>Laranja</td><td>Fonoaudi&oacute;logo</td><td>+55 (071) 6272 2468</td></tr>\n",
       "<tr><td>218.795.460-94</td><td>da-conceicaodavi-...</td><td>uhBbFxPA&amp;9</td><td>1986-05-19</td><td>MG</td><td>2023-03-07</td><td>192.93.0.24</td><td>Rosa</td><td>Taxista</td><td>+55 84 0652 9691</td></tr>\n",
       "<tr><td>715.836.940-48</td><td>efreitas@bol.com.br</td><td>s#q9VZt&amp;xl</td><td>2018-04-20</td><td>MG</td><td>2023-01-13</td><td>76.251.188.148</td><td>Branco</td><td>Produtor De Audio...</td><td>+55 (084) 1363 0052</td></tr>\n",
       "<tr><td>475.698.032-56</td><td>wnunes@bol.com.br</td><td>_8az1W%n7g</td><td>1996-05-12</td><td>SE</td><td>2023-02-04</td><td>139.196.176.154</td><td>Azul</td><td>Cadeirinha</td><td>(071) 1640-3388</td></tr>\n",
       "<tr><td>217.639.540-99</td><td>jribeiro@bol.com.br</td><td>MEf1X7fj_0</td><td>2021-10-05</td><td>PA</td><td>2023-03-02</td><td>71.22.224.5</td><td>Marrom</td><td>Ge&oacute;logo</td><td>21 1432 4092</td></tr>\n",
       "<tr><td>261.938.750-77</td><td>murilo05@gmail.com</td><td>Te&amp;gO7GkKs</td><td>1917-01-05</td><td>MT</td><td>2023-02-21</td><td>136.54.123.165</td><td>Marrom</td><td>T&eacute;cnico De Som</td><td>+55 (084) 5878-3346</td></tr>\n",
       "<tr><td>520.831.796-68</td><td>joaquim57@ig.com.br</td><td>&amp;2E1NY+ARc</td><td>1912-05-25</td><td>BA</td><td>2023-01-25</td><td>78.196.255.126</td><td>Rosa</td><td>Esteticista</td><td>41 7914-3753</td></tr>\n",
       "<tr><td>413.087.526-44</td><td>alexiada-rocha@ig...</td><td>@f@!Z!2c*2</td><td>1920-05-26</td><td>MS</td><td>2023-02-18</td><td>182.61.65.201</td><td>Laranja</td><td>Microfonista</td><td>(021) 3739-2944</td></tr>\n",
       "<tr><td>509.287.143-14</td><td>pmendes@gmail.com</td><td>M+^XDBfe(2</td><td>1938-03-11</td><td>RR</td><td>2023-01-19</td><td>61.234.208.17</td><td>Verde Claro</td><td>Fiscal</td><td>+55 (084) 5940-1932</td></tr>\n",
       "<tr><td>563.170.492-70</td><td>renan46@bol.com.br</td><td>Rp%2pVqfe$</td><td>1922-09-01</td><td>PA</td><td>2023-02-01</td><td>122.203.83.177</td><td>Verde Escuro</td><td>Contabilista</td><td>+55 41 6248 5773</td></tr>\n",
       "<tr><td>098.712.346-78</td><td>manuelada-rosa@ho...</td><td>#hEIEOztQ3</td><td>2013-01-10</td><td>SE</td><td>2023-01-07</td><td>175.18.73.211</td><td>Violeta</td><td>Seguidor De Compras</td><td>51 0278 0564</td></tr>\n",
       "<tr><td>345.709.261-34</td><td>usales@ig.com.br</td><td>b_8xaY$ozJ</td><td>1992-10-16</td><td>AM</td><td>2023-01-05</td><td>97.93.29.75</td><td>Rosa</td><td>Almirante</td><td>(084) 8993-4521</td></tr>\n",
       "<tr><td>318.254.906-51</td><td>pereiranicolas@ho...</td><td>YA9I85Wb+2</td><td>1945-11-18</td><td>MA</td><td>2023-01-24</td><td>182.195.33.137</td><td>Amarelo</td><td>Consultor De Moda</td><td>(084) 4591 3795</td></tr>\n",
       "<tr><td>610.287.453-62</td><td>cardosolivia@ig.c...</td><td>yXkDW7Ebh*</td><td>1915-11-15</td><td>GO</td><td>2023-01-22</td><td>195.194.63.184</td><td>Laranja</td><td>Barbeiro</td><td>+55 61 8967-9563</td></tr>\n",
       "<tr><td>615.790.842-49</td><td>brenda39@ig.com.br</td><td>XS$84Hpsnw</td><td>1964-02-01</td><td>RJ</td><td>2023-02-16</td><td>21.252.226.29</td><td>Branco</td><td>Promotor De Vendas</td><td>+55 (021) 4751 2004</td></tr>\n",
       "<tr><td>624.095.138-24</td><td>luizapeixoto@gmai...</td><td>TbKy82Kda$</td><td>1959-02-01</td><td>DF</td><td>2023-02-25</td><td>105.107.23.13</td><td>Ciano</td><td>Implantodontista</td><td>84 1293 1906</td></tr>\n",
       "</table>\n",
       "only showing top 20 rows\n"
      ],
      "text/plain": [
       "+--------------+--------------------+----------+------------------+------+-------------+---------------+------------+--------------------+-------------------+\n",
       "|           cpf|               email|     senha|data_de_nascimento|estado|data_cadastro|           ipv4|cor_favorita|           profissao|           telefone|\n",
       "+--------------+--------------------+----------+------------------+------+-------------+---------------+------------+--------------------+-------------------+\n",
       "|981.507.362-12|pedro-lucas53@gma...|+7^7E%xFBc|        2006-12-18|    RR|   2023-02-26| 99.107.250.210|        Roxo|    Jogador De Golfe|       31 7785-4046|\n",
       "|493.705.168-75|rezendeisaac@hotm...|_O_2GRnGOe|        1992-06-17|    GO|   2023-02-16|  197.11.26.213|       Ciano|Atleta De Arremes...|    (031) 0803-6753|\n",
       "|398.471.625-73|felipepires@uol.c...|*Aw5EOAvy9|        1921-11-11|    MG|   2023-01-02|   181.90.63.58|        Azul|      Papiloscopista|       11 9674-0553|\n",
       "|092.618.354-06|stellamoraes@bol....|mw0AWYAs#s|        2021-06-01|    AC|   2023-01-08|  26.121.127.94|      Marrom|            Aeromoça|+55 (071) 3033 9177|\n",
       "|509.427.136-99| wcarvalho@ig.com.br|pGD%!2Pq5X|        1969-10-28|    AP|   2023-02-14|  76.184.52.163|     Laranja|       Fonoaudiólogo|+55 (071) 6272 2468|\n",
       "|218.795.460-94|da-conceicaodavi-...|uhBbFxPA&9|        1986-05-19|    MG|   2023-03-07|    192.93.0.24|        Rosa|             Taxista|   +55 84 0652 9691|\n",
       "|715.836.940-48| efreitas@bol.com.br|s#q9VZt&xl|        2018-04-20|    MG|   2023-01-13| 76.251.188.148|      Branco|Produtor De Audio...|+55 (084) 1363 0052|\n",
       "|475.698.032-56|   wnunes@bol.com.br|_8az1W%n7g|        1996-05-12|    SE|   2023-02-04|139.196.176.154|        Azul|          Cadeirinha|    (071) 1640-3388|\n",
       "|217.639.540-99| jribeiro@bol.com.br|MEf1X7fj_0|        2021-10-05|    PA|   2023-03-02|    71.22.224.5|      Marrom|             Geólogo|       21 1432 4092|\n",
       "|261.938.750-77|  murilo05@gmail.com|Te&gO7GkKs|        1917-01-05|    MT|   2023-02-21| 136.54.123.165|      Marrom|      Técnico De Som|+55 (084) 5878-3346|\n",
       "|520.831.796-68| joaquim57@ig.com.br|&2E1NY+ARc|        1912-05-25|    BA|   2023-01-25| 78.196.255.126|        Rosa|         Esteticista|       41 7914-3753|\n",
       "|413.087.526-44|alexiada-rocha@ig...|@f@!Z!2c*2|        1920-05-26|    MS|   2023-02-18|  182.61.65.201|     Laranja|        Microfonista|    (021) 3739-2944|\n",
       "|509.287.143-14|   pmendes@gmail.com|M+^XDBfe(2|        1938-03-11|    RR|   2023-01-19|  61.234.208.17| Verde Claro|              Fiscal|+55 (084) 5940-1932|\n",
       "|563.170.492-70|  renan46@bol.com.br|Rp%2pVqfe$|        1922-09-01|    PA|   2023-02-01| 122.203.83.177|Verde Escuro|        Contabilista|   +55 41 6248 5773|\n",
       "|098.712.346-78|manuelada-rosa@ho...|#hEIEOztQ3|        2013-01-10|    SE|   2023-01-07|  175.18.73.211|     Violeta| Seguidor De Compras|       51 0278 0564|\n",
       "|345.709.261-34|    usales@ig.com.br|b_8xaY$ozJ|        1992-10-16|    AM|   2023-01-05|    97.93.29.75|        Rosa|           Almirante|    (084) 8993-4521|\n",
       "|318.254.906-51|pereiranicolas@ho...|YA9I85Wb+2|        1945-11-18|    MA|   2023-01-24| 182.195.33.137|     Amarelo|   Consultor De Moda|    (084) 4591 3795|\n",
       "|610.287.453-62|cardosolivia@ig.c...|yXkDW7Ebh*|        1915-11-15|    GO|   2023-01-22| 195.194.63.184|     Laranja|            Barbeiro|   +55 61 8967-9563|\n",
       "|615.790.842-49|  brenda39@ig.com.br|XS$84Hpsnw|        1964-02-01|    RJ|   2023-02-16|  21.252.226.29|      Branco|  Promotor De Vendas|+55 (021) 4751 2004|\n",
       "|624.095.138-24|luizapeixoto@gmai...|TbKy82Kda$|        1959-02-01|    DF|   2023-02-25|  105.107.23.13|       Ciano|    Implantodontista|       84 1293 1906|\n",
       "+--------------+--------------------+----------+------------------+------+-------------+---------------+------------+--------------------+-------------------+\n",
       "only showing top 20 rows"
      ]
     },
     "execution_count": 13,
     "metadata": {},
     "output_type": "execute_result"
    }
   ],
   "source": [
    "# selecionando tudo\n",
    "df_parquet.select('*')"
   ]
  },
  {
   "cell_type": "code",
   "execution_count": 15,
   "metadata": {},
   "outputs": [
    {
     "data": {
      "text/html": [
       "<table border='1'>\n",
       "<tr><th>cpf</th><th>senha</th><th>data_de_nascimento</th><th>data_cadastro</th><th>ipv4</th><th>cor_favorita</th><th>profissao</th><th>telefone</th></tr>\n",
       "<tr><td>981.507.362-12</td><td>+7^7E%xFBc</td><td>2006-12-18</td><td>2023-02-26</td><td>99.107.250.210</td><td>Roxo</td><td>Jogador De Golfe</td><td>31 7785-4046</td></tr>\n",
       "<tr><td>493.705.168-75</td><td>_O_2GRnGOe</td><td>1992-06-17</td><td>2023-02-16</td><td>197.11.26.213</td><td>Ciano</td><td>Atleta De Arremes...</td><td>(031) 0803-6753</td></tr>\n",
       "<tr><td>398.471.625-73</td><td>*Aw5EOAvy9</td><td>1921-11-11</td><td>2023-01-02</td><td>181.90.63.58</td><td>Azul</td><td>Papiloscopista</td><td>11 9674-0553</td></tr>\n",
       "<tr><td>092.618.354-06</td><td>mw0AWYAs#s</td><td>2021-06-01</td><td>2023-01-08</td><td>26.121.127.94</td><td>Marrom</td><td>Aeromo&ccedil;a</td><td>+55 (071) 3033 9177</td></tr>\n",
       "<tr><td>509.427.136-99</td><td>pGD%!2Pq5X</td><td>1969-10-28</td><td>2023-02-14</td><td>76.184.52.163</td><td>Laranja</td><td>Fonoaudi&oacute;logo</td><td>+55 (071) 6272 2468</td></tr>\n",
       "<tr><td>218.795.460-94</td><td>uhBbFxPA&amp;9</td><td>1986-05-19</td><td>2023-03-07</td><td>192.93.0.24</td><td>Rosa</td><td>Taxista</td><td>+55 84 0652 9691</td></tr>\n",
       "<tr><td>715.836.940-48</td><td>s#q9VZt&amp;xl</td><td>2018-04-20</td><td>2023-01-13</td><td>76.251.188.148</td><td>Branco</td><td>Produtor De Audio...</td><td>+55 (084) 1363 0052</td></tr>\n",
       "<tr><td>475.698.032-56</td><td>_8az1W%n7g</td><td>1996-05-12</td><td>2023-02-04</td><td>139.196.176.154</td><td>Azul</td><td>Cadeirinha</td><td>(071) 1640-3388</td></tr>\n",
       "<tr><td>217.639.540-99</td><td>MEf1X7fj_0</td><td>2021-10-05</td><td>2023-03-02</td><td>71.22.224.5</td><td>Marrom</td><td>Ge&oacute;logo</td><td>21 1432 4092</td></tr>\n",
       "<tr><td>261.938.750-77</td><td>Te&amp;gO7GkKs</td><td>1917-01-05</td><td>2023-02-21</td><td>136.54.123.165</td><td>Marrom</td><td>T&eacute;cnico De Som</td><td>+55 (084) 5878-3346</td></tr>\n",
       "<tr><td>520.831.796-68</td><td>&amp;2E1NY+ARc</td><td>1912-05-25</td><td>2023-01-25</td><td>78.196.255.126</td><td>Rosa</td><td>Esteticista</td><td>41 7914-3753</td></tr>\n",
       "<tr><td>413.087.526-44</td><td>@f@!Z!2c*2</td><td>1920-05-26</td><td>2023-02-18</td><td>182.61.65.201</td><td>Laranja</td><td>Microfonista</td><td>(021) 3739-2944</td></tr>\n",
       "<tr><td>509.287.143-14</td><td>M+^XDBfe(2</td><td>1938-03-11</td><td>2023-01-19</td><td>61.234.208.17</td><td>Verde Claro</td><td>Fiscal</td><td>+55 (084) 5940-1932</td></tr>\n",
       "<tr><td>563.170.492-70</td><td>Rp%2pVqfe$</td><td>1922-09-01</td><td>2023-02-01</td><td>122.203.83.177</td><td>Verde Escuro</td><td>Contabilista</td><td>+55 41 6248 5773</td></tr>\n",
       "<tr><td>098.712.346-78</td><td>#hEIEOztQ3</td><td>2013-01-10</td><td>2023-01-07</td><td>175.18.73.211</td><td>Violeta</td><td>Seguidor De Compras</td><td>51 0278 0564</td></tr>\n",
       "<tr><td>345.709.261-34</td><td>b_8xaY$ozJ</td><td>1992-10-16</td><td>2023-01-05</td><td>97.93.29.75</td><td>Rosa</td><td>Almirante</td><td>(084) 8993-4521</td></tr>\n",
       "<tr><td>318.254.906-51</td><td>YA9I85Wb+2</td><td>1945-11-18</td><td>2023-01-24</td><td>182.195.33.137</td><td>Amarelo</td><td>Consultor De Moda</td><td>(084) 4591 3795</td></tr>\n",
       "<tr><td>610.287.453-62</td><td>yXkDW7Ebh*</td><td>1915-11-15</td><td>2023-01-22</td><td>195.194.63.184</td><td>Laranja</td><td>Barbeiro</td><td>+55 61 8967-9563</td></tr>\n",
       "<tr><td>615.790.842-49</td><td>XS$84Hpsnw</td><td>1964-02-01</td><td>2023-02-16</td><td>21.252.226.29</td><td>Branco</td><td>Promotor De Vendas</td><td>+55 (021) 4751 2004</td></tr>\n",
       "<tr><td>624.095.138-24</td><td>TbKy82Kda$</td><td>1959-02-01</td><td>2023-02-25</td><td>105.107.23.13</td><td>Ciano</td><td>Implantodontista</td><td>84 1293 1906</td></tr>\n",
       "</table>\n",
       "only showing top 20 rows\n"
      ],
      "text/plain": [
       "+--------------+----------+------------------+-------------+---------------+------------+--------------------+-------------------+\n",
       "|           cpf|     senha|data_de_nascimento|data_cadastro|           ipv4|cor_favorita|           profissao|           telefone|\n",
       "+--------------+----------+------------------+-------------+---------------+------------+--------------------+-------------------+\n",
       "|981.507.362-12|+7^7E%xFBc|        2006-12-18|   2023-02-26| 99.107.250.210|        Roxo|    Jogador De Golfe|       31 7785-4046|\n",
       "|493.705.168-75|_O_2GRnGOe|        1992-06-17|   2023-02-16|  197.11.26.213|       Ciano|Atleta De Arremes...|    (031) 0803-6753|\n",
       "|398.471.625-73|*Aw5EOAvy9|        1921-11-11|   2023-01-02|   181.90.63.58|        Azul|      Papiloscopista|       11 9674-0553|\n",
       "|092.618.354-06|mw0AWYAs#s|        2021-06-01|   2023-01-08|  26.121.127.94|      Marrom|            Aeromoça|+55 (071) 3033 9177|\n",
       "|509.427.136-99|pGD%!2Pq5X|        1969-10-28|   2023-02-14|  76.184.52.163|     Laranja|       Fonoaudiólogo|+55 (071) 6272 2468|\n",
       "|218.795.460-94|uhBbFxPA&9|        1986-05-19|   2023-03-07|    192.93.0.24|        Rosa|             Taxista|   +55 84 0652 9691|\n",
       "|715.836.940-48|s#q9VZt&xl|        2018-04-20|   2023-01-13| 76.251.188.148|      Branco|Produtor De Audio...|+55 (084) 1363 0052|\n",
       "|475.698.032-56|_8az1W%n7g|        1996-05-12|   2023-02-04|139.196.176.154|        Azul|          Cadeirinha|    (071) 1640-3388|\n",
       "|217.639.540-99|MEf1X7fj_0|        2021-10-05|   2023-03-02|    71.22.224.5|      Marrom|             Geólogo|       21 1432 4092|\n",
       "|261.938.750-77|Te&gO7GkKs|        1917-01-05|   2023-02-21| 136.54.123.165|      Marrom|      Técnico De Som|+55 (084) 5878-3346|\n",
       "|520.831.796-68|&2E1NY+ARc|        1912-05-25|   2023-01-25| 78.196.255.126|        Rosa|         Esteticista|       41 7914-3753|\n",
       "|413.087.526-44|@f@!Z!2c*2|        1920-05-26|   2023-02-18|  182.61.65.201|     Laranja|        Microfonista|    (021) 3739-2944|\n",
       "|509.287.143-14|M+^XDBfe(2|        1938-03-11|   2023-01-19|  61.234.208.17| Verde Claro|              Fiscal|+55 (084) 5940-1932|\n",
       "|563.170.492-70|Rp%2pVqfe$|        1922-09-01|   2023-02-01| 122.203.83.177|Verde Escuro|        Contabilista|   +55 41 6248 5773|\n",
       "|098.712.346-78|#hEIEOztQ3|        2013-01-10|   2023-01-07|  175.18.73.211|     Violeta| Seguidor De Compras|       51 0278 0564|\n",
       "|345.709.261-34|b_8xaY$ozJ|        1992-10-16|   2023-01-05|    97.93.29.75|        Rosa|           Almirante|    (084) 8993-4521|\n",
       "|318.254.906-51|YA9I85Wb+2|        1945-11-18|   2023-01-24| 182.195.33.137|     Amarelo|   Consultor De Moda|    (084) 4591 3795|\n",
       "|610.287.453-62|yXkDW7Ebh*|        1915-11-15|   2023-01-22| 195.194.63.184|     Laranja|            Barbeiro|   +55 61 8967-9563|\n",
       "|615.790.842-49|XS$84Hpsnw|        1964-02-01|   2023-02-16|  21.252.226.29|      Branco|  Promotor De Vendas|+55 (021) 4751 2004|\n",
       "|624.095.138-24|TbKy82Kda$|        1959-02-01|   2023-02-25|  105.107.23.13|       Ciano|    Implantodontista|       84 1293 1906|\n",
       "+--------------+----------+------------------+-------------+---------------+------------+--------------------+-------------------+\n",
       "only showing top 20 rows"
      ]
     },
     "execution_count": 15,
     "metadata": {},
     "output_type": "execute_result"
    }
   ],
   "source": [
    "# selecionando tudo, excluindo colunas especificas\n",
    "df_parquet.drop('email', 'estado')"
   ]
  },
  {
   "cell_type": "code",
   "execution_count": null,
   "metadata": {},
   "outputs": [],
   "source": []
  }
 ],
 "metadata": {
  "kernelspec": {
   "display_name": "Python 3",
   "language": "python",
   "name": "python3"
  },
  "language_info": {
   "codemirror_mode": {
    "name": "ipython",
    "version": 3
   },
   "file_extension": ".py",
   "mimetype": "text/x-python",
   "name": "python",
   "nbconvert_exporter": "python",
   "pygments_lexer": "ipython3",
   "version": "3.11.8"
  }
 },
 "nbformat": 4,
 "nbformat_minor": 2
}
