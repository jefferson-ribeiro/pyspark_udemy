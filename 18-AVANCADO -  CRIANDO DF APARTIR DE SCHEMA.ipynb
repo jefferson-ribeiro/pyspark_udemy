{
 "cells": [
  {
   "cell_type": "code",
   "execution_count": 3,
   "metadata": {},
   "outputs": [],
   "source": [
    "#Cria sessão Spark\n",
    "from pyspark.sql import SparkSession\n",
    "from pyspark.sql.functions import col\n",
    "import pyspark.sql.functions as F\n",
    "import pandas"
   ]
  },
  {
   "cell_type": "code",
   "execution_count": 4,
   "metadata": {},
   "outputs": [],
   "source": [
    "#Instância Spark\n",
    "spark = SparkSession.builder.appName('Curso Pyspark') \\\n",
    "         .config('spark.sql.repl.eagerEval.enabled', True) \\\n",
    "         .getOrCreate()      "
   ]
  },
  {
   "cell_type": "code",
   "execution_count": 5,
   "metadata": {},
   "outputs": [],
   "source": [
    "# dicionário\n",
    "dados = [\n",
    "    {'nome': 'Daiton', 'idade':27},\n",
    "    {'nome': 'Jefferson', 'idade':41},\n",
    "    {'nome': 'Livia', 'idade':15},\n",
    "]\n"
   ]
  },
  {
   "cell_type": "code",
   "execution_count": 6,
   "metadata": {},
   "outputs": [
    {
     "data": {
      "text/html": [
       "<table border='1'>\n",
       "<tr><th>idade</th><th>nome</th></tr>\n",
       "<tr><td>27</td><td>Daiton</td></tr>\n",
       "<tr><td>41</td><td>Jefferson</td></tr>\n",
       "<tr><td>15</td><td>Livia</td></tr>\n",
       "</table>\n"
      ],
      "text/plain": [
       "+-----+---------+\n",
       "|idade|     nome|\n",
       "+-----+---------+\n",
       "|   27|   Daiton|\n",
       "|   41|Jefferson|\n",
       "|   15|    Livia|\n",
       "+-----+---------+"
      ]
     },
     "execution_count": 6,
     "metadata": {},
     "output_type": "execute_result"
    }
   ],
   "source": [
    "df = spark.createDataFrame(dados)\n",
    "df"
   ]
  },
  {
   "cell_type": "code",
   "execution_count": 7,
   "metadata": {},
   "outputs": [
    {
     "name": "stdout",
     "output_type": "stream",
     "text": [
      "root\n",
      " |-- idade: long (nullable = true)\n",
      " |-- nome: string (nullable = true)\n",
      "\n"
     ]
    }
   ],
   "source": [
    "df.printSchema()"
   ]
  },
  {
   "cell_type": "code",
   "execution_count": 9,
   "metadata": {},
   "outputs": [],
   "source": [
    "# Tupla\n",
    "dados2 = [\n",
    "    ('Daiton', 27),\n",
    "    ('Jefferson', 41),\n",
    "    ('Livia', 15)\n",
    "]\n"
   ]
  },
  {
   "cell_type": "code",
   "execution_count": 10,
   "metadata": {},
   "outputs": [
    {
     "data": {
      "text/plain": [
       "[('Daiton', 27), ('Jefferson', 41), ('Livia', 15)]"
      ]
     },
     "execution_count": 10,
     "metadata": {},
     "output_type": "execute_result"
    }
   ],
   "source": [
    "dados2"
   ]
  },
  {
   "cell_type": "code",
   "execution_count": 11,
   "metadata": {},
   "outputs": [
    {
     "data": {
      "text/html": [
       "<table border='1'>\n",
       "<tr><th>nome</th><th>idade</th></tr>\n",
       "<tr><td>Daiton</td><td>27</td></tr>\n",
       "<tr><td>Jefferson</td><td>41</td></tr>\n",
       "<tr><td>Livia</td><td>15</td></tr>\n",
       "</table>\n"
      ],
      "text/plain": [
       "+---------+-----+\n",
       "|     nome|idade|\n",
       "+---------+-----+\n",
       "|   Daiton|   27|\n",
       "|Jefferson|   41|\n",
       "|    Livia|   15|\n",
       "+---------+-----+"
      ]
     },
     "execution_count": 11,
     "metadata": {},
     "output_type": "execute_result"
    }
   ],
   "source": [
    "spark.createDataFrame(dados2, ['nome', 'idade'])"
   ]
  },
  {
   "cell_type": "code",
   "execution_count": 12,
   "metadata": {},
   "outputs": [],
   "source": [
    "# Schema com o tipo de dado\n",
    "\n",
    "import pyspark.sql.types as T"
   ]
  },
  {
   "cell_type": "code",
   "execution_count": 13,
   "metadata": {},
   "outputs": [],
   "source": [
    "schema = T.StructType([\n",
    "    T.StructField('nome', T.StringType(), True),\n",
    "    T.StructField('idade', T.IntegerType(), True)\n",
    "])"
   ]
  },
  {
   "cell_type": "code",
   "execution_count": 14,
   "metadata": {},
   "outputs": [
    {
     "data": {
      "text/plain": [
       "StructType([StructField('nome', StringType(), True), StructField('idade', IntegerType(), True)])"
      ]
     },
     "execution_count": 14,
     "metadata": {},
     "output_type": "execute_result"
    }
   ],
   "source": [
    "schema\n"
   ]
  },
  {
   "cell_type": "code",
   "execution_count": 15,
   "metadata": {},
   "outputs": [
    {
     "data": {
      "text/html": [
       "<table border='1'>\n",
       "<tr><th>nome</th><th>idade</th></tr>\n",
       "<tr><td>Daiton</td><td>27</td></tr>\n",
       "<tr><td>Jefferson</td><td>41</td></tr>\n",
       "<tr><td>Livia</td><td>15</td></tr>\n",
       "</table>\n"
      ],
      "text/plain": [
       "+---------+-----+\n",
       "|     nome|idade|\n",
       "+---------+-----+\n",
       "|   Daiton|   27|\n",
       "|Jefferson|   41|\n",
       "|    Livia|   15|\n",
       "+---------+-----+"
      ]
     },
     "execution_count": 15,
     "metadata": {},
     "output_type": "execute_result"
    }
   ],
   "source": [
    "df1 = spark.createDataFrame(dados2, schema)\n",
    "df1"
   ]
  },
  {
   "cell_type": "code",
   "execution_count": 16,
   "metadata": {},
   "outputs": [
    {
     "name": "stdout",
     "output_type": "stream",
     "text": [
      "root\n",
      " |-- nome: string (nullable = true)\n",
      " |-- idade: integer (nullable = true)\n",
      "\n"
     ]
    }
   ],
   "source": [
    "df1.printSchema()"
   ]
  },
  {
   "cell_type": "code",
   "execution_count": 17,
   "metadata": {},
   "outputs": [],
   "source": [
    "# Usando a estrutura Row\n",
    "from pyspark.sql import Row"
   ]
  },
  {
   "cell_type": "code",
   "execution_count": 18,
   "metadata": {},
   "outputs": [],
   "source": [
    "rdd = [\n",
    "    Row('Daiton', 27),\n",
    "    Row('Jefferson', 41),\n",
    "    Row('Livia', 15)\n",
    "]"
   ]
  },
  {
   "cell_type": "code",
   "execution_count": 19,
   "metadata": {},
   "outputs": [
    {
     "data": {
      "text/plain": [
       "[<Row('Daiton', 27)>, <Row('Jefferson', 41)>, <Row('Livia', 15)>]"
      ]
     },
     "execution_count": 19,
     "metadata": {},
     "output_type": "execute_result"
    }
   ],
   "source": [
    "rdd"
   ]
  },
  {
   "cell_type": "code",
   "execution_count": 20,
   "metadata": {},
   "outputs": [
    {
     "data": {
      "text/plain": [
       "[('_1', 'string'), ('_2', 'int')]"
      ]
     },
     "execution_count": 20,
     "metadata": {},
     "output_type": "execute_result"
    }
   ],
   "source": [
    "spark.createDataFrame(rdd, \"_1 : string,_2 : int\").dtypes"
   ]
  },
  {
   "cell_type": "code",
   "execution_count": 21,
   "metadata": {},
   "outputs": [
    {
     "data": {
      "text/html": [
       "<table border='1'>\n",
       "<tr><th>nome</th><th>idade</th></tr>\n",
       "<tr><td>Daiton</td><td>27</td></tr>\n",
       "<tr><td>Jefferson</td><td>41</td></tr>\n",
       "<tr><td>Livia</td><td>15</td></tr>\n",
       "</table>\n"
      ],
      "text/plain": [
       "+---------+-----+\n",
       "|     nome|idade|\n",
       "+---------+-----+\n",
       "|   Daiton|   27|\n",
       "|Jefferson|   41|\n",
       "|    Livia|   15|\n",
       "+---------+-----+"
      ]
     },
     "execution_count": 21,
     "metadata": {},
     "output_type": "execute_result"
    }
   ],
   "source": [
    "spark.createDataFrame(dados, \"nome : string, idade : int\")"
   ]
  },
  {
   "cell_type": "code",
   "execution_count": null,
   "metadata": {},
   "outputs": [],
   "source": []
  }
 ],
 "metadata": {
  "kernelspec": {
   "display_name": "Python 3",
   "language": "python",
   "name": "python3"
  },
  "language_info": {
   "codemirror_mode": {
    "name": "ipython",
    "version": 3
   },
   "file_extension": ".py",
   "mimetype": "text/x-python",
   "name": "python",
   "nbconvert_exporter": "python",
   "pygments_lexer": "ipython3",
   "version": "3.11.8"
  }
 },
 "nbformat": 4,
 "nbformat_minor": 2
}
