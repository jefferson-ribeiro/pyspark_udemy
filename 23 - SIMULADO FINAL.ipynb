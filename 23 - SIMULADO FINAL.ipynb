{
 "cells": [
  {
   "cell_type": "markdown",
   "metadata": {},
   "source": [
    "Tarefa\n",
    "Utilize o dataset \"Titanic - Machine Learning from Disaster\" para realizar essa tarefa: https://www.kaggle.com/competitions/titanic/data"
   ]
  },
  {
   "cell_type": "code",
   "execution_count": 1,
   "metadata": {},
   "outputs": [],
   "source": [
    "#Cria sessão Spark\n",
    "from pyspark.sql import SparkSession\n",
    "from pyspark.sql.functions import col\n",
    "import pyspark.sql.functions as F"
   ]
  },
  {
   "cell_type": "code",
   "execution_count": 2,
   "metadata": {},
   "outputs": [],
   "source": [
    "#Instância Spark\n",
    "spark = SparkSession.builder.appName('Curso Pyspark') \\\n",
    "         .config('spark.sql.repl.eagerEval.enabled', True) \\\n",
    "         .getOrCreate()      "
   ]
  },
  {
   "cell_type": "code",
   "execution_count": 3,
   "metadata": {},
   "outputs": [],
   "source": [
    "# lendo um arquivo parquet\n",
    "df = spark.read.csv('./DATASETS/Desafio/titanic.csv',sep=',', header=True)"
   ]
  },
  {
   "cell_type": "code",
   "execution_count": 4,
   "metadata": {},
   "outputs": [
    {
     "name": "stdout",
     "output_type": "stream",
     "text": [
      "+-----------+--------+------+-------------------------------------------------------+------+----+-----+-----+----------------+-------+-----+--------+\n",
      "|PassengerId|Survived|Pclass|Name                                                   |Sex   |Age |SibSp|Parch|Ticket          |Fare   |Cabin|Embarked|\n",
      "+-----------+--------+------+-------------------------------------------------------+------+----+-----+-----+----------------+-------+-----+--------+\n",
      "|1          |0       |3     |Braund, Mr. Owen Harris                                |male  |22  |1    |0    |A/5 21171       |7.25   |NULL |S       |\n",
      "|2          |1       |1     |Cumings, Mrs. John Bradley (Florence Briggs Thayer)    |female|38  |1    |0    |PC 17599        |71.2833|C85  |C       |\n",
      "|3          |1       |3     |Heikkinen, Miss. Laina                                 |female|26  |0    |0    |STON/O2. 3101282|7.925  |NULL |S       |\n",
      "|4          |1       |1     |Futrelle, Mrs. Jacques Heath (Lily May Peel)           |female|35  |1    |0    |113803          |53.1   |C123 |S       |\n",
      "|5          |0       |3     |Allen, Mr. William Henry                               |male  |35  |0    |0    |373450          |8.05   |NULL |S       |\n",
      "|6          |0       |3     |Moran, Mr. James                                       |male  |NULL|0    |0    |330877          |8.4583 |NULL |Q       |\n",
      "|7          |0       |1     |McCarthy, Mr. Timothy J                                |male  |54  |0    |0    |17463           |51.8625|E46  |S       |\n",
      "|8          |0       |3     |Palsson, Master. Gosta Leonard                         |male  |2   |3    |1    |349909          |21.075 |NULL |S       |\n",
      "|9          |1       |3     |Johnson, Mrs. Oscar W (Elisabeth Vilhelmina Berg)      |female|27  |0    |2    |347742          |11.1333|NULL |S       |\n",
      "|10         |1       |2     |Nasser, Mrs. Nicholas (Adele Achem)                    |female|14  |1    |0    |237736          |30.0708|NULL |C       |\n",
      "|11         |1       |3     |Sandstrom, Miss. Marguerite Rut                        |female|4   |1    |1    |PP 9549         |16.7   |G6   |S       |\n",
      "|12         |1       |1     |Bonnell, Miss. Elizabeth                               |female|58  |0    |0    |113783          |26.55  |C103 |S       |\n",
      "|13         |0       |3     |Saundercock, Mr. William Henry                         |male  |20  |0    |0    |A/5. 2151       |8.05   |NULL |S       |\n",
      "|14         |0       |3     |Andersson, Mr. Anders Johan                            |male  |39  |1    |5    |347082          |31.275 |NULL |S       |\n",
      "|15         |0       |3     |Vestrom, Miss. Hulda Amanda Adolfina                   |female|14  |0    |0    |350406          |7.8542 |NULL |S       |\n",
      "|16         |1       |2     |Hewlett, Mrs. (Mary D Kingcome)                        |female|55  |0    |0    |248706          |16     |NULL |S       |\n",
      "|17         |0       |3     |Rice, Master. Eugene                                   |male  |2   |4    |1    |382652          |29.125 |NULL |Q       |\n",
      "|18         |1       |2     |Williams, Mr. Charles Eugene                           |male  |NULL|0    |0    |244373          |13     |NULL |S       |\n",
      "|19         |0       |3     |Vander Planke, Mrs. Julius (Emelia Maria Vandemoortele)|female|31  |1    |0    |345763          |18     |NULL |S       |\n",
      "|20         |1       |3     |Masselmani, Mrs. Fatima                                |female|NULL|0    |0    |2649            |7.225  |NULL |C       |\n",
      "+-----------+--------+------+-------------------------------------------------------+------+----+-----+-----+----------------+-------+-----+--------+\n",
      "only showing top 20 rows\n",
      "\n"
     ]
    }
   ],
   "source": [
    "df.show(20, truncate=0)"
   ]
  },
  {
   "cell_type": "code",
   "execution_count": 47,
   "metadata": {},
   "outputs": [
    {
     "data": {
      "text/html": [
       "<table border='1'>\n",
       "<tr><th>avg(Survived)</th></tr>\n",
       "<tr><td>0.3838383838383838</td></tr>\n",
       "</table>\n"
      ],
      "text/plain": [
       "+------------------+\n",
       "|     avg(Survived)|\n",
       "+------------------+\n",
       "|0.3838383838383838|\n",
       "+------------------+"
      ]
     },
     "execution_count": 47,
     "metadata": {},
     "output_type": "execute_result"
    }
   ],
   "source": [
    "# Qual é a proporção de sobreviventes em relação ao total de passageiros do Titanic?\n",
    "\n",
    "(\n",
    "    df\n",
    "    .select(F.avg(col(\"Survived\")))\n",
    ")"
   ]
  },
  {
   "cell_type": "code",
   "execution_count": 23,
   "metadata": {},
   "outputs": [
    {
     "data": {
      "text/html": [
       "<table border='1'>\n",
       "<tr><th>avg(Age)</th></tr>\n",
       "<tr><td>30.62617924528302</td></tr>\n",
       "</table>\n"
      ],
      "text/plain": [
       "+-----------------+\n",
       "|         avg(Age)|\n",
       "+-----------------+\n",
       "|30.62617924528302|\n",
       "+-----------------+"
      ]
     },
     "execution_count": 23,
     "metadata": {},
     "output_type": "execute_result"
    }
   ],
   "source": [
    "# Qual é a média de idade dos passageiros que não sobreviveram\n",
    "(\n",
    "    df\n",
    "    .filter(col(\"Survived\") == 0)\n",
    "    .select(F.avg(col(\"Age\")))\n",
    ")"
   ]
  },
  {
   "cell_type": "code",
   "execution_count": 29,
   "metadata": {},
   "outputs": [
    {
     "data": {
      "text/plain": [
       "119"
      ]
     },
     "execution_count": 29,
     "metadata": {},
     "output_type": "execute_result"
    }
   ],
   "source": [
    "# Quantos passageiros da terceira classe sobreviveram ao naufrágio?\n",
    "(\n",
    "    df\n",
    "    .filter((col(\"Pclass\") == 3) & (col(\"Survived\") == 1))\n",
    "    .count()\n",
    ")"
   ]
  },
  {
   "cell_type": "code",
   "execution_count": 46,
   "metadata": {},
   "outputs": [
    {
     "data": {
      "text/html": [
       "<table border='1'>\n",
       "<tr><th>mulheres_sobreviventes_%</th></tr>\n",
       "<tr><td>74.2</td></tr>\n",
       "</table>\n"
      ],
      "text/plain": [
       "+------------------------+\n",
       "|mulheres_sobreviventes_%|\n",
       "+------------------------+\n",
       "|                    74.2|\n",
       "+------------------------+"
      ]
     },
     "execution_count": 46,
     "metadata": {},
     "output_type": "execute_result"
    }
   ],
   "source": [
    "# Qual a porcentagem de mulheres sobreviventes em relação ao total de mulheres a bordo do Titanic?\n",
    "# mulheres sobreviventes = 233\n",
    "# total de mulheres = 314\n",
    "(\n",
    "    # df\n",
    "    # .filter((col(\"Sex\") == \"female\") & (col(\"Survived\") == 1)).count()\n",
    "    # /\n",
    "    # df\n",
    "    # .filter(col(\"Sex\") == \"female\").count()  \n",
    "    \n",
    "    df.filter(col(\"Survived\") == 1)\n",
    "    .agg(F.round(F.avg(col(\"Survived\"))*100, 2)\n",
    "         .alias(\"mulheres_sobreviventes_%\"))\n",
    ")"
   ]
  },
  {
   "cell_type": "code",
   "execution_count": 55,
   "metadata": {},
   "outputs": [
    {
     "data": {
      "text/html": [
       "<table border='1'>\n",
       "<tr><th>media_passagem_passageiros_sobreviventes_$</th></tr>\n",
       "<tr><td>48.4</td></tr>\n",
       "</table>\n"
      ],
      "text/plain": [
       "+------------------------------------------+\n",
       "|media_passagem_passageiros_sobreviventes_$|\n",
       "+------------------------------------------+\n",
       "|                                      48.4|\n",
       "+------------------------------------------+"
      ]
     },
     "execution_count": 55,
     "metadata": {},
     "output_type": "execute_result"
    }
   ],
   "source": [
    "# Qual foi o preço médio da passagem dos passageiros que sobreviveram ao naufrágio?\n",
    "(\n",
    "    df.filter(col(\"Survived\") == 1)\n",
    "    .agg(F.round(F.avg(col(\"Fare\")), 2)\n",
    "         .alias(\"media_passagem_passageiros_sobreviventes_$\"))\n",
    ")"
   ]
  },
  {
   "cell_type": "code",
   "execution_count": 51,
   "metadata": {},
   "outputs": [
    {
     "data": {
      "text/plain": [
       "891"
      ]
     },
     "execution_count": 51,
     "metadata": {},
     "output_type": "execute_result"
    }
   ],
   "source": [
    "# Qual a quantidade de passageiros que embarcaram no Titanic?\n",
    "(\n",
    "    df\n",
    "    .select('*')\n",
    "    .count()\n",
    ")"
   ]
  },
  {
   "cell_type": "code",
   "execution_count": 72,
   "metadata": {},
   "outputs": [
    {
     "data": {
      "text/plain": [
       "64.75869809203144"
      ]
     },
     "execution_count": 72,
     "metadata": {},
     "output_type": "execute_result"
    }
   ],
   "source": [
    "# Qual a proporção de passageiros do sexo masculino em relação ao total de passageiros?\n",
    "#577\n",
    "(\n",
    "    df.filter(col(\"Sex\") == \"male\").count() / df.count()\n",
    "    * 100\n",
    ")"
   ]
  },
  {
   "cell_type": "code",
   "execution_count": 73,
   "metadata": {},
   "outputs": [
    {
     "data": {
      "text/html": [
       "<table border='1'>\n",
       "<tr><th>terceira_classe_sobreviventes_%</th></tr>\n",
       "<tr><td>24.24</td></tr>\n",
       "</table>\n"
      ],
      "text/plain": [
       "+-------------------------------+\n",
       "|terceira_classe_sobreviventes_%|\n",
       "+-------------------------------+\n",
       "|                          24.24|\n",
       "+-------------------------------+"
      ]
     },
     "execution_count": 73,
     "metadata": {},
     "output_type": "execute_result"
    }
   ],
   "source": [
    "# Qual a proporção de passageiros da terceira classe que sobreviveram?\n",
    "(   \n",
    "    df.filter(col(\"Pclass\") == 3)\n",
    "    .agg(F.round(F.avg(col(\"Survived\"))*100, 2)\n",
    "         .alias(\"terceira_classe_sobreviventes_%\"))\n",
    ")"
   ]
  },
  {
   "cell_type": "code",
   "execution_count": 76,
   "metadata": {},
   "outputs": [
    {
     "name": "stdout",
     "output_type": "stream",
     "text": [
      "+----------+------+---+------------------+----------------------+\n",
      "|CustomerID|Gender|Age|Annual Income (k$)|Spending Score (1-100)|\n",
      "+----------+------+---+------------------+----------------------+\n",
      "|1         |Male  |19 |15                |39                    |\n",
      "|2         |Male  |21 |15                |81                    |\n",
      "|3         |Female|20 |16                |6                     |\n",
      "|4         |Female|23 |16                |77                    |\n",
      "|5         |Female|31 |17                |40                    |\n",
      "|6         |Female|22 |17                |76                    |\n",
      "|7         |Female|35 |18                |6                     |\n",
      "|8         |Female|23 |18                |94                    |\n",
      "|9         |Male  |64 |19                |3                     |\n",
      "|10        |Female|30 |19                |72                    |\n",
      "|11        |Male  |67 |19                |14                    |\n",
      "|12        |Female|35 |19                |99                    |\n",
      "|13        |Female|58 |20                |15                    |\n",
      "|14        |Female|24 |20                |77                    |\n",
      "|15        |Male  |37 |20                |13                    |\n",
      "|16        |Male  |22 |20                |79                    |\n",
      "|17        |Female|35 |21                |35                    |\n",
      "|18        |Male  |20 |21                |66                    |\n",
      "|19        |Male  |52 |23                |29                    |\n",
      "|20        |Female|35 |23                |98                    |\n",
      "+----------+------+---+------------------+----------------------+\n",
      "only showing top 20 rows\n",
      "\n"
     ]
    }
   ],
   "source": [
    "df2 = spark.read.csv('./DATASETS/Desafio/Mall_Customers.csv',sep=',', header=True)\n",
    "df2.show(20, truncate=0)"
   ]
  },
  {
   "cell_type": "code",
   "execution_count": 77,
   "metadata": {},
   "outputs": [
    {
     "data": {
      "text/html": [
       "<table border='1'>\n",
       "<tr><th>m&eacute;dia_idade_clientes</th></tr>\n",
       "<tr><td>38.85</td></tr>\n",
       "</table>\n"
      ],
      "text/plain": [
       "+--------------------+\n",
       "|média_idade_clientes|\n",
       "+--------------------+\n",
       "|               38.85|\n",
       "+--------------------+"
      ]
     },
     "execution_count": 77,
     "metadata": {},
     "output_type": "execute_result"
    }
   ],
   "source": [
    "# Qual é a média de idade dos clientes no Shopping?\n",
    "(\n",
    "    df2\n",
    "    .agg(F.avg(col(\"Age\"))\n",
    "         .alias(\"média_idade_clientes\"))\n",
    ")"
   ]
  },
  {
   "cell_type": "code",
   "execution_count": 78,
   "metadata": {},
   "outputs": [
    {
     "data": {
      "text/plain": [
       "112"
      ]
     },
     "execution_count": 78,
     "metadata": {},
     "output_type": "execute_result"
    }
   ],
   "source": [
    "# Quantas mulheres são clientes do Shopping?\n",
    "(\n",
    "    df2\n",
    "    .filter(col(\"Gender\") == \"Female\")\n",
    "    .count()\n",
    ")"
   ]
  },
  {
   "cell_type": "code",
   "execution_count": 80,
   "metadata": {},
   "outputs": [
    {
     "data": {
      "text/html": [
       "<table border='1'>\n",
       "<tr><th>m&eacute;dia_renda_anual_clientes</th></tr>\n",
       "<tr><td>60.56</td></tr>\n",
       "</table>\n"
      ],
      "text/plain": [
       "+--------------------------+\n",
       "|média_renda_anual_clientes|\n",
       "+--------------------------+\n",
       "|                     60.56|\n",
       "+--------------------------+"
      ]
     },
     "execution_count": 80,
     "metadata": {},
     "output_type": "execute_result"
    }
   ],
   "source": [
    "# Qual é a média de renda anual dos clientes?\n",
    "(\n",
    "    df2\n",
    "    .agg(F.avg(col(\"Annual Income (k$)\"))\n",
    "         .alias(\"média_renda_anual_clientes\"))\n",
    ")"
   ]
  },
  {
   "cell_type": "code",
   "execution_count": 81,
   "metadata": {},
   "outputs": [
    {
     "data": {
      "text/html": [
       "<table border='1'>\n",
       "<tr><th>stddev(Age)</th></tr>\n",
       "<tr><td>13.96900733155888</td></tr>\n",
       "</table>\n"
      ],
      "text/plain": [
       "+-----------------+\n",
       "|      stddev(Age)|\n",
       "+-----------------+\n",
       "|13.96900733155888|\n",
       "+-----------------+"
      ]
     },
     "execution_count": 81,
     "metadata": {},
     "output_type": "execute_result"
    }
   ],
   "source": [
    "# Qual é o desvio padrão da idade dos clientes?\n",
    "(\n",
    "    df2.select(F.stddev(col(\"Age\")))\n",
    ")"
   ]
  },
  {
   "cell_type": "code",
   "execution_count": 82,
   "metadata": {},
   "outputs": [
    {
     "data": {
      "text/plain": [
       "38"
      ]
     },
     "execution_count": 82,
     "metadata": {},
     "output_type": "execute_result"
    }
   ],
   "source": [
    "# Quantos clientes têm uma renda anual superior a 80 mil?\n",
    "(\n",
    "    df2.filter(col(\"Annual Income (k$)\") > 80)\n",
    "    .count()   \n",
    ")"
   ]
  },
  {
   "cell_type": "code",
   "execution_count": 86,
   "metadata": {},
   "outputs": [
    {
     "data": {
      "text/plain": [
       "'42'"
      ]
     },
     "execution_count": 86,
     "metadata": {},
     "output_type": "execute_result"
    }
   ],
   "source": [
    "# Qual é a moda da pontuação de gastos dos clientes?\n",
    "(\n",
    "    df2\n",
    "    #agrupa resultados iguais\n",
    "    .groupBy(col(\"Spending Score (1-100)\"))\n",
    "    # faz a contagem de cada resultado\n",
    "    .count()\n",
    "    # ordena do maior para o menor\n",
    "    .orderBy(\"count\", ascending=False)\n",
    "    # pega o primeiro resultado (o que tem maior número (MODA))\n",
    "    .first()[\"Spending Score (1-100)\"]\n",
    ")"
   ]
  }
 ],
 "metadata": {
  "kernelspec": {
   "display_name": "Python 3",
   "language": "python",
   "name": "python3"
  },
  "language_info": {
   "codemirror_mode": {
    "name": "ipython",
    "version": 3
   },
   "file_extension": ".py",
   "mimetype": "text/x-python",
   "name": "python",
   "nbconvert_exporter": "python",
   "pygments_lexer": "ipython3",
   "version": "3.11.8"
  }
 },
 "nbformat": 4,
 "nbformat_minor": 2
}
