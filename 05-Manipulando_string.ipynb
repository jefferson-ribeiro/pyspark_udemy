{
 "cells": [
  {
   "cell_type": "code",
   "execution_count": 1,
   "metadata": {},
   "outputs": [],
   "source": [
    "#Cria sessão Spark\n",
    "from pyspark.sql import SparkSession\n",
    "from pyspark.sql.functions import col\n",
    "import pyspark.sql.functions as F"
   ]
  },
  {
   "cell_type": "code",
   "execution_count": 2,
   "metadata": {},
   "outputs": [],
   "source": [
    "#Instância Spark\n",
    "spark = SparkSession.builder.appName('Curso Pyspark') \\\n",
    "         .config('spark.sql.repl.eagerEval.enabled', True) \\\n",
    "         .getOrCreate()      "
   ]
  },
  {
   "cell_type": "code",
   "execution_count": 3,
   "metadata": {},
   "outputs": [],
   "source": [
    "# lendo um arquivo parquet\n",
    "df = spark.read.parquet('./DATASETS/LOGINS.parquet').select('email', 'senha', 'estado', 'cor_favorita', 'profissao')"
   ]
  },
  {
   "cell_type": "code",
   "execution_count": 10,
   "metadata": {},
   "outputs": [
    {
     "name": "stdout",
     "output_type": "stream",
     "text": [
      "+----------------------------------+----------+------+------------+---------------------------+----------------------+-----------+-------------+\n",
      "|email                             |senha     |estado|cor_favorita|profissao                  |usuario               |provedor   |nome_provedor|\n",
      "+----------------------------------+----------+------+------------+---------------------------+----------------------+-----------+-------------+\n",
      "|pedro-lucas53@gmail.com           |+7^7E%xFBc|RR    |Roxo        |Jogador De Golfe           |pedro-lucas53         |gmail.com  |gmail        |\n",
      "|rezendeisaac@hotmail.com          |_O_2GRnGOe|GO    |Ciano       |Atleta De Arremesso De Peso|rezendeisaac          |hotmail.com|hotmail      |\n",
      "|felipepires@uol.com.br            |*Aw5EOAvy9|MG    |Azul        |Papiloscopista             |felipepires           |uol.com.br |uol          |\n",
      "|stellamoraes@bol.com.br           |mw0AWYAs#s|AC    |Marrom      |Aeromoça                   |stellamoraes          |bol.com.br |bol          |\n",
      "|wcarvalho@ig.com.br               |pGD%!2Pq5X|AP    |Laranja     |Fonoaudiólogo              |wcarvalho             |ig.com.br  |ig           |\n",
      "|da-conceicaodavi-lucas@hotmail.com|uhBbFxPA&9|MG    |Rosa        |Taxista                    |da-conceicaodavi-lucas|hotmail.com|hotmail      |\n",
      "|efreitas@bol.com.br               |s#q9VZt&xl|MG    |Branco      |Produtor De Audio Visual   |efreitas              |bol.com.br |bol          |\n",
      "|wnunes@bol.com.br                 |_8az1W%n7g|SE    |Azul        |Cadeirinha                 |wnunes                |bol.com.br |bol          |\n",
      "|jribeiro@bol.com.br               |MEf1X7fj_0|PA    |Marrom      |Geólogo                    |jribeiro              |bol.com.br |bol          |\n",
      "|murilo05@gmail.com                |Te&gO7GkKs|MT    |Marrom      |Técnico De Som             |murilo05              |gmail.com  |gmail        |\n",
      "|joaquim57@ig.com.br               |&2E1NY+ARc|BA    |Rosa        |Esteticista                |joaquim57             |ig.com.br  |ig           |\n",
      "|alexiada-rocha@ig.com.br          |@f@!Z!2c*2|MS    |Laranja     |Microfonista               |alexiada-rocha        |ig.com.br  |ig           |\n",
      "|pmendes@gmail.com                 |M+^XDBfe(2|RR    |Verde Claro |Fiscal                     |pmendes               |gmail.com  |gmail        |\n",
      "|renan46@bol.com.br                |Rp%2pVqfe$|PA    |Verde Escuro|Contabilista               |renan46               |bol.com.br |bol          |\n",
      "|manuelada-rosa@hotmail.com        |#hEIEOztQ3|SE    |Violeta     |Seguidor De Compras        |manuelada-rosa        |hotmail.com|hotmail      |\n",
      "|usales@ig.com.br                  |b_8xaY$ozJ|AM    |Rosa        |Almirante                  |usales                |ig.com.br  |ig           |\n",
      "|pereiranicolas@hotmail.com        |YA9I85Wb+2|MA    |Amarelo     |Consultor De Moda          |pereiranicolas        |hotmail.com|hotmail      |\n",
      "|cardosolivia@ig.com.br            |yXkDW7Ebh*|GO    |Laranja     |Barbeiro                   |cardosolivia          |ig.com.br  |ig           |\n",
      "|brenda39@ig.com.br                |XS$84Hpsnw|RJ    |Branco      |Promotor De Vendas         |brenda39              |ig.com.br  |ig           |\n",
      "|luizapeixoto@gmail.com            |TbKy82Kda$|DF    |Ciano       |Implantodontista           |luizapeixoto          |gmail.com  |gmail        |\n",
      "+----------------------------------+----------+------+------------+---------------------------+----------------------+-----------+-------------+\n",
      "only showing top 20 rows\n",
      "\n"
     ]
    }
   ],
   "source": [
    "(\n",
    "    df\n",
    "    .withColumn('usuario', F.split(df.email, '@').getItem(0))\n",
    "    .withColumn('provedor', F.split(df.email, '@').getItem(1))\n",
    "    .withColumn('nome_provedor', F.split(F.col('provedor'), '\\.').getItem(0))\n",
    "    # no caso do ponto, ele é um caracter de escape, neste caso temos que usar a barra invertida (\\) antes do ponto (.)\n",
    "\n",
    "    .show(20, False)\n",
    ")"
   ]
  },
  {
   "cell_type": "code",
   "execution_count": 12,
   "metadata": {},
   "outputs": [
    {
     "data": {
      "text/html": [
       "<table border='1'>\n",
       "<tr><th>email</th><th>senha</th><th>estado</th><th>cor_favorita</th><th>profissao</th><th>concat</th></tr>\n",
       "<tr><td>pedro-lucas53@gma...</td><td>+7^7E%xFBc</td><td>RR</td><td>Roxo</td><td>Jogador De Golfe</td><td>RR - Brasil</td></tr>\n",
       "<tr><td>rezendeisaac@hotm...</td><td>_O_2GRnGOe</td><td>GO</td><td>Ciano</td><td>Atleta De Arremes...</td><td>GO - Brasil</td></tr>\n",
       "<tr><td>felipepires@uol.c...</td><td>*Aw5EOAvy9</td><td>MG</td><td>Azul</td><td>Papiloscopista</td><td>MG - Brasil</td></tr>\n",
       "<tr><td>stellamoraes@bol....</td><td>mw0AWYAs#s</td><td>AC</td><td>Marrom</td><td>Aeromo&ccedil;a</td><td>AC - Brasil</td></tr>\n",
       "<tr><td>wcarvalho@ig.com.br</td><td>pGD%!2Pq5X</td><td>AP</td><td>Laranja</td><td>Fonoaudi&oacute;logo</td><td>AP - Brasil</td></tr>\n",
       "<tr><td>da-conceicaodavi-...</td><td>uhBbFxPA&amp;9</td><td>MG</td><td>Rosa</td><td>Taxista</td><td>MG - Brasil</td></tr>\n",
       "<tr><td>efreitas@bol.com.br</td><td>s#q9VZt&amp;xl</td><td>MG</td><td>Branco</td><td>Produtor De Audio...</td><td>MG - Brasil</td></tr>\n",
       "<tr><td>wnunes@bol.com.br</td><td>_8az1W%n7g</td><td>SE</td><td>Azul</td><td>Cadeirinha</td><td>SE - Brasil</td></tr>\n",
       "<tr><td>jribeiro@bol.com.br</td><td>MEf1X7fj_0</td><td>PA</td><td>Marrom</td><td>Ge&oacute;logo</td><td>PA - Brasil</td></tr>\n",
       "<tr><td>murilo05@gmail.com</td><td>Te&amp;gO7GkKs</td><td>MT</td><td>Marrom</td><td>T&eacute;cnico De Som</td><td>MT - Brasil</td></tr>\n",
       "<tr><td>joaquim57@ig.com.br</td><td>&amp;2E1NY+ARc</td><td>BA</td><td>Rosa</td><td>Esteticista</td><td>BA - Brasil</td></tr>\n",
       "<tr><td>alexiada-rocha@ig...</td><td>@f@!Z!2c*2</td><td>MS</td><td>Laranja</td><td>Microfonista</td><td>MS - Brasil</td></tr>\n",
       "<tr><td>pmendes@gmail.com</td><td>M+^XDBfe(2</td><td>RR</td><td>Verde Claro</td><td>Fiscal</td><td>RR - Brasil</td></tr>\n",
       "<tr><td>renan46@bol.com.br</td><td>Rp%2pVqfe$</td><td>PA</td><td>Verde Escuro</td><td>Contabilista</td><td>PA - Brasil</td></tr>\n",
       "<tr><td>manuelada-rosa@ho...</td><td>#hEIEOztQ3</td><td>SE</td><td>Violeta</td><td>Seguidor De Compras</td><td>SE - Brasil</td></tr>\n",
       "<tr><td>usales@ig.com.br</td><td>b_8xaY$ozJ</td><td>AM</td><td>Rosa</td><td>Almirante</td><td>AM - Brasil</td></tr>\n",
       "<tr><td>pereiranicolas@ho...</td><td>YA9I85Wb+2</td><td>MA</td><td>Amarelo</td><td>Consultor De Moda</td><td>MA - Brasil</td></tr>\n",
       "<tr><td>cardosolivia@ig.c...</td><td>yXkDW7Ebh*</td><td>GO</td><td>Laranja</td><td>Barbeiro</td><td>GO - Brasil</td></tr>\n",
       "<tr><td>brenda39@ig.com.br</td><td>XS$84Hpsnw</td><td>RJ</td><td>Branco</td><td>Promotor De Vendas</td><td>RJ - Brasil</td></tr>\n",
       "<tr><td>luizapeixoto@gmai...</td><td>TbKy82Kda$</td><td>DF</td><td>Ciano</td><td>Implantodontista</td><td>DF - Brasil</td></tr>\n",
       "</table>\n",
       "only showing top 20 rows\n"
      ],
      "text/plain": [
       "+--------------------+----------+------+------------+--------------------+-----------+\n",
       "|               email|     senha|estado|cor_favorita|           profissao|     concat|\n",
       "+--------------------+----------+------+------------+--------------------+-----------+\n",
       "|pedro-lucas53@gma...|+7^7E%xFBc|    RR|        Roxo|    Jogador De Golfe|RR - Brasil|\n",
       "|rezendeisaac@hotm...|_O_2GRnGOe|    GO|       Ciano|Atleta De Arremes...|GO - Brasil|\n",
       "|felipepires@uol.c...|*Aw5EOAvy9|    MG|        Azul|      Papiloscopista|MG - Brasil|\n",
       "|stellamoraes@bol....|mw0AWYAs#s|    AC|      Marrom|            Aeromoça|AC - Brasil|\n",
       "| wcarvalho@ig.com.br|pGD%!2Pq5X|    AP|     Laranja|       Fonoaudiólogo|AP - Brasil|\n",
       "|da-conceicaodavi-...|uhBbFxPA&9|    MG|        Rosa|             Taxista|MG - Brasil|\n",
       "| efreitas@bol.com.br|s#q9VZt&xl|    MG|      Branco|Produtor De Audio...|MG - Brasil|\n",
       "|   wnunes@bol.com.br|_8az1W%n7g|    SE|        Azul|          Cadeirinha|SE - Brasil|\n",
       "| jribeiro@bol.com.br|MEf1X7fj_0|    PA|      Marrom|             Geólogo|PA - Brasil|\n",
       "|  murilo05@gmail.com|Te&gO7GkKs|    MT|      Marrom|      Técnico De Som|MT - Brasil|\n",
       "| joaquim57@ig.com.br|&2E1NY+ARc|    BA|        Rosa|         Esteticista|BA - Brasil|\n",
       "|alexiada-rocha@ig...|@f@!Z!2c*2|    MS|     Laranja|        Microfonista|MS - Brasil|\n",
       "|   pmendes@gmail.com|M+^XDBfe(2|    RR| Verde Claro|              Fiscal|RR - Brasil|\n",
       "|  renan46@bol.com.br|Rp%2pVqfe$|    PA|Verde Escuro|        Contabilista|PA - Brasil|\n",
       "|manuelada-rosa@ho...|#hEIEOztQ3|    SE|     Violeta| Seguidor De Compras|SE - Brasil|\n",
       "|    usales@ig.com.br|b_8xaY$ozJ|    AM|        Rosa|           Almirante|AM - Brasil|\n",
       "|pereiranicolas@ho...|YA9I85Wb+2|    MA|     Amarelo|   Consultor De Moda|MA - Brasil|\n",
       "|cardosolivia@ig.c...|yXkDW7Ebh*|    GO|     Laranja|            Barbeiro|GO - Brasil|\n",
       "|  brenda39@ig.com.br|XS$84Hpsnw|    RJ|      Branco|  Promotor De Vendas|RJ - Brasil|\n",
       "|luizapeixoto@gmai...|TbKy82Kda$|    DF|       Ciano|    Implantodontista|DF - Brasil|\n",
       "+--------------------+----------+------+------------+--------------------+-----------+\n",
       "only showing top 20 rows"
      ]
     },
     "execution_count": 12,
     "metadata": {},
     "output_type": "execute_result"
    }
   ],
   "source": [
    "# função de concatenar strings\n",
    "\n",
    "(\n",
    "    df\n",
    "    .withColumn('concat', F.concat(F.col('profissao'), F.col('cor_favorita')))\n",
    "    .withColumn('concat', F.concat(F.col('estado'), F.lit(' - Brasil')))\n",
    "\n",
    ")"
   ]
  },
  {
   "cell_type": "code",
   "execution_count": 14,
   "metadata": {},
   "outputs": [
    {
     "data": {
      "text/html": [
       "<table border='1'>\n",
       "<tr><th>email</th><th>senha</th><th>estado</th><th>cor_favorita</th><th>profissao</th><th>lower</th><th>upper</th><th>initcap</th></tr>\n",
       "<tr><td>pedro-lucas53@gma...</td><td>+7^7E%xFBc</td><td>RR</td><td>Roxo</td><td>Jogador De Golfe</td><td>jogador de golfe</td><td>ROXO</td><td>Jogador De Golfe</td></tr>\n",
       "<tr><td>rezendeisaac@hotm...</td><td>_O_2GRnGOe</td><td>GO</td><td>Ciano</td><td>Atleta De Arremes...</td><td>atleta de arremes...</td><td>CIANO</td><td>Atleta De Arremes...</td></tr>\n",
       "<tr><td>felipepires@uol.c...</td><td>*Aw5EOAvy9</td><td>MG</td><td>Azul</td><td>Papiloscopista</td><td>papiloscopista</td><td>AZUL</td><td>Papiloscopista</td></tr>\n",
       "<tr><td>stellamoraes@bol....</td><td>mw0AWYAs#s</td><td>AC</td><td>Marrom</td><td>Aeromo&ccedil;a</td><td>aeromo&ccedil;a</td><td>MARROM</td><td>Aeromo&ccedil;a</td></tr>\n",
       "<tr><td>wcarvalho@ig.com.br</td><td>pGD%!2Pq5X</td><td>AP</td><td>Laranja</td><td>Fonoaudi&oacute;logo</td><td>fonoaudi&oacute;logo</td><td>LARANJA</td><td>Fonoaudi&oacute;logo</td></tr>\n",
       "<tr><td>da-conceicaodavi-...</td><td>uhBbFxPA&amp;9</td><td>MG</td><td>Rosa</td><td>Taxista</td><td>taxista</td><td>ROSA</td><td>Taxista</td></tr>\n",
       "<tr><td>efreitas@bol.com.br</td><td>s#q9VZt&amp;xl</td><td>MG</td><td>Branco</td><td>Produtor De Audio...</td><td>produtor de audio...</td><td>BRANCO</td><td>Produtor De Audio...</td></tr>\n",
       "<tr><td>wnunes@bol.com.br</td><td>_8az1W%n7g</td><td>SE</td><td>Azul</td><td>Cadeirinha</td><td>cadeirinha</td><td>AZUL</td><td>Cadeirinha</td></tr>\n",
       "<tr><td>jribeiro@bol.com.br</td><td>MEf1X7fj_0</td><td>PA</td><td>Marrom</td><td>Ge&oacute;logo</td><td>ge&oacute;logo</td><td>MARROM</td><td>Ge&oacute;logo</td></tr>\n",
       "<tr><td>murilo05@gmail.com</td><td>Te&amp;gO7GkKs</td><td>MT</td><td>Marrom</td><td>T&eacute;cnico De Som</td><td>t&eacute;cnico de som</td><td>MARROM</td><td>T&eacute;cnico De Som</td></tr>\n",
       "<tr><td>joaquim57@ig.com.br</td><td>&amp;2E1NY+ARc</td><td>BA</td><td>Rosa</td><td>Esteticista</td><td>esteticista</td><td>ROSA</td><td>Esteticista</td></tr>\n",
       "<tr><td>alexiada-rocha@ig...</td><td>@f@!Z!2c*2</td><td>MS</td><td>Laranja</td><td>Microfonista</td><td>microfonista</td><td>LARANJA</td><td>Microfonista</td></tr>\n",
       "<tr><td>pmendes@gmail.com</td><td>M+^XDBfe(2</td><td>RR</td><td>Verde Claro</td><td>Fiscal</td><td>fiscal</td><td>VERDE CLARO</td><td>Fiscal</td></tr>\n",
       "<tr><td>renan46@bol.com.br</td><td>Rp%2pVqfe$</td><td>PA</td><td>Verde Escuro</td><td>Contabilista</td><td>contabilista</td><td>VERDE ESCURO</td><td>Contabilista</td></tr>\n",
       "<tr><td>manuelada-rosa@ho...</td><td>#hEIEOztQ3</td><td>SE</td><td>Violeta</td><td>Seguidor De Compras</td><td>seguidor de compras</td><td>VIOLETA</td><td>Seguidor De Compras</td></tr>\n",
       "<tr><td>usales@ig.com.br</td><td>b_8xaY$ozJ</td><td>AM</td><td>Rosa</td><td>Almirante</td><td>almirante</td><td>ROSA</td><td>Almirante</td></tr>\n",
       "<tr><td>pereiranicolas@ho...</td><td>YA9I85Wb+2</td><td>MA</td><td>Amarelo</td><td>Consultor De Moda</td><td>consultor de moda</td><td>AMARELO</td><td>Consultor De Moda</td></tr>\n",
       "<tr><td>cardosolivia@ig.c...</td><td>yXkDW7Ebh*</td><td>GO</td><td>Laranja</td><td>Barbeiro</td><td>barbeiro</td><td>LARANJA</td><td>Barbeiro</td></tr>\n",
       "<tr><td>brenda39@ig.com.br</td><td>XS$84Hpsnw</td><td>RJ</td><td>Branco</td><td>Promotor De Vendas</td><td>promotor de vendas</td><td>BRANCO</td><td>Promotor De Vendas</td></tr>\n",
       "<tr><td>luizapeixoto@gmai...</td><td>TbKy82Kda$</td><td>DF</td><td>Ciano</td><td>Implantodontista</td><td>implantodontista</td><td>CIANO</td><td>Implantodontista</td></tr>\n",
       "</table>\n",
       "only showing top 20 rows\n"
      ],
      "text/plain": [
       "+--------------------+----------+------+------------+--------------------+--------------------+------------+--------------------+\n",
       "|               email|     senha|estado|cor_favorita|           profissao|               lower|       upper|             initcap|\n",
       "+--------------------+----------+------+------------+--------------------+--------------------+------------+--------------------+\n",
       "|pedro-lucas53@gma...|+7^7E%xFBc|    RR|        Roxo|    Jogador De Golfe|    jogador de golfe|        ROXO|    Jogador De Golfe|\n",
       "|rezendeisaac@hotm...|_O_2GRnGOe|    GO|       Ciano|Atleta De Arremes...|atleta de arremes...|       CIANO|Atleta De Arremes...|\n",
       "|felipepires@uol.c...|*Aw5EOAvy9|    MG|        Azul|      Papiloscopista|      papiloscopista|        AZUL|      Papiloscopista|\n",
       "|stellamoraes@bol....|mw0AWYAs#s|    AC|      Marrom|            Aeromoça|            aeromoça|      MARROM|            Aeromoça|\n",
       "| wcarvalho@ig.com.br|pGD%!2Pq5X|    AP|     Laranja|       Fonoaudiólogo|       fonoaudiólogo|     LARANJA|       Fonoaudiólogo|\n",
       "|da-conceicaodavi-...|uhBbFxPA&9|    MG|        Rosa|             Taxista|             taxista|        ROSA|             Taxista|\n",
       "| efreitas@bol.com.br|s#q9VZt&xl|    MG|      Branco|Produtor De Audio...|produtor de audio...|      BRANCO|Produtor De Audio...|\n",
       "|   wnunes@bol.com.br|_8az1W%n7g|    SE|        Azul|          Cadeirinha|          cadeirinha|        AZUL|          Cadeirinha|\n",
       "| jribeiro@bol.com.br|MEf1X7fj_0|    PA|      Marrom|             Geólogo|             geólogo|      MARROM|             Geólogo|\n",
       "|  murilo05@gmail.com|Te&gO7GkKs|    MT|      Marrom|      Técnico De Som|      técnico de som|      MARROM|      Técnico De Som|\n",
       "| joaquim57@ig.com.br|&2E1NY+ARc|    BA|        Rosa|         Esteticista|         esteticista|        ROSA|         Esteticista|\n",
       "|alexiada-rocha@ig...|@f@!Z!2c*2|    MS|     Laranja|        Microfonista|        microfonista|     LARANJA|        Microfonista|\n",
       "|   pmendes@gmail.com|M+^XDBfe(2|    RR| Verde Claro|              Fiscal|              fiscal| VERDE CLARO|              Fiscal|\n",
       "|  renan46@bol.com.br|Rp%2pVqfe$|    PA|Verde Escuro|        Contabilista|        contabilista|VERDE ESCURO|        Contabilista|\n",
       "|manuelada-rosa@ho...|#hEIEOztQ3|    SE|     Violeta| Seguidor De Compras| seguidor de compras|     VIOLETA| Seguidor De Compras|\n",
       "|    usales@ig.com.br|b_8xaY$ozJ|    AM|        Rosa|           Almirante|           almirante|        ROSA|           Almirante|\n",
       "|pereiranicolas@ho...|YA9I85Wb+2|    MA|     Amarelo|   Consultor De Moda|   consultor de moda|     AMARELO|   Consultor De Moda|\n",
       "|cardosolivia@ig.c...|yXkDW7Ebh*|    GO|     Laranja|            Barbeiro|            barbeiro|     LARANJA|            Barbeiro|\n",
       "|  brenda39@ig.com.br|XS$84Hpsnw|    RJ|      Branco|  Promotor De Vendas|  promotor de vendas|      BRANCO|  Promotor De Vendas|\n",
       "|luizapeixoto@gmai...|TbKy82Kda$|    DF|       Ciano|    Implantodontista|    implantodontista|       CIANO|    Implantodontista|\n",
       "+--------------------+----------+------+------------+--------------------+--------------------+------------+--------------------+\n",
       "only showing top 20 rows"
      ]
     },
     "execution_count": 14,
     "metadata": {},
     "output_type": "execute_result"
    }
   ],
   "source": [
    "# Funções letras maiusculas e minusculas\n",
    "\n",
    "(\n",
    "    df\n",
    "    .withColumn('lower', F.lower(F.col('profissao')))\n",
    "    .withColumn('upper', F.upper(F.col('cor_favorita')))\n",
    "    .withColumn('initcap', F.initcap(F.col('lower')))\n",
    "\n",
    ")"
   ]
  },
  {
   "cell_type": "code",
   "execution_count": 18,
   "metadata": {},
   "outputs": [
    {
     "data": {
      "text/html": [
       "<table border='1'>\n",
       "<tr><th>email</th><th>senha</th><th>estado</th><th>cor_favorita</th><th>profissao</th><th>substring</th></tr>\n",
       "<tr><td>pedro-lucas53@gma...</td><td>+7^7E%xFBc</td><td>RR</td><td>Roxo</td><td>Jogador De Golfe</td><td>Rox</td></tr>\n",
       "<tr><td>rezendeisaac@hotm...</td><td>_O_2GRnGOe</td><td>GO</td><td>Ciano</td><td>Atleta De Arremes...</td><td>Cia</td></tr>\n",
       "<tr><td>felipepires@uol.c...</td><td>*Aw5EOAvy9</td><td>MG</td><td>Azul</td><td>Papiloscopista</td><td>Azu</td></tr>\n",
       "<tr><td>stellamoraes@bol....</td><td>mw0AWYAs#s</td><td>AC</td><td>Marrom</td><td>Aeromo&ccedil;a</td><td>Mar</td></tr>\n",
       "<tr><td>wcarvalho@ig.com.br</td><td>pGD%!2Pq5X</td><td>AP</td><td>Laranja</td><td>Fonoaudi&oacute;logo</td><td>Lar</td></tr>\n",
       "<tr><td>da-conceicaodavi-...</td><td>uhBbFxPA&amp;9</td><td>MG</td><td>Rosa</td><td>Taxista</td><td>Ros</td></tr>\n",
       "<tr><td>efreitas@bol.com.br</td><td>s#q9VZt&amp;xl</td><td>MG</td><td>Branco</td><td>Produtor De Audio...</td><td>Bra</td></tr>\n",
       "<tr><td>wnunes@bol.com.br</td><td>_8az1W%n7g</td><td>SE</td><td>Azul</td><td>Cadeirinha</td><td>Azu</td></tr>\n",
       "<tr><td>jribeiro@bol.com.br</td><td>MEf1X7fj_0</td><td>PA</td><td>Marrom</td><td>Ge&oacute;logo</td><td>Mar</td></tr>\n",
       "<tr><td>murilo05@gmail.com</td><td>Te&amp;gO7GkKs</td><td>MT</td><td>Marrom</td><td>T&eacute;cnico De Som</td><td>Mar</td></tr>\n",
       "<tr><td>joaquim57@ig.com.br</td><td>&amp;2E1NY+ARc</td><td>BA</td><td>Rosa</td><td>Esteticista</td><td>Ros</td></tr>\n",
       "<tr><td>alexiada-rocha@ig...</td><td>@f@!Z!2c*2</td><td>MS</td><td>Laranja</td><td>Microfonista</td><td>Lar</td></tr>\n",
       "<tr><td>pmendes@gmail.com</td><td>M+^XDBfe(2</td><td>RR</td><td>Verde Claro</td><td>Fiscal</td><td>Ver</td></tr>\n",
       "<tr><td>renan46@bol.com.br</td><td>Rp%2pVqfe$</td><td>PA</td><td>Verde Escuro</td><td>Contabilista</td><td>Ver</td></tr>\n",
       "<tr><td>manuelada-rosa@ho...</td><td>#hEIEOztQ3</td><td>SE</td><td>Violeta</td><td>Seguidor De Compras</td><td>Vio</td></tr>\n",
       "<tr><td>usales@ig.com.br</td><td>b_8xaY$ozJ</td><td>AM</td><td>Rosa</td><td>Almirante</td><td>Ros</td></tr>\n",
       "<tr><td>pereiranicolas@ho...</td><td>YA9I85Wb+2</td><td>MA</td><td>Amarelo</td><td>Consultor De Moda</td><td>Ama</td></tr>\n",
       "<tr><td>cardosolivia@ig.c...</td><td>yXkDW7Ebh*</td><td>GO</td><td>Laranja</td><td>Barbeiro</td><td>Lar</td></tr>\n",
       "<tr><td>brenda39@ig.com.br</td><td>XS$84Hpsnw</td><td>RJ</td><td>Branco</td><td>Promotor De Vendas</td><td>Bra</td></tr>\n",
       "<tr><td>luizapeixoto@gmai...</td><td>TbKy82Kda$</td><td>DF</td><td>Ciano</td><td>Implantodontista</td><td>Cia</td></tr>\n",
       "</table>\n",
       "only showing top 20 rows\n"
      ],
      "text/plain": [
       "+--------------------+----------+------+------------+--------------------+---------+\n",
       "|               email|     senha|estado|cor_favorita|           profissao|substring|\n",
       "+--------------------+----------+------+------------+--------------------+---------+\n",
       "|pedro-lucas53@gma...|+7^7E%xFBc|    RR|        Roxo|    Jogador De Golfe|      Rox|\n",
       "|rezendeisaac@hotm...|_O_2GRnGOe|    GO|       Ciano|Atleta De Arremes...|      Cia|\n",
       "|felipepires@uol.c...|*Aw5EOAvy9|    MG|        Azul|      Papiloscopista|      Azu|\n",
       "|stellamoraes@bol....|mw0AWYAs#s|    AC|      Marrom|            Aeromoça|      Mar|\n",
       "| wcarvalho@ig.com.br|pGD%!2Pq5X|    AP|     Laranja|       Fonoaudiólogo|      Lar|\n",
       "|da-conceicaodavi-...|uhBbFxPA&9|    MG|        Rosa|             Taxista|      Ros|\n",
       "| efreitas@bol.com.br|s#q9VZt&xl|    MG|      Branco|Produtor De Audio...|      Bra|\n",
       "|   wnunes@bol.com.br|_8az1W%n7g|    SE|        Azul|          Cadeirinha|      Azu|\n",
       "| jribeiro@bol.com.br|MEf1X7fj_0|    PA|      Marrom|             Geólogo|      Mar|\n",
       "|  murilo05@gmail.com|Te&gO7GkKs|    MT|      Marrom|      Técnico De Som|      Mar|\n",
       "| joaquim57@ig.com.br|&2E1NY+ARc|    BA|        Rosa|         Esteticista|      Ros|\n",
       "|alexiada-rocha@ig...|@f@!Z!2c*2|    MS|     Laranja|        Microfonista|      Lar|\n",
       "|   pmendes@gmail.com|M+^XDBfe(2|    RR| Verde Claro|              Fiscal|      Ver|\n",
       "|  renan46@bol.com.br|Rp%2pVqfe$|    PA|Verde Escuro|        Contabilista|      Ver|\n",
       "|manuelada-rosa@ho...|#hEIEOztQ3|    SE|     Violeta| Seguidor De Compras|      Vio|\n",
       "|    usales@ig.com.br|b_8xaY$ozJ|    AM|        Rosa|           Almirante|      Ros|\n",
       "|pereiranicolas@ho...|YA9I85Wb+2|    MA|     Amarelo|   Consultor De Moda|      Ama|\n",
       "|cardosolivia@ig.c...|yXkDW7Ebh*|    GO|     Laranja|            Barbeiro|      Lar|\n",
       "|  brenda39@ig.com.br|XS$84Hpsnw|    RJ|      Branco|  Promotor De Vendas|      Bra|\n",
       "|luizapeixoto@gmai...|TbKy82Kda$|    DF|       Ciano|    Implantodontista|      Cia|\n",
       "+--------------------+----------+------+------------+--------------------+---------+\n",
       "only showing top 20 rows"
      ]
     },
     "execution_count": 18,
     "metadata": {},
     "output_type": "execute_result"
    }
   ],
   "source": [
    "# substring pegar partes de uma string e criar uma nova coluna\n",
    "(\n",
    "    df\n",
    "    .withColumn('substring', F.substring(F.col('cor_favorita'), 1, 3))\n",
    "\n",
    ")"
   ]
  },
  {
   "cell_type": "code",
   "execution_count": 21,
   "metadata": {},
   "outputs": [
    {
     "name": "stdout",
     "output_type": "stream",
     "text": [
      "+----------------------------------+------------+---------------------------------------------------+\n",
      "|email                             |cor_favorita|format_string                                      |\n",
      "+----------------------------------+------------+---------------------------------------------------+\n",
      "|pedro-lucas53@gmail.com           |Roxo        |Olá pedro-lucas53, sua cor favorita é Roxo         |\n",
      "|rezendeisaac@hotmail.com          |Ciano       |Olá rezendeisaac, sua cor favorita é Ciano         |\n",
      "|felipepires@uol.com.br            |Azul        |Olá felipepires, sua cor favorita é Azul           |\n",
      "|stellamoraes@bol.com.br           |Marrom      |Olá stellamoraes, sua cor favorita é Marrom        |\n",
      "|wcarvalho@ig.com.br               |Laranja     |Olá wcarvalho, sua cor favorita é Laranja          |\n",
      "|da-conceicaodavi-lucas@hotmail.com|Rosa        |Olá da-conceicaodavi-lucas, sua cor favorita é Rosa|\n",
      "|efreitas@bol.com.br               |Branco      |Olá efreitas, sua cor favorita é Branco            |\n",
      "|wnunes@bol.com.br                 |Azul        |Olá wnunes, sua cor favorita é Azul                |\n",
      "|jribeiro@bol.com.br               |Marrom      |Olá jribeiro, sua cor favorita é Marrom            |\n",
      "|murilo05@gmail.com                |Marrom      |Olá murilo05, sua cor favorita é Marrom            |\n",
      "|joaquim57@ig.com.br               |Rosa        |Olá joaquim57, sua cor favorita é Rosa             |\n",
      "|alexiada-rocha@ig.com.br          |Laranja     |Olá alexiada-rocha, sua cor favorita é Laranja     |\n",
      "|pmendes@gmail.com                 |Verde Claro |Olá pmendes, sua cor favorita é Verde Claro        |\n",
      "|renan46@bol.com.br                |Verde Escuro|Olá renan46, sua cor favorita é Verde Escuro       |\n",
      "|manuelada-rosa@hotmail.com        |Violeta     |Olá manuelada-rosa, sua cor favorita é Violeta     |\n",
      "|usales@ig.com.br                  |Rosa        |Olá usales, sua cor favorita é Rosa                |\n",
      "|pereiranicolas@hotmail.com        |Amarelo     |Olá pereiranicolas, sua cor favorita é Amarelo     |\n",
      "|cardosolivia@ig.com.br            |Laranja     |Olá cardosolivia, sua cor favorita é Laranja       |\n",
      "|brenda39@ig.com.br                |Branco      |Olá brenda39, sua cor favorita é Branco            |\n",
      "|luizapeixoto@gmail.com            |Ciano       |Olá luizapeixoto, sua cor favorita é Ciano         |\n",
      "+----------------------------------+------------+---------------------------------------------------+\n",
      "only showing top 20 rows\n",
      "\n"
     ]
    }
   ],
   "source": [
    "# Função para formatar string\n",
    "(\n",
    "    df\n",
    "    .drop('senha', 'estado', 'profissao')\n",
    "    .withColumn('format_string', F.format_string('Olá %s, sua cor favorita é %s', F.split(df.email, '@').getItem(0), df.cor_favorita))\n",
    "    .show(20, False)\n",
    ")\n"
   ]
  },
  {
   "cell_type": "code",
   "execution_count": 23,
   "metadata": {},
   "outputs": [
    {
     "name": "stdout",
     "output_type": "stream",
     "text": [
      "+----------------------------------+----------+------+------------+---------------------------+-----+\n",
      "|email                             |senha     |estado|cor_favorita|profissao                  |instr|\n",
      "+----------------------------------+----------+------+------------+---------------------------+-----+\n",
      "|pedro-lucas53@gmail.com           |+7^7E%xFBc|RR    |Roxo        |Jogador De Golfe           |14   |\n",
      "|rezendeisaac@hotmail.com          |_O_2GRnGOe|GO    |Ciano       |Atleta De Arremesso De Peso|13   |\n",
      "|felipepires@uol.com.br            |*Aw5EOAvy9|MG    |Azul        |Papiloscopista             |12   |\n",
      "|stellamoraes@bol.com.br           |mw0AWYAs#s|AC    |Marrom      |Aeromoça                   |13   |\n",
      "|wcarvalho@ig.com.br               |pGD%!2Pq5X|AP    |Laranja     |Fonoaudiólogo              |10   |\n",
      "|da-conceicaodavi-lucas@hotmail.com|uhBbFxPA&9|MG    |Rosa        |Taxista                    |23   |\n",
      "|efreitas@bol.com.br               |s#q9VZt&xl|MG    |Branco      |Produtor De Audio Visual   |9    |\n",
      "|wnunes@bol.com.br                 |_8az1W%n7g|SE    |Azul        |Cadeirinha                 |7    |\n",
      "|jribeiro@bol.com.br               |MEf1X7fj_0|PA    |Marrom      |Geólogo                    |9    |\n",
      "|murilo05@gmail.com                |Te&gO7GkKs|MT    |Marrom      |Técnico De Som             |9    |\n",
      "|joaquim57@ig.com.br               |&2E1NY+ARc|BA    |Rosa        |Esteticista                |10   |\n",
      "|alexiada-rocha@ig.com.br          |@f@!Z!2c*2|MS    |Laranja     |Microfonista               |15   |\n",
      "|pmendes@gmail.com                 |M+^XDBfe(2|RR    |Verde Claro |Fiscal                     |8    |\n",
      "|renan46@bol.com.br                |Rp%2pVqfe$|PA    |Verde Escuro|Contabilista               |8    |\n",
      "|manuelada-rosa@hotmail.com        |#hEIEOztQ3|SE    |Violeta     |Seguidor De Compras        |15   |\n",
      "|usales@ig.com.br                  |b_8xaY$ozJ|AM    |Rosa        |Almirante                  |7    |\n",
      "|pereiranicolas@hotmail.com        |YA9I85Wb+2|MA    |Amarelo     |Consultor De Moda          |15   |\n",
      "|cardosolivia@ig.com.br            |yXkDW7Ebh*|GO    |Laranja     |Barbeiro                   |13   |\n",
      "|brenda39@ig.com.br                |XS$84Hpsnw|RJ    |Branco      |Promotor De Vendas         |9    |\n",
      "|luizapeixoto@gmail.com            |TbKy82Kda$|DF    |Ciano       |Implantodontista           |13   |\n",
      "+----------------------------------+----------+------+------------+---------------------------+-----+\n",
      "only showing top 20 rows\n",
      "\n"
     ]
    }
   ],
   "source": [
    "# função para retornar a posição de uma determinada letra\n",
    "\n",
    "(\n",
    "    df\n",
    "    .withColumn('instr', F.instr(df.email, '@') )\n",
    "    .show(20, False)\n",
    ")"
   ]
  },
  {
   "cell_type": "code",
   "execution_count": 24,
   "metadata": {},
   "outputs": [
    {
     "name": "stdout",
     "output_type": "stream",
     "text": [
      "+----------------------------------+----------+------+------------+---------------------------+------+\n",
      "|email                             |senha     |estado|cor_favorita|profissao                  |length|\n",
      "+----------------------------------+----------+------+------------+---------------------------+------+\n",
      "|pedro-lucas53@gmail.com           |+7^7E%xFBc|RR    |Roxo        |Jogador De Golfe           |16    |\n",
      "|rezendeisaac@hotmail.com          |_O_2GRnGOe|GO    |Ciano       |Atleta De Arremesso De Peso|27    |\n",
      "|felipepires@uol.com.br            |*Aw5EOAvy9|MG    |Azul        |Papiloscopista             |14    |\n",
      "|stellamoraes@bol.com.br           |mw0AWYAs#s|AC    |Marrom      |Aeromoça                   |8     |\n",
      "|wcarvalho@ig.com.br               |pGD%!2Pq5X|AP    |Laranja     |Fonoaudiólogo              |13    |\n",
      "|da-conceicaodavi-lucas@hotmail.com|uhBbFxPA&9|MG    |Rosa        |Taxista                    |7     |\n",
      "|efreitas@bol.com.br               |s#q9VZt&xl|MG    |Branco      |Produtor De Audio Visual   |24    |\n",
      "|wnunes@bol.com.br                 |_8az1W%n7g|SE    |Azul        |Cadeirinha                 |10    |\n",
      "|jribeiro@bol.com.br               |MEf1X7fj_0|PA    |Marrom      |Geólogo                    |7     |\n",
      "|murilo05@gmail.com                |Te&gO7GkKs|MT    |Marrom      |Técnico De Som             |14    |\n",
      "|joaquim57@ig.com.br               |&2E1NY+ARc|BA    |Rosa        |Esteticista                |11    |\n",
      "|alexiada-rocha@ig.com.br          |@f@!Z!2c*2|MS    |Laranja     |Microfonista               |12    |\n",
      "|pmendes@gmail.com                 |M+^XDBfe(2|RR    |Verde Claro |Fiscal                     |6     |\n",
      "|renan46@bol.com.br                |Rp%2pVqfe$|PA    |Verde Escuro|Contabilista               |12    |\n",
      "|manuelada-rosa@hotmail.com        |#hEIEOztQ3|SE    |Violeta     |Seguidor De Compras        |19    |\n",
      "|usales@ig.com.br                  |b_8xaY$ozJ|AM    |Rosa        |Almirante                  |9     |\n",
      "|pereiranicolas@hotmail.com        |YA9I85Wb+2|MA    |Amarelo     |Consultor De Moda          |17    |\n",
      "|cardosolivia@ig.com.br            |yXkDW7Ebh*|GO    |Laranja     |Barbeiro                   |8     |\n",
      "|brenda39@ig.com.br                |XS$84Hpsnw|RJ    |Branco      |Promotor De Vendas         |18    |\n",
      "|luizapeixoto@gmail.com            |TbKy82Kda$|DF    |Ciano       |Implantodontista           |16    |\n",
      "+----------------------------------+----------+------+------------+---------------------------+------+\n",
      "only showing top 20 rows\n",
      "\n"
     ]
    }
   ],
   "source": [
    "# função para retornar o tamanho (quantos caracteres)\n",
    "\n",
    "(\n",
    "    df\n",
    "    .withColumn('length', F.length(df.profissao))\n",
    "    .show(20, False)\n",
    ")"
   ]
  },
  {
   "cell_type": "code",
   "execution_count": 25,
   "metadata": {},
   "outputs": [
    {
     "name": "stdout",
     "output_type": "stream",
     "text": [
      "+----------------------------------+----------+------+------------+---------------------------+----------+\n",
      "|email                             |senha     |estado|cor_favorita|profissao                  |repeat    |\n",
      "+----------------------------------+----------+------+------------+---------------------------+----------+\n",
      "|pedro-lucas53@gmail.com           |+7^7E%xFBc|RR    |Roxo        |Jogador De Golfe           |RRRRRRRRRR|\n",
      "|rezendeisaac@hotmail.com          |_O_2GRnGOe|GO    |Ciano       |Atleta De Arremesso De Peso|GOGOGOGOGO|\n",
      "|felipepires@uol.com.br            |*Aw5EOAvy9|MG    |Azul        |Papiloscopista             |MGMGMGMGMG|\n",
      "|stellamoraes@bol.com.br           |mw0AWYAs#s|AC    |Marrom      |Aeromoça                   |ACACACACAC|\n",
      "|wcarvalho@ig.com.br               |pGD%!2Pq5X|AP    |Laranja     |Fonoaudiólogo              |APAPAPAPAP|\n",
      "|da-conceicaodavi-lucas@hotmail.com|uhBbFxPA&9|MG    |Rosa        |Taxista                    |MGMGMGMGMG|\n",
      "|efreitas@bol.com.br               |s#q9VZt&xl|MG    |Branco      |Produtor De Audio Visual   |MGMGMGMGMG|\n",
      "|wnunes@bol.com.br                 |_8az1W%n7g|SE    |Azul        |Cadeirinha                 |SESESESESE|\n",
      "|jribeiro@bol.com.br               |MEf1X7fj_0|PA    |Marrom      |Geólogo                    |PAPAPAPAPA|\n",
      "|murilo05@gmail.com                |Te&gO7GkKs|MT    |Marrom      |Técnico De Som             |MTMTMTMTMT|\n",
      "|joaquim57@ig.com.br               |&2E1NY+ARc|BA    |Rosa        |Esteticista                |BABABABABA|\n",
      "|alexiada-rocha@ig.com.br          |@f@!Z!2c*2|MS    |Laranja     |Microfonista               |MSMSMSMSMS|\n",
      "|pmendes@gmail.com                 |M+^XDBfe(2|RR    |Verde Claro |Fiscal                     |RRRRRRRRRR|\n",
      "|renan46@bol.com.br                |Rp%2pVqfe$|PA    |Verde Escuro|Contabilista               |PAPAPAPAPA|\n",
      "|manuelada-rosa@hotmail.com        |#hEIEOztQ3|SE    |Violeta     |Seguidor De Compras        |SESESESESE|\n",
      "|usales@ig.com.br                  |b_8xaY$ozJ|AM    |Rosa        |Almirante                  |AMAMAMAMAM|\n",
      "|pereiranicolas@hotmail.com        |YA9I85Wb+2|MA    |Amarelo     |Consultor De Moda          |MAMAMAMAMA|\n",
      "|cardosolivia@ig.com.br            |yXkDW7Ebh*|GO    |Laranja     |Barbeiro                   |GOGOGOGOGO|\n",
      "|brenda39@ig.com.br                |XS$84Hpsnw|RJ    |Branco      |Promotor De Vendas         |RJRJRJRJRJ|\n",
      "|luizapeixoto@gmail.com            |TbKy82Kda$|DF    |Ciano       |Implantodontista           |DFDFDFDFDF|\n",
      "+----------------------------------+----------+------+------------+---------------------------+----------+\n",
      "only showing top 20 rows\n",
      "\n"
     ]
    }
   ],
   "source": [
    "# função para repetir o valor de uma coluna por uma quantidade de vezes\n",
    "\n",
    "(\n",
    "    df\n",
    "    .withColumn('repeat', F.repeat(df.estado, 5))\n",
    "    .show(20, False)\n",
    ")"
   ]
  },
  {
   "cell_type": "code",
   "execution_count": 30,
   "metadata": {},
   "outputs": [
    {
     "name": "stdout",
     "output_type": "stream",
     "text": [
      "+----------------------------------+----------+------+------------+---------------------------+-------------+----+\n",
      "|email                             |senha     |estado|cor_favorita|profissao                  |concat       |trim|\n",
      "+----------------------------------+----------+------+------------+---------------------------+-------------+----+\n",
      "|pedro-lucas53@gmail.com           |+7^7E%xFBc|RR    |Roxo        |Jogador De Golfe           |     RR      |RR  |\n",
      "|rezendeisaac@hotmail.com          |_O_2GRnGOe|GO    |Ciano       |Atleta De Arremesso De Peso|     GO      |GO  |\n",
      "|felipepires@uol.com.br            |*Aw5EOAvy9|MG    |Azul        |Papiloscopista             |     MG      |MG  |\n",
      "|stellamoraes@bol.com.br           |mw0AWYAs#s|AC    |Marrom      |Aeromoça                   |     AC      |AC  |\n",
      "|wcarvalho@ig.com.br               |pGD%!2Pq5X|AP    |Laranja     |Fonoaudiólogo              |     AP      |AP  |\n",
      "|da-conceicaodavi-lucas@hotmail.com|uhBbFxPA&9|MG    |Rosa        |Taxista                    |     MG      |MG  |\n",
      "|efreitas@bol.com.br               |s#q9VZt&xl|MG    |Branco      |Produtor De Audio Visual   |     MG      |MG  |\n",
      "|wnunes@bol.com.br                 |_8az1W%n7g|SE    |Azul        |Cadeirinha                 |     SE      |SE  |\n",
      "|jribeiro@bol.com.br               |MEf1X7fj_0|PA    |Marrom      |Geólogo                    |     PA      |PA  |\n",
      "|murilo05@gmail.com                |Te&gO7GkKs|MT    |Marrom      |Técnico De Som             |     MT      |MT  |\n",
      "|joaquim57@ig.com.br               |&2E1NY+ARc|BA    |Rosa        |Esteticista                |     BA      |BA  |\n",
      "|alexiada-rocha@ig.com.br          |@f@!Z!2c*2|MS    |Laranja     |Microfonista               |     MS      |MS  |\n",
      "|pmendes@gmail.com                 |M+^XDBfe(2|RR    |Verde Claro |Fiscal                     |     RR      |RR  |\n",
      "|renan46@bol.com.br                |Rp%2pVqfe$|PA    |Verde Escuro|Contabilista               |     PA      |PA  |\n",
      "|manuelada-rosa@hotmail.com        |#hEIEOztQ3|SE    |Violeta     |Seguidor De Compras        |     SE      |SE  |\n",
      "|usales@ig.com.br                  |b_8xaY$ozJ|AM    |Rosa        |Almirante                  |     AM      |AM  |\n",
      "|pereiranicolas@hotmail.com        |YA9I85Wb+2|MA    |Amarelo     |Consultor De Moda          |     MA      |MA  |\n",
      "|cardosolivia@ig.com.br            |yXkDW7Ebh*|GO    |Laranja     |Barbeiro                   |     GO      |GO  |\n",
      "|brenda39@ig.com.br                |XS$84Hpsnw|RJ    |Branco      |Promotor De Vendas         |     RJ      |RJ  |\n",
      "|luizapeixoto@gmail.com            |TbKy82Kda$|DF    |Ciano       |Implantodontista           |     DF      |DF  |\n",
      "+----------------------------------+----------+------+------------+---------------------------+-------------+----+\n",
      "only showing top 20 rows\n",
      "\n"
     ]
    }
   ],
   "source": [
    "# função para cortar excesso de espacos em uma strings\n",
    "\n",
    "(\n",
    "    df\n",
    "    .withColumn('concat', F.concat(F.lit('     '), df.estado, F.lit('      ')))\n",
    "    .withColumn('trim', F.trim(F.col('concat')))\n",
    "    .show(20, False)\n",
    ")"
   ]
  },
  {
   "cell_type": "code",
   "execution_count": 33,
   "metadata": {},
   "outputs": [
    {
     "name": "stdout",
     "output_type": "stream",
     "text": [
      "+----------------------------------+----------+------+------------+---------------------------+----------+----------+\n",
      "|email                             |senha     |estado|cor_favorita|profissao                  |lpad      |rpad      |\n",
      "+----------------------------------+----------+------+------------+---------------------------+----------+----------+\n",
      "|pedro-lucas53@gmail.com           |+7^7E%xFBc|RR    |Roxo        |Jogador De Golfe           |>>>>>>Roxo|Roxo>>>>>>|\n",
      "|rezendeisaac@hotmail.com          |_O_2GRnGOe|GO    |Ciano       |Atleta De Arremesso De Peso|>>>>>Ciano|Ciano>>>>>|\n",
      "|felipepires@uol.com.br            |*Aw5EOAvy9|MG    |Azul        |Papiloscopista             |>>>>>>Azul|Azul>>>>>>|\n",
      "|stellamoraes@bol.com.br           |mw0AWYAs#s|AC    |Marrom      |Aeromoça                   |>>>>Marrom|Marrom>>>>|\n",
      "|wcarvalho@ig.com.br               |pGD%!2Pq5X|AP    |Laranja     |Fonoaudiólogo              |>>>Laranja|Laranja>>>|\n",
      "|da-conceicaodavi-lucas@hotmail.com|uhBbFxPA&9|MG    |Rosa        |Taxista                    |>>>>>>Rosa|Rosa>>>>>>|\n",
      "|efreitas@bol.com.br               |s#q9VZt&xl|MG    |Branco      |Produtor De Audio Visual   |>>>>Branco|Branco>>>>|\n",
      "|wnunes@bol.com.br                 |_8az1W%n7g|SE    |Azul        |Cadeirinha                 |>>>>>>Azul|Azul>>>>>>|\n",
      "|jribeiro@bol.com.br               |MEf1X7fj_0|PA    |Marrom      |Geólogo                    |>>>>Marrom|Marrom>>>>|\n",
      "|murilo05@gmail.com                |Te&gO7GkKs|MT    |Marrom      |Técnico De Som             |>>>>Marrom|Marrom>>>>|\n",
      "|joaquim57@ig.com.br               |&2E1NY+ARc|BA    |Rosa        |Esteticista                |>>>>>>Rosa|Rosa>>>>>>|\n",
      "|alexiada-rocha@ig.com.br          |@f@!Z!2c*2|MS    |Laranja     |Microfonista               |>>>Laranja|Laranja>>>|\n",
      "|pmendes@gmail.com                 |M+^XDBfe(2|RR    |Verde Claro |Fiscal                     |Verde Clar|Verde Clar|\n",
      "|renan46@bol.com.br                |Rp%2pVqfe$|PA    |Verde Escuro|Contabilista               |Verde Escu|Verde Escu|\n",
      "|manuelada-rosa@hotmail.com        |#hEIEOztQ3|SE    |Violeta     |Seguidor De Compras        |>>>Violeta|Violeta>>>|\n",
      "|usales@ig.com.br                  |b_8xaY$ozJ|AM    |Rosa        |Almirante                  |>>>>>>Rosa|Rosa>>>>>>|\n",
      "|pereiranicolas@hotmail.com        |YA9I85Wb+2|MA    |Amarelo     |Consultor De Moda          |>>>Amarelo|Amarelo>>>|\n",
      "|cardosolivia@ig.com.br            |yXkDW7Ebh*|GO    |Laranja     |Barbeiro                   |>>>Laranja|Laranja>>>|\n",
      "|brenda39@ig.com.br                |XS$84Hpsnw|RJ    |Branco      |Promotor De Vendas         |>>>>Branco|Branco>>>>|\n",
      "|luizapeixoto@gmail.com            |TbKy82Kda$|DF    |Ciano       |Implantodontista           |>>>>>Ciano|Ciano>>>>>|\n",
      "+----------------------------------+----------+------+------------+---------------------------+----------+----------+\n",
      "only showing top 20 rows\n",
      "\n"
     ]
    }
   ],
   "source": [
    "# função para preenchimento a esquerda ou a direita\n",
    "\n",
    "(\n",
    "    df\n",
    "    .withColumn('lpad', F.lpad(df.cor_favorita, 10, '>'))\n",
    "    .withColumn('rpad', F.rpad(df.cor_favorita, 10, '>'))\n",
    "    .show(20, False)\n",
    ")"
   ]
  },
  {
   "cell_type": "code",
   "execution_count": null,
   "metadata": {},
   "outputs": [],
   "source": []
  }
 ],
 "metadata": {
  "kernelspec": {
   "display_name": "Python 3",
   "language": "python",
   "name": "python3"
  },
  "language_info": {
   "codemirror_mode": {
    "name": "ipython",
    "version": 3
   },
   "file_extension": ".py",
   "mimetype": "text/x-python",
   "name": "python",
   "nbconvert_exporter": "python",
   "pygments_lexer": "ipython3",
   "version": "3.11.8"
  }
 },
 "nbformat": 4,
 "nbformat_minor": 2
}
