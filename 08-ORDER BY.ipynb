{
 "cells": [
  {
   "cell_type": "code",
   "execution_count": 1,
   "metadata": {},
   "outputs": [],
   "source": [
    "#Cria sessão Spark\n",
    "from pyspark.sql import SparkSession\n",
    "from pyspark.sql.functions import col\n",
    "import pyspark.sql.functions as F"
   ]
  },
  {
   "cell_type": "code",
   "execution_count": 2,
   "metadata": {},
   "outputs": [],
   "source": [
    "#Instância Spark\n",
    "spark = SparkSession.builder.appName('Curso Pyspark') \\\n",
    "         .config('spark.sql.repl.eagerEval.enabled', True) \\\n",
    "         .getOrCreate()      "
   ]
  },
  {
   "cell_type": "code",
   "execution_count": 3,
   "metadata": {},
   "outputs": [],
   "source": [
    "# lendo um arquivo parquet\n",
    "df = spark.read.parquet('./DATASETS/LOGINS.parquet')"
   ]
  },
  {
   "cell_type": "code",
   "execution_count": 4,
   "metadata": {},
   "outputs": [
    {
     "name": "stdout",
     "output_type": "stream",
     "text": [
      "+--------------+----------------------------------+----------+------------------+------+-------------+---------------+------------+---------------------------+-------------------+\n",
      "|cpf           |email                             |senha     |data_de_nascimento|estado|data_cadastro|ipv4           |cor_favorita|profissao                  |telefone           |\n",
      "+--------------+----------------------------------+----------+------------------+------+-------------+---------------+------------+---------------------------+-------------------+\n",
      "|981.507.362-12|pedro-lucas53@gmail.com           |+7^7E%xFBc|2006-12-18        |RR    |2023-02-26   |99.107.250.210 |Roxo        |Jogador De Golfe           |31 7785-4046       |\n",
      "|493.705.168-75|rezendeisaac@hotmail.com          |_O_2GRnGOe|1992-06-17        |GO    |2023-02-16   |197.11.26.213  |Ciano       |Atleta De Arremesso De Peso|(031) 0803-6753    |\n",
      "|398.471.625-73|felipepires@uol.com.br            |*Aw5EOAvy9|1921-11-11        |MG    |2023-01-02   |181.90.63.58   |Azul        |Papiloscopista             |11 9674-0553       |\n",
      "|092.618.354-06|stellamoraes@bol.com.br           |mw0AWYAs#s|2021-06-01        |AC    |2023-01-08   |26.121.127.94  |Marrom      |Aeromoça                   |+55 (071) 3033 9177|\n",
      "|509.427.136-99|wcarvalho@ig.com.br               |pGD%!2Pq5X|1969-10-28        |AP    |2023-02-14   |76.184.52.163  |Laranja     |Fonoaudiólogo              |+55 (071) 6272 2468|\n",
      "|218.795.460-94|da-conceicaodavi-lucas@hotmail.com|uhBbFxPA&9|1986-05-19        |MG    |2023-03-07   |192.93.0.24    |Rosa        |Taxista                    |+55 84 0652 9691   |\n",
      "|715.836.940-48|efreitas@bol.com.br               |s#q9VZt&xl|2018-04-20        |MG    |2023-01-13   |76.251.188.148 |Branco      |Produtor De Audio Visual   |+55 (084) 1363 0052|\n",
      "|475.698.032-56|wnunes@bol.com.br                 |_8az1W%n7g|1996-05-12        |SE    |2023-02-04   |139.196.176.154|Azul        |Cadeirinha                 |(071) 1640-3388    |\n",
      "|217.639.540-99|jribeiro@bol.com.br               |MEf1X7fj_0|2021-10-05        |PA    |2023-03-02   |71.22.224.5    |Marrom      |Geólogo                    |21 1432 4092       |\n",
      "|261.938.750-77|murilo05@gmail.com                |Te&gO7GkKs|1917-01-05        |MT    |2023-02-21   |136.54.123.165 |Marrom      |Técnico De Som             |+55 (084) 5878-3346|\n",
      "|520.831.796-68|joaquim57@ig.com.br               |&2E1NY+ARc|1912-05-25        |BA    |2023-01-25   |78.196.255.126 |Rosa        |Esteticista                |41 7914-3753       |\n",
      "|413.087.526-44|alexiada-rocha@ig.com.br          |@f@!Z!2c*2|1920-05-26        |MS    |2023-02-18   |182.61.65.201  |Laranja     |Microfonista               |(021) 3739-2944    |\n",
      "|509.287.143-14|pmendes@gmail.com                 |M+^XDBfe(2|1938-03-11        |RR    |2023-01-19   |61.234.208.17  |Verde Claro |Fiscal                     |+55 (084) 5940-1932|\n",
      "|563.170.492-70|renan46@bol.com.br                |Rp%2pVqfe$|1922-09-01        |PA    |2023-02-01   |122.203.83.177 |Verde Escuro|Contabilista               |+55 41 6248 5773   |\n",
      "|098.712.346-78|manuelada-rosa@hotmail.com        |#hEIEOztQ3|2013-01-10        |SE    |2023-01-07   |175.18.73.211  |Violeta     |Seguidor De Compras        |51 0278 0564       |\n",
      "|345.709.261-34|usales@ig.com.br                  |b_8xaY$ozJ|1992-10-16        |AM    |2023-01-05   |97.93.29.75    |Rosa        |Almirante                  |(084) 8993-4521    |\n",
      "|318.254.906-51|pereiranicolas@hotmail.com        |YA9I85Wb+2|1945-11-18        |MA    |2023-01-24   |182.195.33.137 |Amarelo     |Consultor De Moda          |(084) 4591 3795    |\n",
      "|610.287.453-62|cardosolivia@ig.com.br            |yXkDW7Ebh*|1915-11-15        |GO    |2023-01-22   |195.194.63.184 |Laranja     |Barbeiro                   |+55 61 8967-9563   |\n",
      "|615.790.842-49|brenda39@ig.com.br                |XS$84Hpsnw|1964-02-01        |RJ    |2023-02-16   |21.252.226.29  |Branco      |Promotor De Vendas         |+55 (021) 4751 2004|\n",
      "|624.095.138-24|luizapeixoto@gmail.com            |TbKy82Kda$|1959-02-01        |DF    |2023-02-25   |105.107.23.13  |Ciano       |Implantodontista           |84 1293 1906       |\n",
      "+--------------+----------------------------------+----------+------------------+------+-------------+---------------+------------+---------------------------+-------------------+\n",
      "only showing top 20 rows\n",
      "\n"
     ]
    }
   ],
   "source": [
    "df.show(20, False)"
   ]
  },
  {
   "cell_type": "code",
   "execution_count": 6,
   "metadata": {},
   "outputs": [
    {
     "data": {
      "text/html": [
       "<table border='1'>\n",
       "<tr><th>cpf</th><th>email</th><th>senha</th><th>data_de_nascimento</th><th>estado</th><th>data_cadastro</th><th>ipv4</th><th>cor_favorita</th><th>profissao</th><th>telefone</th></tr>\n",
       "<tr><td>621.405.389-51</td><td>aaragao@hotmail.com</td><td>_JYL0DQtf2</td><td>1914-01-28</td><td>CE</td><td>2023-02-14</td><td>13.16.193.193</td><td>Violeta</td><td>Mestre-De-Obras</td><td>(084) 5160 2174</td></tr>\n",
       "<tr><td>634.205.971-34</td><td>aazevedo@yahoo.co...</td><td>&amp;3HILwOn4R</td><td>1924-09-25</td><td>AL</td><td>2023-03-09</td><td>219.11.145.237</td><td>Verde Escuro</td><td>Senador</td><td>+55 (061) 7082-6767</td></tr>\n",
       "<tr><td>298.356.041-42</td><td>acardoso@gmail.com</td><td>$F7V+mgg**</td><td>1935-12-02</td><td>MS</td><td>2023-01-07</td><td>184.215.220.225</td><td>Preto</td><td>Transcritor</td><td>+55 (021) 0076-2292</td></tr>\n",
       "<tr><td>341.698.720-96</td><td>acarvalho@uol.com.br</td><td>1jtUGOLd!X</td><td>2006-06-22</td><td>AL</td><td>2023-02-23</td><td>11.122.146.214</td><td>Laranja</td><td>Tenista</td><td>+55 61 9832 2237</td></tr>\n",
       "<tr><td>208.754.391-79</td><td>acosta@hotmail.com</td><td>!0CNLeSz_u</td><td>1984-10-25</td><td>SC</td><td>2023-02-14</td><td>20.111.50.200</td><td>Amarelo</td><td>Artes&atilde;o</td><td>71 6561 0125</td></tr>\n",
       "<tr><td>259.781.036-40</td><td>adas-neves@hotmai...</td><td>P^6VzcbuGq</td><td>1954-05-13</td><td>DF</td><td>2023-03-15</td><td>129.233.47.92</td><td>Rosa</td><td>Engenheiro De Mat...</td><td>21 0388-2423</td></tr>\n",
       "<tr><td>410.732.986-04</td><td>afernandes@gmail.com</td><td>x0gGbTtp^X</td><td>1924-05-07</td><td>AM</td><td>2023-01-18</td><td>218.29.94.87</td><td>Marrom</td><td>Estat&iacute;stico</td><td>0300 825 2508</td></tr>\n",
       "<tr><td>623.047.198-13</td><td>aferreira@hotmail...</td><td>q@7vNfPpE@</td><td>1943-10-09</td><td>BA</td><td>2023-02-17</td><td>130.49.142.235</td><td>Marrom</td><td>Flautista</td><td>(031) 4448-2587</td></tr>\n",
       "<tr><td>734.825.106-44</td><td>agatha76@bol.com.br</td><td>*VHMNZa4&amp;9</td><td>1919-05-27</td><td>PE</td><td>2023-01-05</td><td>222.173.123.246</td><td>Magenta</td><td>Assistente Social</td><td>+55 (021) 8031-1835</td></tr>\n",
       "<tr><td>517.806.342-26</td><td>agatha82@ig.com.br</td><td>#4Zhn3k67a</td><td>2011-08-31</td><td>TO</td><td>2023-02-14</td><td>92.13.130.231</td><td>Roxo</td><td>Tenente</td><td>+55 (084) 2134 9259</td></tr>\n",
       "<tr><td>495.068.172-94</td><td>alana94@bol.com.br</td><td>IfV2bMYl(*</td><td>1930-06-26</td><td>ES</td><td>2023-03-04</td><td>32.46.82.32</td><td>Marrom</td><td>Catador De Materi...</td><td>11 7683-1500</td></tr>\n",
       "<tr><td>123.485.607-71</td><td>alexandreda-paz@g...</td><td>0LDkoQVu(p</td><td>2005-07-31</td><td>RO</td><td>2023-01-03</td><td>70.108.33.80</td><td>Verde Escuro</td><td>Orientador Educac...</td><td>+55 51 5580 9105</td></tr>\n",
       "<tr><td>984.576.023-65</td><td>alexandrenovaes@b...</td><td>5dOPQdpy+K</td><td>2007-12-18</td><td>RJ</td><td>2023-01-10</td><td>31.99.42.130</td><td>Amarelo</td><td>Triatleta</td><td>71 3730 3757</td></tr>\n",
       "<tr><td>704.391.285-79</td><td>alexia76@bol.com.br</td><td>@8(aMEorP_</td><td>1996-01-21</td><td>MA</td><td>2023-02-24</td><td>108.191.88.153</td><td>Verde Claro</td><td>Sacoleira</td><td>+55 (051) 1760 8904</td></tr>\n",
       "<tr><td>370.986.215-95</td><td>alexiacavalcanti@...</td><td>vXwc9HTp&amp;6</td><td>1947-04-14</td><td>DF</td><td>2023-01-06</td><td>137.162.224.251</td><td>Rosa</td><td>Engenheiro Agr&ocirc;nomo</td><td>(061) 9714-2240</td></tr>\n",
       "<tr><td>413.087.526-44</td><td>alexiada-rocha@ig...</td><td>@f@!Z!2c*2</td><td>1920-05-26</td><td>MS</td><td>2023-02-18</td><td>182.61.65.201</td><td>Laranja</td><td>Microfonista</td><td>(021) 3739-2944</td></tr>\n",
       "<tr><td>026.358.719-30</td><td>alexiasilva@yahoo...</td><td>#aMFx)3wI1</td><td>1940-09-13</td><td>RO</td><td>2023-02-22</td><td>52.91.52.76</td><td>Azul</td><td>Baixista</td><td>(061) 3231-7250</td></tr>\n",
       "<tr><td>361.280.594-06</td><td>alice20@hotmail.com</td><td>@0JRBP$&amp;j)</td><td>2012-02-08</td><td>SE</td><td>2023-01-02</td><td>129.116.136.189</td><td>Verde Claro</td><td>Otorrinolaringolo...</td><td>11 6808 5565</td></tr>\n",
       "<tr><td>593.206.418-89</td><td>alice27@bol.com.br</td><td>^CBQA4*v$1</td><td>2022-11-28</td><td>PE</td><td>2023-03-11</td><td>155.80.98.177</td><td>Preto</td><td>Salva-Vidas</td><td>+55 (051) 8804 3153</td></tr>\n",
       "<tr><td>631.524.890-05</td><td>alicia95@ig.com.br</td><td>ySH4*YDv#i</td><td>1985-04-13</td><td>MS</td><td>2023-03-09</td><td>35.69.58.7</td><td>Ciano</td><td>Dublador</td><td>+55 71 2435-3716</td></tr>\n",
       "</table>\n",
       "only showing top 20 rows\n"
      ],
      "text/plain": [
       "+--------------+--------------------+----------+------------------+------+-------------+---------------+------------+--------------------+-------------------+\n",
       "|           cpf|               email|     senha|data_de_nascimento|estado|data_cadastro|           ipv4|cor_favorita|           profissao|           telefone|\n",
       "+--------------+--------------------+----------+------------------+------+-------------+---------------+------------+--------------------+-------------------+\n",
       "|621.405.389-51| aaragao@hotmail.com|_JYL0DQtf2|        1914-01-28|    CE|   2023-02-14|  13.16.193.193|     Violeta|     Mestre-De-Obras|    (084) 5160 2174|\n",
       "|634.205.971-34|aazevedo@yahoo.co...|&3HILwOn4R|        1924-09-25|    AL|   2023-03-09| 219.11.145.237|Verde Escuro|             Senador|+55 (061) 7082-6767|\n",
       "|298.356.041-42|  acardoso@gmail.com|$F7V+mgg**|        1935-12-02|    MS|   2023-01-07|184.215.220.225|       Preto|         Transcritor|+55 (021) 0076-2292|\n",
       "|341.698.720-96|acarvalho@uol.com.br|1jtUGOLd!X|        2006-06-22|    AL|   2023-02-23| 11.122.146.214|     Laranja|             Tenista|   +55 61 9832 2237|\n",
       "|208.754.391-79|  acosta@hotmail.com|!0CNLeSz_u|        1984-10-25|    SC|   2023-02-14|  20.111.50.200|     Amarelo|             Artesão|       71 6561 0125|\n",
       "|259.781.036-40|adas-neves@hotmai...|P^6VzcbuGq|        1954-05-13|    DF|   2023-03-15|  129.233.47.92|        Rosa|Engenheiro De Mat...|       21 0388-2423|\n",
       "|410.732.986-04|afernandes@gmail.com|x0gGbTtp^X|        1924-05-07|    AM|   2023-01-18|   218.29.94.87|      Marrom|         Estatístico|      0300 825 2508|\n",
       "|623.047.198-13|aferreira@hotmail...|q@7vNfPpE@|        1943-10-09|    BA|   2023-02-17| 130.49.142.235|      Marrom|           Flautista|    (031) 4448-2587|\n",
       "|734.825.106-44| agatha76@bol.com.br|*VHMNZa4&9|        1919-05-27|    PE|   2023-01-05|222.173.123.246|     Magenta|   Assistente Social|+55 (021) 8031-1835|\n",
       "|517.806.342-26|  agatha82@ig.com.br|#4Zhn3k67a|        2011-08-31|    TO|   2023-02-14|  92.13.130.231|        Roxo|             Tenente|+55 (084) 2134 9259|\n",
       "|495.068.172-94|  alana94@bol.com.br|IfV2bMYl(*|        1930-06-26|    ES|   2023-03-04|    32.46.82.32|      Marrom|Catador De Materi...|       11 7683-1500|\n",
       "|123.485.607-71|alexandreda-paz@g...|0LDkoQVu(p|        2005-07-31|    RO|   2023-01-03|   70.108.33.80|Verde Escuro|Orientador Educac...|   +55 51 5580 9105|\n",
       "|984.576.023-65|alexandrenovaes@b...|5dOPQdpy+K|        2007-12-18|    RJ|   2023-01-10|   31.99.42.130|     Amarelo|           Triatleta|       71 3730 3757|\n",
       "|704.391.285-79| alexia76@bol.com.br|@8(aMEorP_|        1996-01-21|    MA|   2023-02-24| 108.191.88.153| Verde Claro|           Sacoleira|+55 (051) 1760 8904|\n",
       "|370.986.215-95|alexiacavalcanti@...|vXwc9HTp&6|        1947-04-14|    DF|   2023-01-06|137.162.224.251|        Rosa| Engenheiro Agrônomo|    (061) 9714-2240|\n",
       "|413.087.526-44|alexiada-rocha@ig...|@f@!Z!2c*2|        1920-05-26|    MS|   2023-02-18|  182.61.65.201|     Laranja|        Microfonista|    (021) 3739-2944|\n",
       "|026.358.719-30|alexiasilva@yahoo...|#aMFx)3wI1|        1940-09-13|    RO|   2023-02-22|    52.91.52.76|        Azul|            Baixista|    (061) 3231-7250|\n",
       "|361.280.594-06| alice20@hotmail.com|@0JRBP$&j)|        2012-02-08|    SE|   2023-01-02|129.116.136.189| Verde Claro|Otorrinolaringolo...|       11 6808 5565|\n",
       "|593.206.418-89|  alice27@bol.com.br|^CBQA4*v$1|        2022-11-28|    PE|   2023-03-11|  155.80.98.177|       Preto|         Salva-Vidas|+55 (051) 8804 3153|\n",
       "|631.524.890-05|  alicia95@ig.com.br|ySH4*YDv#i|        1985-04-13|    MS|   2023-03-09|     35.69.58.7|       Ciano|            Dublador|   +55 71 2435-3716|\n",
       "+--------------+--------------------+----------+------------------+------+-------------+---------------+------------+--------------------+-------------------+\n",
       "only showing top 20 rows"
      ]
     },
     "execution_count": 6,
     "metadata": {},
     "output_type": "execute_result"
    }
   ],
   "source": [
    "df.orderBy('email')"
   ]
  },
  {
   "cell_type": "code",
   "execution_count": null,
   "metadata": {},
   "outputs": [],
   "source": [
    "df.orderBy('email')"
   ]
  },
  {
   "cell_type": "code",
   "execution_count": 7,
   "metadata": {},
   "outputs": [
    {
     "data": {
      "text/html": [
       "<table border='1'>\n",
       "<tr><th>cpf</th><th>email</th><th>senha</th><th>data_de_nascimento</th><th>estado</th><th>data_cadastro</th><th>ipv4</th><th>cor_favorita</th><th>profissao</th><th>telefone</th></tr>\n",
       "<tr><td>837.021.546-71</td><td>zpinto@yahoo.com.br</td><td>(5R*_#XVDl</td><td>1955-06-08</td><td>RR</td><td>2023-02-06</td><td>52.26.104.153</td><td>Rosa</td><td>Argumentista</td><td>(081) 8099 9690</td></tr>\n",
       "<tr><td>037.862.951-40</td><td>zlopes@gmail.com</td><td>_LYcJLlu&amp;8</td><td>1966-10-15</td><td>RR</td><td>2023-03-14</td><td>64.236.21.52</td><td>Branco</td><td>Ourives</td><td>+55 61 4893 1165</td></tr>\n",
       "<tr><td>398.051.472-23</td><td>zgomes@uol.com.br</td><td>0QZ0RHjHw%</td><td>1945-02-04</td><td>SE</td><td>2023-02-07</td><td>126.249.226.142</td><td>Magenta</td><td>Cadista</td><td>(021) 0775 2915</td></tr>\n",
       "<tr><td>482.063.597-29</td><td>zgomes@uol.com.br</td><td>zIEEb2Oma^</td><td>1990-04-25</td><td>PI</td><td>2023-03-05</td><td>152.70.106.84</td><td>Verde Escuro</td><td>Baterista</td><td>+55 (061) 9491 2341</td></tr>\n",
       "<tr><td>063.581.249-51</td><td>zfernandes@hotmai...</td><td>+I%Lr!wz0(</td><td>1962-08-22</td><td>MT</td><td>2023-02-12</td><td>53.238.78.76</td><td>Azul</td><td>Fundidor De Placa...</td><td>71 1659-6052</td></tr>\n",
       "<tr><td>341.697.025-06</td><td>ypeixoto@yahoo.co...</td><td>&amp;3H*Q_soD4</td><td>1973-12-18</td><td>BA</td><td>2023-03-15</td><td>36.64.228.53</td><td>Verde Claro</td><td>Ferreiro</td><td>0500-012-9429</td></tr>\n",
       "<tr><td>365.841.029-98</td><td>ypeixoto@hotmail.com</td><td>c$8TxYirOu</td><td>1995-06-11</td><td>SE</td><td>2023-03-13</td><td>160.93.14.250</td><td>Magenta</td><td>Engenheiro Cartog...</td><td>0800-480-3407</td></tr>\n",
       "<tr><td>891.034.672-87</td><td>ynogueira@hotmail...</td><td>@3AJHqIWkV</td><td>2021-07-30</td><td>AL</td><td>2023-01-05</td><td>143.134.33.192</td><td>Azul Escuro</td><td>Torneiro Mec&acirc;nico</td><td>0500-324-4347</td></tr>\n",
       "<tr><td>794.623.805-38</td><td>ymoura@gmail.com</td><td>*bZGnLObY0</td><td>1946-05-30</td><td>AC</td><td>2023-01-02</td><td>22.66.90.218</td><td>Azul Escuro</td><td>Investigador Part...</td><td>(051) 4288 6754</td></tr>\n",
       "<tr><td>561.438.072-80</td><td>ymoraes@ig.com.br</td><td>c(6&amp;FoouMR</td><td>1998-02-23</td><td>AC</td><td>2023-02-15</td><td>8.207.21.132</td><td>Marrom</td><td>Odontologista Pre...</td><td>(061) 5069 4948</td></tr>\n",
       "<tr><td>054.681.327-53</td><td>ymelo@ig.com.br</td><td>_&amp;(RxJ@b9i</td><td>1941-11-13</td><td>MA</td><td>2023-01-21</td><td>177.136.210.154</td><td>Cinza</td><td>Argumentista</td><td>11 9674-4969</td></tr>\n",
       "<tr><td>854.209.361-51</td><td>ylima@yahoo.com.br</td><td>(w&amp;9QnOv#B</td><td>1954-07-28</td><td>PI</td><td>2023-03-01</td><td>129.24.96.93</td><td>Cinza</td><td>Dj</td><td>(081) 0026 6407</td></tr>\n",
       "<tr><td>974.612.805-11</td><td>yferreira@uol.com.br</td><td>#2KsZ_zn_P</td><td>1981-02-05</td><td>SP</td><td>2023-01-31</td><td>110.94.27.112</td><td>Verde Claro</td><td>Moldador</td><td>+55 (051) 2735 3651</td></tr>\n",
       "<tr><td>562.713.480-17</td><td>ydas-neves@bol.co...</td><td>p@0Ukod4xl</td><td>1940-03-12</td><td>SC</td><td>2023-02-22</td><td>150.110.65.174</td><td>Amarelo</td><td>T&eacute;cnico Em Rede</td><td>(071) 1865 1558</td></tr>\n",
       "<tr><td>947.615.238-91</td><td>yda-paz@bol.com.br</td><td>wVmsBsEn@4</td><td>1950-11-29</td><td>SC</td><td>2023-02-13</td><td>100.172.217.120</td><td>Magenta</td><td>Surfista</td><td>+55 41 6990 8024</td></tr>\n",
       "<tr><td>395.184.760-39</td><td>yda-luz@uol.com.br</td><td>6^8)1tranG</td><td>1940-09-12</td><td>AM</td><td>2023-01-31</td><td>40.183.73.149</td><td>Marrom</td><td>Tintureiro</td><td>(021) 2493 8417</td></tr>\n",
       "<tr><td>096.741.853-48</td><td>yda-costa@uol.com.br</td><td>x7J&amp;2$a2(7</td><td>2018-08-06</td><td>RS</td><td>2023-03-09</td><td>34.94.78.134</td><td>Branco</td><td>T&eacute;cnico Em Arquivo</td><td>+55 (081) 5917 4735</td></tr>\n",
       "<tr><td>076.541.328-08</td><td>ycorreia@yahoo.co...</td><td>N6S1Xk0YD)</td><td>2003-07-25</td><td>SP</td><td>2023-02-22</td><td>108.16.1.197</td><td>Magenta</td><td>Jogador De Handebol</td><td>+55 71 9877-2831</td></tr>\n",
       "<tr><td>126.958.304-24</td><td>ycavalcanti@bol.c...</td><td>xoKn)JSQ^7</td><td>2006-10-28</td><td>AM</td><td>2023-02-21</td><td>146.140.176.146</td><td>Azul</td><td>Patinador</td><td>0800-596-5498</td></tr>\n",
       "<tr><td>134.985.067-57</td><td>yago35@bol.com.br</td><td>Mcp&amp;6MYtbL</td><td>1993-12-03</td><td>PE</td><td>2023-02-14</td><td>10.67.124.77</td><td>Magenta</td><td>Engenheiro Mecatr...</td><td>81 5269-9143</td></tr>\n",
       "</table>\n",
       "only showing top 20 rows\n"
      ],
      "text/plain": [
       "+--------------+--------------------+----------+------------------+------+-------------+---------------+------------+--------------------+-------------------+\n",
       "|           cpf|               email|     senha|data_de_nascimento|estado|data_cadastro|           ipv4|cor_favorita|           profissao|           telefone|\n",
       "+--------------+--------------------+----------+------------------+------+-------------+---------------+------------+--------------------+-------------------+\n",
       "|837.021.546-71| zpinto@yahoo.com.br|(5R*_#XVDl|        1955-06-08|    RR|   2023-02-06|  52.26.104.153|        Rosa|        Argumentista|    (081) 8099 9690|\n",
       "|037.862.951-40|    zlopes@gmail.com|_LYcJLlu&8|        1966-10-15|    RR|   2023-03-14|   64.236.21.52|      Branco|             Ourives|   +55 61 4893 1165|\n",
       "|398.051.472-23|   zgomes@uol.com.br|0QZ0RHjHw%|        1945-02-04|    SE|   2023-02-07|126.249.226.142|     Magenta|             Cadista|    (021) 0775 2915|\n",
       "|482.063.597-29|   zgomes@uol.com.br|zIEEb2Oma^|        1990-04-25|    PI|   2023-03-05|  152.70.106.84|Verde Escuro|           Baterista|+55 (061) 9491 2341|\n",
       "|063.581.249-51|zfernandes@hotmai...|+I%Lr!wz0(|        1962-08-22|    MT|   2023-02-12|   53.238.78.76|        Azul|Fundidor De Placa...|       71 1659-6052|\n",
       "|341.697.025-06|ypeixoto@yahoo.co...|&3H*Q_soD4|        1973-12-18|    BA|   2023-03-15|   36.64.228.53| Verde Claro|            Ferreiro|      0500-012-9429|\n",
       "|365.841.029-98|ypeixoto@hotmail.com|c$8TxYirOu|        1995-06-11|    SE|   2023-03-13|  160.93.14.250|     Magenta|Engenheiro Cartog...|      0800-480-3407|\n",
       "|891.034.672-87|ynogueira@hotmail...|@3AJHqIWkV|        2021-07-30|    AL|   2023-01-05| 143.134.33.192| Azul Escuro|   Torneiro Mecânico|      0500-324-4347|\n",
       "|794.623.805-38|    ymoura@gmail.com|*bZGnLObY0|        1946-05-30|    AC|   2023-01-02|   22.66.90.218| Azul Escuro|Investigador Part...|    (051) 4288 6754|\n",
       "|561.438.072-80|   ymoraes@ig.com.br|c(6&FoouMR|        1998-02-23|    AC|   2023-02-15|   8.207.21.132|      Marrom|Odontologista Pre...|    (061) 5069 4948|\n",
       "|054.681.327-53|     ymelo@ig.com.br|_&(RxJ@b9i|        1941-11-13|    MA|   2023-01-21|177.136.210.154|       Cinza|        Argumentista|       11 9674-4969|\n",
       "|854.209.361-51|  ylima@yahoo.com.br|(w&9QnOv#B|        1954-07-28|    PI|   2023-03-01|   129.24.96.93|       Cinza|                  Dj|    (081) 0026 6407|\n",
       "|974.612.805-11|yferreira@uol.com.br|#2KsZ_zn_P|        1981-02-05|    SP|   2023-01-31|  110.94.27.112| Verde Claro|            Moldador|+55 (051) 2735 3651|\n",
       "|562.713.480-17|ydas-neves@bol.co...|p@0Ukod4xl|        1940-03-12|    SC|   2023-02-22| 150.110.65.174|     Amarelo|     Técnico Em Rede|    (071) 1865 1558|\n",
       "|947.615.238-91|  yda-paz@bol.com.br|wVmsBsEn@4|        1950-11-29|    SC|   2023-02-13|100.172.217.120|     Magenta|            Surfista|   +55 41 6990 8024|\n",
       "|395.184.760-39|  yda-luz@uol.com.br|6^8)1tranG|        1940-09-12|    AM|   2023-01-31|  40.183.73.149|      Marrom|          Tintureiro|    (021) 2493 8417|\n",
       "|096.741.853-48|yda-costa@uol.com.br|x7J&2$a2(7|        2018-08-06|    RS|   2023-03-09|   34.94.78.134|      Branco|  Técnico Em Arquivo|+55 (081) 5917 4735|\n",
       "|076.541.328-08|ycorreia@yahoo.co...|N6S1Xk0YD)|        2003-07-25|    SP|   2023-02-22|   108.16.1.197|     Magenta| Jogador De Handebol|   +55 71 9877-2831|\n",
       "|126.958.304-24|ycavalcanti@bol.c...|xoKn)JSQ^7|        2006-10-28|    AM|   2023-02-21|146.140.176.146|        Azul|           Patinador|      0800-596-5498|\n",
       "|134.985.067-57|   yago35@bol.com.br|Mcp&6MYtbL|        1993-12-03|    PE|   2023-02-14|   10.67.124.77|     Magenta|Engenheiro Mecatr...|       81 5269-9143|\n",
       "+--------------+--------------------+----------+------------------+------+-------------+---------------+------------+--------------------+-------------------+\n",
       "only showing top 20 rows"
      ]
     },
     "execution_count": 7,
     "metadata": {},
     "output_type": "execute_result"
    }
   ],
   "source": [
    "# para que seja descendente\n",
    "# o padrão já é asc\n",
    "\n",
    "df.orderBy(F.desc('email'))"
   ]
  },
  {
   "cell_type": "code",
   "execution_count": 8,
   "metadata": {},
   "outputs": [
    {
     "data": {
      "text/html": [
       "<table border='1'>\n",
       "<tr><th>cpf</th><th>email</th><th>senha</th><th>data_de_nascimento</th><th>estado</th><th>data_cadastro</th><th>ipv4</th><th>cor_favorita</th><th>profissao</th><th>telefone</th></tr>\n",
       "<tr><td>794.623.805-38</td><td>ymoura@gmail.com</td><td>*bZGnLObY0</td><td>1946-05-30</td><td>AC</td><td>2023-01-02</td><td>22.66.90.218</td><td>Azul Escuro</td><td>Investigador Part...</td><td>(051) 4288 6754</td></tr>\n",
       "<tr><td>340.879.561-48</td><td>ana-vitoria98@gma...</td><td>i0_lIkL9)P</td><td>1994-08-12</td><td>AC</td><td>2023-01-04</td><td>121.45.91.188</td><td>Marrom</td><td>Gestor De Recurso...</td><td>0300 277 1989</td></tr>\n",
       "<tr><td>573.809.621-59</td><td>novaesana-julia@h...</td><td>DfbV7W1^&amp;4</td><td>1972-08-15</td><td>AC</td><td>2023-01-04</td><td>208.213.179.222</td><td>Laranja</td><td>Tecel&atilde;o</td><td>+55 (031) 6916 9086</td></tr>\n",
       "<tr><td>032.185.976-68</td><td>benjaminda-paz@ig...</td><td>(9l1UVIkot</td><td>1966-12-12</td><td>AC</td><td>2023-01-06</td><td>2.186.91.148</td><td>Azul Escuro</td><td>Ator</td><td>+55 51 8053 7792</td></tr>\n",
       "<tr><td>069.382.471-96</td><td>bernardo78@gmail.com</td><td>2oQQtOOW!5</td><td>2003-10-11</td><td>AC</td><td>2023-01-08</td><td>153.126.72.36</td><td>Roxo</td><td>Major</td><td>61 8633 7694</td></tr>\n",
       "<tr><td>092.618.354-06</td><td>stellamoraes@bol....</td><td>mw0AWYAs#s</td><td>2021-06-01</td><td>AC</td><td>2023-01-08</td><td>26.121.127.94</td><td>Marrom</td><td>Aeromo&ccedil;a</td><td>+55 (071) 3033 9177</td></tr>\n",
       "<tr><td>471.980.623-69</td><td>usales@gmail.com</td><td>d^Q%6WjKqH</td><td>1958-04-06</td><td>AC</td><td>2023-01-08</td><td>97.110.23.119</td><td>Branco</td><td>Administrador</td><td>(071) 7881 3570</td></tr>\n",
       "<tr><td>852.637.194-00</td><td>miguel01@gmail.com</td><td>*0H6kcApJz</td><td>1980-01-26</td><td>AC</td><td>2023-01-11</td><td>54.56.177.130</td><td>Marrom</td><td>Pol&iacute;tico</td><td>(041) 7434-8164</td></tr>\n",
       "<tr><td>761.208.953-02</td><td>joanada-costa@uol...</td><td>K59n!CGwZ+</td><td>1970-04-01</td><td>AC</td><td>2023-01-14</td><td>130.246.237.68</td><td>Rosa</td><td>Engenheiro Petroq...</td><td>0500 075 5159</td></tr>\n",
       "<tr><td>613.948.520-70</td><td>julia44@gmail.com</td><td>&amp;asN*lDI2f</td><td>1992-07-06</td><td>AC</td><td>2023-01-18</td><td>182.219.231.186</td><td>Branco</td><td>Manicure</td><td>+55 21 9340 4355</td></tr>\n",
       "<tr><td>789.604.513-39</td><td>ana-sophia73@uol....</td><td>5N^x%@Bw!j</td><td>1973-03-09</td><td>AC</td><td>2023-01-18</td><td>144.86.229.3</td><td>Azul</td><td>Produtor Musical</td><td>+55 (061) 7367 9582</td></tr>\n",
       "<tr><td>791.534.862-00</td><td>melissacavalcanti...</td><td>VIF7Lx2G$+</td><td>1919-02-24</td><td>AC</td><td>2023-01-22</td><td>11.72.46.60</td><td>Azul</td><td>Obstetra</td><td>0500-547-3522</td></tr>\n",
       "<tr><td>803.697.254-92</td><td>da-luzjoana@gmail...</td><td>*ubv^RIl+8</td><td>1977-03-30</td><td>AC</td><td>2023-01-23</td><td>204.226.56.149</td><td>Marrom</td><td>Fisioterapeuta</td><td>(084) 9169-7053</td></tr>\n",
       "<tr><td>127.643.985-73</td><td>emoraes@ig.com.br</td><td>!J6u!cSjPW</td><td>1988-09-13</td><td>AC</td><td>2023-01-28</td><td>18.170.136.154</td><td>Preto</td><td>Quiropraxista</td><td>+55 81 0646 7649</td></tr>\n",
       "<tr><td>640.819.273-40</td><td>ccampos@yahoo.com.br</td><td>2(1Zl@#aZT</td><td>2010-06-10</td><td>AC</td><td>2023-01-28</td><td>115.38.244.24</td><td>Azul</td><td>Pedicure</td><td>+55 71 9382-8891</td></tr>\n",
       "<tr><td>136.905.427-07</td><td>rrocha@hotmail.com</td><td>NT7kF(gv%K</td><td>1951-06-08</td><td>AC</td><td>2023-01-29</td><td>45.239.135.110</td><td>Preto</td><td>Taxidermista/Emba...</td><td>+55 (051) 5854 6525</td></tr>\n",
       "<tr><td>428.653.907-56</td><td>benjamin68@gmail.com</td><td>AC2Ygssr(1</td><td>1937-03-26</td><td>AC</td><td>2023-01-30</td><td>60.134.117.62</td><td>Preto</td><td>Tecn&oacute;logo Em Roch...</td><td>+55 81 4441 2349</td></tr>\n",
       "<tr><td>107.896.452-11</td><td>noliveira@ig.com.br</td><td>_yz7O!TmJ)</td><td>1983-04-18</td><td>AC</td><td>2023-02-01</td><td>40.237.149.73</td><td>Azul Escuro</td><td>Diplomata</td><td>+55 61 8031 9299</td></tr>\n",
       "<tr><td>864.503.712-26</td><td>paulo28@hotmail.com</td><td>$5ZpxaKOg1</td><td>1927-07-07</td><td>AC</td><td>2023-02-02</td><td>180.32.36.194</td><td>Azul Escuro</td><td>Alpinista</td><td>41 8376-1717</td></tr>\n",
       "<tr><td>195.047.632-43</td><td>ramoseduarda@yaho...</td><td>_9$Vtn5A(E</td><td>1976-07-22</td><td>AC</td><td>2023-02-03</td><td>58.217.210.56</td><td>Branco</td><td>Engenheiro Ac&uacute;stico</td><td>61 6019-9240</td></tr>\n",
       "</table>\n",
       "only showing top 20 rows\n"
      ],
      "text/plain": [
       "+--------------+--------------------+----------+------------------+------+-------------+---------------+------------+--------------------+-------------------+\n",
       "|           cpf|               email|     senha|data_de_nascimento|estado|data_cadastro|           ipv4|cor_favorita|           profissao|           telefone|\n",
       "+--------------+--------------------+----------+------------------+------+-------------+---------------+------------+--------------------+-------------------+\n",
       "|794.623.805-38|    ymoura@gmail.com|*bZGnLObY0|        1946-05-30|    AC|   2023-01-02|   22.66.90.218| Azul Escuro|Investigador Part...|    (051) 4288 6754|\n",
       "|340.879.561-48|ana-vitoria98@gma...|i0_lIkL9)P|        1994-08-12|    AC|   2023-01-04|  121.45.91.188|      Marrom|Gestor De Recurso...|      0300 277 1989|\n",
       "|573.809.621-59|novaesana-julia@h...|DfbV7W1^&4|        1972-08-15|    AC|   2023-01-04|208.213.179.222|     Laranja|             Tecelão|+55 (031) 6916 9086|\n",
       "|032.185.976-68|benjaminda-paz@ig...|(9l1UVIkot|        1966-12-12|    AC|   2023-01-06|   2.186.91.148| Azul Escuro|                Ator|   +55 51 8053 7792|\n",
       "|069.382.471-96|bernardo78@gmail.com|2oQQtOOW!5|        2003-10-11|    AC|   2023-01-08|  153.126.72.36|        Roxo|               Major|       61 8633 7694|\n",
       "|092.618.354-06|stellamoraes@bol....|mw0AWYAs#s|        2021-06-01|    AC|   2023-01-08|  26.121.127.94|      Marrom|            Aeromoça|+55 (071) 3033 9177|\n",
       "|471.980.623-69|    usales@gmail.com|d^Q%6WjKqH|        1958-04-06|    AC|   2023-01-08|  97.110.23.119|      Branco|       Administrador|    (071) 7881 3570|\n",
       "|852.637.194-00|  miguel01@gmail.com|*0H6kcApJz|        1980-01-26|    AC|   2023-01-11|  54.56.177.130|      Marrom|            Político|    (041) 7434-8164|\n",
       "|761.208.953-02|joanada-costa@uol...|K59n!CGwZ+|        1970-04-01|    AC|   2023-01-14| 130.246.237.68|        Rosa|Engenheiro Petroq...|      0500 075 5159|\n",
       "|613.948.520-70|   julia44@gmail.com|&asN*lDI2f|        1992-07-06|    AC|   2023-01-18|182.219.231.186|      Branco|            Manicure|   +55 21 9340 4355|\n",
       "|789.604.513-39|ana-sophia73@uol....|5N^x%@Bw!j|        1973-03-09|    AC|   2023-01-18|   144.86.229.3|        Azul|    Produtor Musical|+55 (061) 7367 9582|\n",
       "|791.534.862-00|melissacavalcanti...|VIF7Lx2G$+|        1919-02-24|    AC|   2023-01-22|    11.72.46.60|        Azul|            Obstetra|      0500-547-3522|\n",
       "|803.697.254-92|da-luzjoana@gmail...|*ubv^RIl+8|        1977-03-30|    AC|   2023-01-23| 204.226.56.149|      Marrom|      Fisioterapeuta|    (084) 9169-7053|\n",
       "|127.643.985-73|   emoraes@ig.com.br|!J6u!cSjPW|        1988-09-13|    AC|   2023-01-28| 18.170.136.154|       Preto|       Quiropraxista|   +55 81 0646 7649|\n",
       "|640.819.273-40|ccampos@yahoo.com.br|2(1Zl@#aZT|        2010-06-10|    AC|   2023-01-28|  115.38.244.24|        Azul|            Pedicure|   +55 71 9382-8891|\n",
       "|136.905.427-07|  rrocha@hotmail.com|NT7kF(gv%K|        1951-06-08|    AC|   2023-01-29| 45.239.135.110|       Preto|Taxidermista/Emba...|+55 (051) 5854 6525|\n",
       "|428.653.907-56|benjamin68@gmail.com|AC2Ygssr(1|        1937-03-26|    AC|   2023-01-30|  60.134.117.62|       Preto|Tecnólogo Em Roch...|   +55 81 4441 2349|\n",
       "|107.896.452-11| noliveira@ig.com.br|_yz7O!TmJ)|        1983-04-18|    AC|   2023-02-01|  40.237.149.73| Azul Escuro|           Diplomata|   +55 61 8031 9299|\n",
       "|864.503.712-26| paulo28@hotmail.com|$5ZpxaKOg1|        1927-07-07|    AC|   2023-02-02|  180.32.36.194| Azul Escuro|           Alpinista|       41 8376-1717|\n",
       "|195.047.632-43|ramoseduarda@yaho...|_9$Vtn5A(E|        1976-07-22|    AC|   2023-02-03|  58.217.210.56|      Branco| Engenheiro Acústico|       61 6019-9240|\n",
       "+--------------+--------------------+----------+------------------+------+-------------+---------------+------------+--------------------+-------------------+\n",
       "only showing top 20 rows"
      ]
     },
     "execution_count": 8,
     "metadata": {},
     "output_type": "execute_result"
    }
   ],
   "source": [
    "df.orderBy('estado', 'data_cadastro', F.desc('cor_favorita'))"
   ]
  },
  {
   "cell_type": "code",
   "execution_count": null,
   "metadata": {},
   "outputs": [],
   "source": []
  }
 ],
 "metadata": {
  "kernelspec": {
   "display_name": "Python 3",
   "language": "python",
   "name": "python3"
  },
  "language_info": {
   "codemirror_mode": {
    "name": "ipython",
    "version": 3
   },
   "file_extension": ".py",
   "mimetype": "text/x-python",
   "name": "python",
   "nbconvert_exporter": "python",
   "pygments_lexer": "ipython3",
   "version": "3.11.8"
  }
 },
 "nbformat": 4,
 "nbformat_minor": 2
}
