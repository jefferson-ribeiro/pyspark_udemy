{
 "cells": [
  {
   "cell_type": "code",
   "execution_count": 5,
   "metadata": {},
   "outputs": [],
   "source": [
    "#Cria sessão Spark\n",
    "from pyspark.sql import SparkSession\n",
    "from pyspark.sql.functions import col\n",
    "import pyspark.sql.functions as F\n",
    "import pandas as pd\n",
    "from pyspark.sql.functions import udf\n",
    "from pyspark.sql.types import StringType\n",
    "from pyspark.sql.window import Window\n"
   ]
  },
  {
   "cell_type": "code",
   "execution_count": 2,
   "metadata": {},
   "outputs": [],
   "source": [
    "#Instância Spark\n",
    "spark = SparkSession.builder.appName('Curso Pyspark') \\\n",
    "         .config('spark.sql.repl.eagerEval.enabled', True) \\\n",
    "         .getOrCreate()      "
   ]
  },
  {
   "cell_type": "code",
   "execution_count": 3,
   "metadata": {},
   "outputs": [],
   "source": [
    "# lendo um arquivos parquet e atribuindo a variaveis\n",
    "compras = spark.read.parquet('./DATASETS/COMPRAS.parquet').select('id', 'data', 'cd_livro', 'cd_cliente').alias('compras')\n",
    "livros = spark.read.parquet('./DATASETS/LIVROS.parquet').select('id', 'data_lancamento', 'preco').alias('livros')\n",
    "autores = spark.read.parquet('./DATASETS/AUTORES.parquet').alias('autores')\n"
   ]
  },
  {
   "cell_type": "code",
   "execution_count": 4,
   "metadata": {},
   "outputs": [
    {
     "data": {
      "text/html": [
       "<table border='1'>\n",
       "<tr><th>id</th><th>data</th><th>cd_livro</th><th>cd_cliente</th><th>id</th><th>data_lancamento</th><th>preco</th><th>id</th><th>titulo</th><th>autor</th></tr>\n",
       "<tr><td>012389</td><td>2021-07-24</td><td>030334762</td><td>3339828</td><td>030334762</td><td>2013-05-08</td><td>123.47</td><td>030334762</td><td>Em Busca do Tempo...</td><td>Marcel Proust</td></tr>\n",
       "<tr><td>012534</td><td>2021-07-15</td><td>014347542</td><td>7799936</td><td>014347542</td><td>2007-04-05</td><td>182.43</td><td>014347542</td><td>Fogo Morto&nbsp;</td><td>Jos&eacute; Lins do Rego</td></tr>\n",
       "<tr><td>012574</td><td>2020-05-19</td><td>010325500</td><td>6273720</td><td>010325500</td><td>2000-09-09</td><td>30.62</td><td>010325500</td><td>A Obscena Senhora D&nbsp;</td><td>Hilda Hilst</td></tr>\n",
       "<tr><td>012675</td><td>2021-07-11</td><td>035940339</td><td>649001</td><td>035940339</td><td>2014-08-11</td><td>213.6</td><td>035940339</td><td>Adeus &agrave;s Armas&nbsp;</td><td>Ernest Hemingway</td></tr>\n",
       "<tr><td>013457</td><td>2021-10-26</td><td>021006591</td><td>4312106</td><td>021006591</td><td>2019-02-24</td><td>96.84</td><td>021006591</td><td>Paulic&eacute;ia Desvair...</td><td>M&aacute;rio de Andrade</td></tr>\n",
       "<tr><td>013478</td><td>2020-05-10</td><td>019488257</td><td>670483</td><td>019488257</td><td>2013-05-19</td><td>17.11</td><td>019488257</td><td>O &Oacute;dio que Voc&ecirc; S...</td><td>Angie Thomas</td></tr>\n",
       "<tr><td>013562</td><td>2021-10-28</td><td>035940339</td><td>1275633</td><td>035940339</td><td>2014-08-11</td><td>213.6</td><td>035940339</td><td>Adeus &agrave;s Armas&nbsp;</td><td>Ernest Hemingway</td></tr>\n",
       "<tr><td>013679</td><td>2020-10-19</td><td>030144651</td><td>1261140</td><td>030144651</td><td>2011-04-14</td><td>242.2</td><td>030144651</td><td>Zero&nbsp;</td><td>Ign&aacute;cio De Loyola...</td></tr>\n",
       "<tr><td>013687</td><td>2020-05-29</td><td>021923195</td><td>4098904</td><td>021923195</td><td>2015-02-22</td><td>38.89</td><td>021923195</td><td>O Ex-M&aacute;gico&nbsp;</td><td>Murilo Rubi&atilde;o</td></tr>\n",
       "<tr><td>013796</td><td>2021-10-15</td><td>016778973</td><td>4024706</td><td>016778973</td><td>2017-06-23</td><td>99.81</td><td>016778973</td><td>Crime e Castigo&nbsp;</td><td>Fi&oacute;dor Dostoi&eacute;vski</td></tr>\n",
       "<tr><td>013872</td><td>2021-08-22</td><td>019488257</td><td>6697506</td><td>019488257</td><td>2013-05-19</td><td>17.11</td><td>019488257</td><td>O &Oacute;dio que Voc&ecirc; S...</td><td>Angie Thomas</td></tr>\n",
       "<tr><td>013926</td><td>2022-01-01</td><td>010325500</td><td>7857991</td><td>010325500</td><td>2000-09-09</td><td>30.62</td><td>010325500</td><td>A Obscena Senhora D&nbsp;</td><td>Hilda Hilst</td></tr>\n",
       "<tr><td>014638</td><td>2022-05-25</td><td>036896107</td><td>5628104</td><td>036896107</td><td>2005-12-08</td><td>174.92</td><td>036896107</td><td>Mem&oacute;rias Sentimen...</td><td>Oswald de Andrade</td></tr>\n",
       "<tr><td>014837</td><td>2020-08-12</td><td>020414016</td><td>6349397</td><td>020414016</td><td>2011-06-09</td><td>212.1</td><td>020414016</td><td>Vidas Secas&nbsp;</td><td>Graciliano Ramos</td></tr>\n",
       "<tr><td>014973</td><td>2022-09-20</td><td>017551704</td><td>6204999</td><td>017551704</td><td>2018-10-19</td><td>44.38</td><td>017551704</td><td>200 Cr&ocirc;nicas Esco...</td><td>Rubem Braga</td></tr>\n",
       "<tr><td>015238</td><td>2022-07-17</td><td>035940339</td><td>7564726</td><td>035940339</td><td>2014-08-11</td><td>213.6</td><td>035940339</td><td>Adeus &agrave;s Armas&nbsp;</td><td>Ernest Hemingway</td></tr>\n",
       "<tr><td>015769</td><td>2020-04-27</td><td>020396192</td><td>7001961</td><td>020396192</td><td>2018-12-21</td><td>71.89</td><td>020396192</td><td>O Picapau Amarelo&nbsp;</td><td>Monteiro Lobato</td></tr>\n",
       "<tr><td>015846</td><td>2021-01-06</td><td>036030824</td><td>1086227</td><td>036030824</td><td>2005-01-26</td><td>226.36</td><td>036030824</td><td>Tremor de Terra&nbsp;</td><td>Luiz Vilela</td></tr>\n",
       "<tr><td>015863</td><td>2021-04-08</td><td>019488257</td><td>53125</td><td>019488257</td><td>2013-05-19</td><td>17.11</td><td>019488257</td><td>O &Oacute;dio que Voc&ecirc; S...</td><td>Angie Thomas</td></tr>\n",
       "<tr><td>015938</td><td>2022-04-17</td><td>017063409</td><td>6085405</td><td>017063409</td><td>2015-06-29</td><td>212.35</td><td>017063409</td><td>Anna Karenina&nbsp;</td><td>Lev Tolst&oacute;i</td></tr>\n",
       "</table>\n",
       "only showing top 20 rows\n"
      ],
      "text/plain": [
       "+------+----------+---------+----------+---------+---------------+------+---------+--------------------+--------------------+\n",
       "|    id|      data| cd_livro|cd_cliente|       id|data_lancamento| preco|       id|              titulo|               autor|\n",
       "+------+----------+---------+----------+---------+---------------+------+---------+--------------------+--------------------+\n",
       "|012389|2021-07-24|030334762|   3339828|030334762|     2013-05-08|123.47|030334762|Em Busca do Tempo...|       Marcel Proust|\n",
       "|012534|2021-07-15|014347542|   7799936|014347542|     2007-04-05|182.43|014347542|         Fogo Morto |   José Lins do Rego|\n",
       "|012574|2020-05-19|010325500|   6273720|010325500|     2000-09-09| 30.62|010325500|A Obscena Senhora D |         Hilda Hilst|\n",
       "|012675|2021-07-11|035940339|    649001|035940339|     2014-08-11| 213.6|035940339|     Adeus às Armas |    Ernest Hemingway|\n",
       "|013457|2021-10-26|021006591|   4312106|021006591|     2019-02-24| 96.84|021006591|Paulicéia Desvair...|    Mário de Andrade|\n",
       "|013478|2020-05-10|019488257|    670483|019488257|     2013-05-19| 17.11|019488257|O Ódio que Você S...|        Angie Thomas|\n",
       "|013562|2021-10-28|035940339|   1275633|035940339|     2014-08-11| 213.6|035940339|     Adeus às Armas |    Ernest Hemingway|\n",
       "|013679|2020-10-19|030144651|   1261140|030144651|     2011-04-14| 242.2|030144651|               Zero |Ignácio De Loyola...|\n",
       "|013687|2020-05-29|021923195|   4098904|021923195|     2015-02-22| 38.89|021923195|        O Ex-Mágico |       Murilo Rubião|\n",
       "|013796|2021-10-15|016778973|   4024706|016778973|     2017-06-23| 99.81|016778973|    Crime e Castigo |  Fiódor Dostoiévski|\n",
       "|013872|2021-08-22|019488257|   6697506|019488257|     2013-05-19| 17.11|019488257|O Ódio que Você S...|        Angie Thomas|\n",
       "|013926|2022-01-01|010325500|   7857991|010325500|     2000-09-09| 30.62|010325500|A Obscena Senhora D |         Hilda Hilst|\n",
       "|014638|2022-05-25|036896107|   5628104|036896107|     2005-12-08|174.92|036896107|Memórias Sentimen...|   Oswald de Andrade|\n",
       "|014837|2020-08-12|020414016|   6349397|020414016|     2011-06-09| 212.1|020414016|        Vidas Secas |    Graciliano Ramos|\n",
       "|014973|2022-09-20|017551704|   6204999|017551704|     2018-10-19| 44.38|017551704|200 Crônicas Esco...|         Rubem Braga|\n",
       "|015238|2022-07-17|035940339|   7564726|035940339|     2014-08-11| 213.6|035940339|     Adeus às Armas |    Ernest Hemingway|\n",
       "|015769|2020-04-27|020396192|   7001961|020396192|     2018-12-21| 71.89|020396192|  O Picapau Amarelo |     Monteiro Lobato|\n",
       "|015846|2021-01-06|036030824|   1086227|036030824|     2005-01-26|226.36|036030824|    Tremor de Terra |         Luiz Vilela|\n",
       "|015863|2021-04-08|019488257|     53125|019488257|     2013-05-19| 17.11|019488257|O Ódio que Você S...|        Angie Thomas|\n",
       "|015938|2022-04-17|017063409|   6085405|017063409|     2015-06-29|212.35|017063409|      Anna Karenina |         Lev Tolstói|\n",
       "+------+----------+---------+----------+---------+---------------+------+---------+--------------------+--------------------+\n",
       "only showing top 20 rows"
      ]
     },
     "execution_count": 4,
     "metadata": {},
     "output_type": "execute_result"
    }
   ],
   "source": [
    "df = compras.join(livros, compras.cd_livro == livros.id).join(autores, livros.id == autores.id).drop('livros.id', 'autores.id')\n",
    "df"
   ]
  },
  {
   "cell_type": "code",
   "execution_count": 15,
   "metadata": {},
   "outputs": [],
   "source": [
    "# ordena por ids\n",
    "window1 = Window.orderBy('compras.id')\n",
    "# ordena por ordem de compras (cada vez que o cliente mudar a contagem recomeca)\n",
    "window2 = Window.partitionBy('cd_cliente').orderBy('data')\n",
    "# para cada autor saber a ordem de lancamentos do livro\n",
    "window3 = Window.partitionBy('autor').orderBy('data_lancamento')\n"
   ]
  },
  {
   "cell_type": "code",
   "execution_count": 20,
   "metadata": {},
   "outputs": [
    {
     "data": {
      "text/html": [
       "<table border='1'>\n",
       "<tr><th>id</th><th>data</th><th>cd_livro</th><th>cd_cliente</th><th>id</th><th>data_lancamento</th><th>preco</th><th>id</th><th>titulo</th><th>autor</th><th>num_linha</th><th>ordem_compra</th><th>ordem_lancamento</th><th>total_acumulado_cliente</th></tr>\n",
       "<tr><td>184365</td><td>2020-10-31</td><td>100520231</td><td>1010444</td><td>100520231</td><td>2009-08-17</td><td>35.55</td><td>100520231</td><td>Gal&aacute;xias&nbsp;</td><td>Haroldo de Campos</td><td>3330</td><td>1</td><td>1</td><td>35.55</td></tr>\n",
       "<tr><td>162408</td><td>2021-06-16</td><td>036059407</td><td>1010444</td><td>036059407</td><td>2021-01-20</td><td>222.98</td><td>036059407</td><td>As Hist&oacute;rias Comp...</td><td>Franz Kafka</td><td>2874</td><td>2</td><td>2</td><td>258.53</td></tr>\n",
       "<tr><td>629783</td><td>2021-09-14</td><td>016581063</td><td>1010444</td><td>016581063</td><td>2013-05-16</td><td>145.25</td><td>016581063</td><td>Macuna&iacute;ma &ndash; O Her...</td><td>M&aacute;rio de Andrade</td><td>11521</td><td>3</td><td>1</td><td>403.78</td></tr>\n",
       "<tr><td>594608</td><td>2021-10-11</td><td>030099528</td><td>1010444</td><td>030099528</td><td>2000-02-06</td><td>208.39</td><td>030099528</td><td>Retrato do Artist...</td><td>James Joyce</td><td>10824</td><td>4</td><td>1</td><td>612.17</td></tr>\n",
       "<tr><td>561293</td><td>2021-11-02</td><td>030144651</td><td>1010444</td><td>030144651</td><td>2011-04-14</td><td>242.2</td><td>030144651</td><td>Zero&nbsp;</td><td>Ign&aacute;cio De Loyola...</td><td>10118</td><td>5</td><td>1</td><td>854.37</td></tr>\n",
       "<tr><td>648950</td><td>2022-01-15</td><td>022112497</td><td>1010444</td><td>022112497</td><td>2021-01-06</td><td>10.84</td><td>022112497</td><td>Mrs Dalloway&nbsp;</td><td>Virginia Woolf</td><td>11896</td><td>6</td><td>1</td><td>865.21</td></tr>\n",
       "<tr><td>184567</td><td>2022-03-29</td><td>020414016</td><td>1010444</td><td>020414016</td><td>2011-06-09</td><td>212.1</td><td>020414016</td><td>Vidas Secas&nbsp;</td><td>Graciliano Ramos</td><td>3335</td><td>7</td><td>1</td><td>1077.31</td></tr>\n",
       "<tr><td>026947</td><td>2022-05-04</td><td>036030824</td><td>1010444</td><td>036030824</td><td>2005-01-26</td><td>226.36</td><td>036030824</td><td>Tremor de Terra&nbsp;</td><td>Luiz Vilela</td><td>317</td><td>8</td><td>1</td><td>1303.67</td></tr>\n",
       "<tr><td>472081</td><td>2022-06-19</td><td>026925428</td><td>1010444</td><td>026925428</td><td>2011-09-04</td><td>193.19</td><td>026925428</td><td>Sing, Unburied, S...</td><td>Jesmyn Ward</td><td>8520</td><td>9</td><td>1</td><td>1496.86</td></tr>\n",
       "<tr><td>027189</td><td>2022-06-26</td><td>012489208</td><td>1010444</td><td>012489208</td><td>2011-10-30</td><td>160.53</td><td>012489208</td><td>Triste Fim de Pol...</td><td>Lima Barreto</td><td>322</td><td>10</td><td>1</td><td>1657.39</td></tr>\n",
       "<tr><td>845072</td><td>2023-03-11</td><td>060875372</td><td>1010444</td><td>060875372</td><td>2016-08-14</td><td>247.14</td><td>060875372</td><td>O Sonho da C&acirc;mara...</td><td>Cao Xueqin</td><td>15506</td><td>12</td><td>1</td><td>1904.53</td></tr>\n",
       "<tr><td>397624</td><td>2020-05-25</td><td>019328498</td><td>1012185</td><td>019328498</td><td>2018-10-20</td><td>95.59</td><td>019328498</td><td>Serm&otilde;es&nbsp;</td><td>Padre Vieira</td><td>7194</td><td>1</td><td>1</td><td>95.59</td></tr>\n",
       "<tr><td>238450</td><td>2020-06-13</td><td>028590563</td><td>1012185</td><td>028590563</td><td>2017-10-01</td><td>18.31</td><td>028590563</td><td>Br&aacute;s, Bexiga e Ba...</td><td>Ant&ocirc;nio de Alc&acirc;nt...</td><td>4212</td><td>2</td><td>1</td><td>113.9</td></tr>\n",
       "<tr><td>201586</td><td>2020-09-01</td><td>069309548</td><td>1012185</td><td>069309548</td><td>2004-02-01</td><td>196.92</td><td>069309548</td><td>Os Melhores Conto...</td><td>Edgar Allan Poe</td><td>3659</td><td>3</td><td>1</td><td>310.82</td></tr>\n",
       "<tr><td>801632</td><td>2020-12-07</td><td>036896107</td><td>1012185</td><td>036896107</td><td>2005-12-08</td><td>174.92</td><td>036896107</td><td>Mem&oacute;rias Sentimen...</td><td>Oswald de Andrade</td><td>14597</td><td>5</td><td>1</td><td>485.74</td></tr>\n",
       "<tr><td>315209</td><td>2020-12-23</td><td>017101222</td><td>1012185</td><td>017101222</td><td>2009-10-05</td><td>24.87</td><td>017101222</td><td>Retrato de Uma Se...</td><td>Henry James</td><td>5744</td><td>6</td><td>1</td><td>510.61</td></tr>\n",
       "<tr><td>706354</td><td>2021-01-04</td><td>013465823</td><td>1012185</td><td>013465823</td><td>2017-05-13</td><td>54.54</td><td>013465823</td><td>O Quinze&nbsp;</td><td>Rachel de Queiroz</td><td>12859</td><td>7</td><td>1</td><td>565.15</td></tr>\n",
       "<tr><td>483705</td><td>2021-06-03</td><td>016430211</td><td>1012185</td><td>016430211</td><td>2016-03-22</td><td>113.07</td><td>016430211</td><td>O Homem e Sua Hora&nbsp;</td><td>M&aacute;rio Faustino</td><td>8743</td><td>9</td><td>1</td><td>678.22</td></tr>\n",
       "<tr><td>135894</td><td>2021-07-31</td><td>012797246</td><td>1012185</td><td>012797246</td><td>2007-12-30</td><td>220.61</td><td>012797246</td><td>Desesterro&nbsp;</td><td>Sheyla Smanioto</td><td>2350</td><td>10</td><td>1</td><td>898.83</td></tr>\n",
       "<tr><td>146859</td><td>2022-05-04</td><td>012242979</td><td>1012185</td><td>012242979</td><td>2010-08-09</td><td>109.68</td><td>012242979</td><td>Faithful and Virt...</td><td>Louise Gl&uuml;ck</td><td>2581</td><td>11</td><td>1</td><td>1008.51</td></tr>\n",
       "</table>\n",
       "only showing top 20 rows\n"
      ],
      "text/plain": [
       "+------+----------+---------+----------+---------+---------------+------+---------+--------------------+--------------------+---------+------------+----------------+-----------------------+\n",
       "|    id|      data| cd_livro|cd_cliente|       id|data_lancamento| preco|       id|              titulo|               autor|num_linha|ordem_compra|ordem_lancamento|total_acumulado_cliente|\n",
       "+------+----------+---------+----------+---------+---------------+------+---------+--------------------+--------------------+---------+------------+----------------+-----------------------+\n",
       "|184365|2020-10-31|100520231|   1010444|100520231|     2009-08-17| 35.55|100520231|           Galáxias |   Haroldo de Campos|     3330|           1|               1|                  35.55|\n",
       "|162408|2021-06-16|036059407|   1010444|036059407|     2021-01-20|222.98|036059407|As Histórias Comp...|         Franz Kafka|     2874|           2|               2|                 258.53|\n",
       "|629783|2021-09-14|016581063|   1010444|016581063|     2013-05-16|145.25|016581063|Macunaíma – O Her...|    Mário de Andrade|    11521|           3|               1|                 403.78|\n",
       "|594608|2021-10-11|030099528|   1010444|030099528|     2000-02-06|208.39|030099528|Retrato do Artist...|         James Joyce|    10824|           4|               1|                 612.17|\n",
       "|561293|2021-11-02|030144651|   1010444|030144651|     2011-04-14| 242.2|030144651|               Zero |Ignácio De Loyola...|    10118|           5|               1|                 854.37|\n",
       "|648950|2022-01-15|022112497|   1010444|022112497|     2021-01-06| 10.84|022112497|       Mrs Dalloway |      Virginia Woolf|    11896|           6|               1|                 865.21|\n",
       "|184567|2022-03-29|020414016|   1010444|020414016|     2011-06-09| 212.1|020414016|        Vidas Secas |    Graciliano Ramos|     3335|           7|               1|                1077.31|\n",
       "|026947|2022-05-04|036030824|   1010444|036030824|     2005-01-26|226.36|036030824|    Tremor de Terra |         Luiz Vilela|      317|           8|               1|                1303.67|\n",
       "|472081|2022-06-19|026925428|   1010444|026925428|     2011-09-04|193.19|026925428|Sing, Unburied, S...|         Jesmyn Ward|     8520|           9|               1|                1496.86|\n",
       "|027189|2022-06-26|012489208|   1010444|012489208|     2011-10-30|160.53|012489208|Triste Fim de Pol...|        Lima Barreto|      322|          10|               1|                1657.39|\n",
       "|845072|2023-03-11|060875372|   1010444|060875372|     2016-08-14|247.14|060875372|O Sonho da Câmara...|          Cao Xueqin|    15506|          12|               1|                1904.53|\n",
       "|397624|2020-05-25|019328498|   1012185|019328498|     2018-10-20| 95.59|019328498|            Sermões |        Padre Vieira|     7194|           1|               1|                  95.59|\n",
       "|238450|2020-06-13|028590563|   1012185|028590563|     2017-10-01| 18.31|028590563|Brás, Bexiga e Ba...|Antônio de Alcânt...|     4212|           2|               1|                  113.9|\n",
       "|201586|2020-09-01|069309548|   1012185|069309548|     2004-02-01|196.92|069309548|Os Melhores Conto...|     Edgar Allan Poe|     3659|           3|               1|                 310.82|\n",
       "|801632|2020-12-07|036896107|   1012185|036896107|     2005-12-08|174.92|036896107|Memórias Sentimen...|   Oswald de Andrade|    14597|           5|               1|                 485.74|\n",
       "|315209|2020-12-23|017101222|   1012185|017101222|     2009-10-05| 24.87|017101222|Retrato de Uma Se...|         Henry James|     5744|           6|               1|                 510.61|\n",
       "|706354|2021-01-04|013465823|   1012185|013465823|     2017-05-13| 54.54|013465823|           O Quinze |   Rachel de Queiroz|    12859|           7|               1|                 565.15|\n",
       "|483705|2021-06-03|016430211|   1012185|016430211|     2016-03-22|113.07|016430211| O Homem e Sua Hora |      Mário Faustino|     8743|           9|               1|                 678.22|\n",
       "|135894|2021-07-31|012797246|   1012185|012797246|     2007-12-30|220.61|012797246|         Desesterro |     Sheyla Smanioto|     2350|          10|               1|                 898.83|\n",
       "|146859|2022-05-04|012242979|   1012185|012242979|     2010-08-09|109.68|012242979|Faithful and Virt...|        Louise Glück|     2581|          11|               1|                1008.51|\n",
       "+------+----------+---------+----------+---------+---------------+------+---------+--------------------+--------------------+---------+------------+----------------+-----------------------+\n",
       "only showing top 20 rows"
      ]
     },
     "execution_count": 20,
     "metadata": {},
     "output_type": "execute_result"
    }
   ],
   "source": [
    "(\n",
    "        df\n",
    "        .withColumn('num_linha', F.row_number().over(window1))\n",
    "        .withColumn('ordem_compra', F.row_number().over(window2))\n",
    "        .dropDuplicates(['cd_livro', 'autor'])\n",
    "        .withColumn('ordem_lancamento', F.row_number().over(window3))\n",
    "        # O total acumulado de valor de compras acumulado pelos clientes\n",
    "        .withColumn('total_acumulado_cliente', F.round(F.sum('preco').over(window2), 2))\n",
    ")"
   ]
  }
 ],
 "metadata": {
  "kernelspec": {
   "display_name": "Python 3",
   "language": "python",
   "name": "python3"
  },
  "language_info": {
   "codemirror_mode": {
    "name": "ipython",
    "version": 3
   },
   "file_extension": ".py",
   "mimetype": "text/x-python",
   "name": "python",
   "nbconvert_exporter": "python",
   "pygments_lexer": "ipython3",
   "version": "3.11.8"
  }
 },
 "nbformat": 4,
 "nbformat_minor": 2
}
