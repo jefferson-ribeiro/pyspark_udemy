{
 "cells": [
  {
   "cell_type": "code",
   "execution_count": 1,
   "metadata": {},
   "outputs": [],
   "source": [
    "#Cria sessão Spark\n",
    "from pyspark.sql import SparkSession\n",
    "from pyspark.sql.functions import col\n",
    "import pyspark.sql.functions as F\n",
    "import pandas"
   ]
  },
  {
   "cell_type": "code",
   "execution_count": 2,
   "metadata": {},
   "outputs": [],
   "source": [
    "#Instância Spark\n",
    "spark = SparkSession.builder.appName('Curso Pyspark') \\\n",
    "         .config('spark.sql.repl.eagerEval.enabled', True) \\\n",
    "         .getOrCreate()      "
   ]
  },
  {
   "cell_type": "code",
   "execution_count": 3,
   "metadata": {},
   "outputs": [],
   "source": [
    "# lendo um arquivo parquet\n",
    "df = spark.read.parquet('./DATASETS/LOGINS.parquet')"
   ]
  },
  {
   "cell_type": "code",
   "execution_count": 4,
   "metadata": {},
   "outputs": [
    {
     "name": "stdout",
     "output_type": "stream",
     "text": [
      "+--------------+----------------------------------+----------+------------------+------+-------------+---------------+------------+---------------------------+-------------------+\n",
      "|cpf           |email                             |senha     |data_de_nascimento|estado|data_cadastro|ipv4           |cor_favorita|profissao                  |telefone           |\n",
      "+--------------+----------------------------------+----------+------------------+------+-------------+---------------+------------+---------------------------+-------------------+\n",
      "|981.507.362-12|pedro-lucas53@gmail.com           |+7^7E%xFBc|2006-12-18        |RR    |2023-02-26   |99.107.250.210 |Roxo        |Jogador De Golfe           |31 7785-4046       |\n",
      "|493.705.168-75|rezendeisaac@hotmail.com          |_O_2GRnGOe|1992-06-17        |GO    |2023-02-16   |197.11.26.213  |Ciano       |Atleta De Arremesso De Peso|(031) 0803-6753    |\n",
      "|398.471.625-73|felipepires@uol.com.br            |*Aw5EOAvy9|1921-11-11        |MG    |2023-01-02   |181.90.63.58   |Azul        |Papiloscopista             |11 9674-0553       |\n",
      "|092.618.354-06|stellamoraes@bol.com.br           |mw0AWYAs#s|2021-06-01        |AC    |2023-01-08   |26.121.127.94  |Marrom      |Aeromoça                   |+55 (071) 3033 9177|\n",
      "|509.427.136-99|wcarvalho@ig.com.br               |pGD%!2Pq5X|1969-10-28        |AP    |2023-02-14   |76.184.52.163  |Laranja     |Fonoaudiólogo              |+55 (071) 6272 2468|\n",
      "|218.795.460-94|da-conceicaodavi-lucas@hotmail.com|uhBbFxPA&9|1986-05-19        |MG    |2023-03-07   |192.93.0.24    |Rosa        |Taxista                    |+55 84 0652 9691   |\n",
      "|715.836.940-48|efreitas@bol.com.br               |s#q9VZt&xl|2018-04-20        |MG    |2023-01-13   |76.251.188.148 |Branco      |Produtor De Audio Visual   |+55 (084) 1363 0052|\n",
      "|475.698.032-56|wnunes@bol.com.br                 |_8az1W%n7g|1996-05-12        |SE    |2023-02-04   |139.196.176.154|Azul        |Cadeirinha                 |(071) 1640-3388    |\n",
      "|217.639.540-99|jribeiro@bol.com.br               |MEf1X7fj_0|2021-10-05        |PA    |2023-03-02   |71.22.224.5    |Marrom      |Geólogo                    |21 1432 4092       |\n",
      "|261.938.750-77|murilo05@gmail.com                |Te&gO7GkKs|1917-01-05        |MT    |2023-02-21   |136.54.123.165 |Marrom      |Técnico De Som             |+55 (084) 5878-3346|\n",
      "|520.831.796-68|joaquim57@ig.com.br               |&2E1NY+ARc|1912-05-25        |BA    |2023-01-25   |78.196.255.126 |Rosa        |Esteticista                |41 7914-3753       |\n",
      "|413.087.526-44|alexiada-rocha@ig.com.br          |@f@!Z!2c*2|1920-05-26        |MS    |2023-02-18   |182.61.65.201  |Laranja     |Microfonista               |(021) 3739-2944    |\n",
      "|509.287.143-14|pmendes@gmail.com                 |M+^XDBfe(2|1938-03-11        |RR    |2023-01-19   |61.234.208.17  |Verde Claro |Fiscal                     |+55 (084) 5940-1932|\n",
      "|563.170.492-70|renan46@bol.com.br                |Rp%2pVqfe$|1922-09-01        |PA    |2023-02-01   |122.203.83.177 |Verde Escuro|Contabilista               |+55 41 6248 5773   |\n",
      "|098.712.346-78|manuelada-rosa@hotmail.com        |#hEIEOztQ3|2013-01-10        |SE    |2023-01-07   |175.18.73.211  |Violeta     |Seguidor De Compras        |51 0278 0564       |\n",
      "|345.709.261-34|usales@ig.com.br                  |b_8xaY$ozJ|1992-10-16        |AM    |2023-01-05   |97.93.29.75    |Rosa        |Almirante                  |(084) 8993-4521    |\n",
      "|318.254.906-51|pereiranicolas@hotmail.com        |YA9I85Wb+2|1945-11-18        |MA    |2023-01-24   |182.195.33.137 |Amarelo     |Consultor De Moda          |(084) 4591 3795    |\n",
      "|610.287.453-62|cardosolivia@ig.com.br            |yXkDW7Ebh*|1915-11-15        |GO    |2023-01-22   |195.194.63.184 |Laranja     |Barbeiro                   |+55 61 8967-9563   |\n",
      "|615.790.842-49|brenda39@ig.com.br                |XS$84Hpsnw|1964-02-01        |RJ    |2023-02-16   |21.252.226.29  |Branco      |Promotor De Vendas         |+55 (021) 4751 2004|\n",
      "|624.095.138-24|luizapeixoto@gmail.com            |TbKy82Kda$|1959-02-01        |DF    |2023-02-25   |105.107.23.13  |Ciano       |Implantodontista           |84 1293 1906       |\n",
      "+--------------+----------------------------------+----------+------------------+------+-------------+---------------+------------+---------------------------+-------------------+\n",
      "only showing top 20 rows\n",
      "\n"
     ]
    }
   ],
   "source": [
    "df.show(20, truncate=0)"
   ]
  },
  {
   "cell_type": "code",
   "execution_count": 11,
   "metadata": {},
   "outputs": [],
   "source": [
    "# exporta o dataframe sobrescrevendo o arquivo\n",
    "\n",
    "df.write.save('output', mode='overwrite', format= 'csv', partitionBy=['estado', 'cor_favorita'])\n",
    "\n",
    "# exporta o dataframe acrescentando o arquivo append\n",
    "\n",
    "# df.write.save('output', mode='append')"
   ]
  },
  {
   "cell_type": "code",
   "execution_count": 15,
   "metadata": {},
   "outputs": [],
   "source": [
    "# salva como tabela db.table_name nào deu certo\n",
    "df.write.saveAsTable('dbtable_name', mode='append')"
   ]
  },
  {
   "cell_type": "code",
   "execution_count": 19,
   "metadata": {},
   "outputs": [],
   "source": [
    "# pode colocar direto\n",
    "df.write.mode('overwrite').partitionBy(['estado']).parquet('output')"
   ]
  },
  {
   "cell_type": "code",
   "execution_count": 26,
   "metadata": {},
   "outputs": [
    {
     "name": "stdout",
     "output_type": "stream",
     "text": [
      "Collecting pandas\n",
      "  Downloading pandas-2.2.2-cp311-cp311-win_amd64.whl.metadata (19 kB)\n",
      "Collecting numpy>=1.23.2 (from pandas)\n",
      "  Downloading numpy-2.0.1-cp311-cp311-win_amd64.whl.metadata (60 kB)\n",
      "     ---------------------------------------- 0.0/60.9 kB ? eta -:--:--\n",
      "     -------------------- ------------------- 30.7/60.9 kB 1.4 MB/s eta 0:00:01\n",
      "     ---------------------------------------- 60.9/60.9 kB 1.1 MB/s eta 0:00:00\n",
      "Requirement already satisfied: python-dateutil>=2.8.2 in c:\\users\\jeff\\appdata\\roaming\\python\\python311\\site-packages (from pandas) (2.9.0.post0)\n",
      "Collecting pytz>=2020.1 (from pandas)\n",
      "  Downloading pytz-2024.1-py2.py3-none-any.whl.metadata (22 kB)\n",
      "Collecting tzdata>=2022.7 (from pandas)\n",
      "  Downloading tzdata-2024.1-py2.py3-none-any.whl.metadata (1.4 kB)\n",
      "Requirement already satisfied: six>=1.5 in c:\\users\\jeff\\appdata\\roaming\\python\\python311\\site-packages (from python-dateutil>=2.8.2->pandas) (1.16.0)\n",
      "Downloading pandas-2.2.2-cp311-cp311-win_amd64.whl (11.6 MB)\n",
      "   ---------------------------------------- 0.0/11.6 MB ? eta -:--:--\n",
      "   - -------------------------------------- 0.3/11.6 MB 7.0 MB/s eta 0:00:02\n",
      "   -- ------------------------------------- 0.9/11.6 MB 9.0 MB/s eta 0:00:02\n",
      "   ---- ----------------------------------- 1.4/11.6 MB 9.7 MB/s eta 0:00:02\n",
      "   ------- -------------------------------- 2.1/11.6 MB 12.0 MB/s eta 0:00:01\n",
      "   -------- ------------------------------- 2.5/11.6 MB 10.5 MB/s eta 0:00:01\n",
      "   ---------- ----------------------------- 3.0/11.6 MB 11.3 MB/s eta 0:00:01\n",
      "   ------------- -------------------------- 4.0/11.6 MB 12.3 MB/s eta 0:00:01\n",
      "   ---------------- ----------------------- 4.8/11.6 MB 12.7 MB/s eta 0:00:01\n",
      "   ------------------- -------------------- 5.8/11.6 MB 13.7 MB/s eta 0:00:01\n",
      "   ----------------------- ---------------- 6.7/11.6 MB 14.8 MB/s eta 0:00:01\n",
      "   ------------------------- -------------- 7.6/11.6 MB 15.1 MB/s eta 0:00:01\n",
      "   ----------------------------- ---------- 8.7/11.6 MB 15.8 MB/s eta 0:00:01\n",
      "   ---------------------------------- ----- 9.9/11.6 MB 16.7 MB/s eta 0:00:01\n",
      "   ------------------------------------- -- 10.9/11.6 MB 18.2 MB/s eta 0:00:01\n",
      "   ---------------------------------------  11.6/11.6 MB 19.3 MB/s eta 0:00:01\n",
      "   ---------------------------------------- 11.6/11.6 MB 17.7 MB/s eta 0:00:00\n",
      "Downloading numpy-2.0.1-cp311-cp311-win_amd64.whl (16.6 MB)\n",
      "   ---------------------------------------- 0.0/16.6 MB ? eta -:--:--\n",
      "   -- ------------------------------------- 1.1/16.6 MB 36.3 MB/s eta 0:00:01\n",
      "   ----- ---------------------------------- 2.3/16.6 MB 29.8 MB/s eta 0:00:01\n",
      "   -------- ------------------------------- 3.6/16.6 MB 28.4 MB/s eta 0:00:01\n",
      "   ---------- ----------------------------- 4.5/16.6 MB 26.1 MB/s eta 0:00:01\n",
      "   ------------- -------------------------- 5.6/16.6 MB 25.6 MB/s eta 0:00:01\n",
      "   ---------------- ----------------------- 6.9/16.6 MB 26.1 MB/s eta 0:00:01\n",
      "   ------------------- -------------------- 8.1/16.6 MB 25.9 MB/s eta 0:00:01\n",
      "   ---------------------- ----------------- 9.3/16.6 MB 25.9 MB/s eta 0:00:01\n",
      "   ------------------------ --------------- 10.3/16.6 MB 25.2 MB/s eta 0:00:01\n",
      "   --------------------------- ------------ 11.5/16.6 MB 25.2 MB/s eta 0:00:01\n",
      "   ------------------------------ --------- 12.8/16.6 MB 25.2 MB/s eta 0:00:01\n",
      "   --------------------------------- ------ 13.9/16.6 MB 25.2 MB/s eta 0:00:01\n",
      "   ----------------------------------- ---- 14.8/16.6 MB 25.1 MB/s eta 0:00:01\n",
      "   -------------------------------------- - 15.8/16.6 MB 24.2 MB/s eta 0:00:01\n",
      "   ---------------------------------------  16.6/16.6 MB 24.2 MB/s eta 0:00:01\n",
      "   ---------------------------------------- 16.6/16.6 MB 21.8 MB/s eta 0:00:00\n",
      "Downloading pytz-2024.1-py2.py3-none-any.whl (505 kB)\n",
      "   ---------------------------------------- 0.0/505.5 kB ? eta -:--:--\n",
      "   --------------------------------------- 505.5/505.5 kB 16.0 MB/s eta 0:00:00\n",
      "Downloading tzdata-2024.1-py2.py3-none-any.whl (345 kB)\n",
      "   ---------------------------------------- 0.0/345.4 kB ? eta -:--:--\n",
      "   --------------------------------------- 345.4/345.4 kB 22.3 MB/s eta 0:00:00\n",
      "Installing collected packages: pytz, tzdata, numpy, pandas\n",
      "Successfully installed numpy-2.0.1 pandas-2.2.2 pytz-2024.1 tzdata-2024.1\n"
     ]
    },
    {
     "name": "stderr",
     "output_type": "stream",
     "text": [
      "\n",
      "[notice] A new release of pip is available: 24.0 -> 24.2\n",
      "[notice] To update, run: python.exe -m pip install --upgrade pip\n"
     ]
    }
   ],
   "source": [
    "!pip install pandas"
   ]
  },
  {
   "cell_type": "code",
   "execution_count": 28,
   "metadata": {},
   "outputs": [
    {
     "name": "stdout",
     "output_type": "stream",
     "text": [
      "Collecting pyarrow\n",
      "  Downloading pyarrow-17.0.0-cp311-cp311-win_amd64.whl.metadata (3.4 kB)\n",
      "Requirement already satisfied: numpy>=1.16.6 in c:\\users\\jeff\\appdata\\local\\programs\\python\\python311\\lib\\site-packages (from pyarrow) (2.0.1)\n",
      "Downloading pyarrow-17.0.0-cp311-cp311-win_amd64.whl (25.2 MB)\n",
      "   ---------------------------------------- 0.0/25.2 MB ? eta -:--:--\n",
      "   ---------------------------------------- 0.0/25.2 MB 330.3 kB/s eta 0:01:17\n",
      "   ---------------------------------------- 0.1/25.2 MB 1.4 MB/s eta 0:00:18\n",
      "    --------------------------------------- 0.3/25.2 MB 2.6 MB/s eta 0:00:10\n",
      "    --------------------------------------- 0.6/25.2 MB 3.2 MB/s eta 0:00:08\n",
      "   - -------------------------------------- 0.8/25.2 MB 3.8 MB/s eta 0:00:07\n",
      "   - -------------------------------------- 1.2/25.2 MB 4.7 MB/s eta 0:00:06\n",
      "   -- ------------------------------------- 1.6/25.2 MB 5.1 MB/s eta 0:00:05\n",
      "   --- ------------------------------------ 2.0/25.2 MB 5.6 MB/s eta 0:00:05\n",
      "   --- ------------------------------------ 2.4/25.2 MB 6.0 MB/s eta 0:00:04\n",
      "   ---- ----------------------------------- 2.9/25.2 MB 6.5 MB/s eta 0:00:04\n",
      "   ----- ---------------------------------- 3.6/25.2 MB 7.1 MB/s eta 0:00:04\n",
      "   ------ --------------------------------- 4.2/25.2 MB 7.6 MB/s eta 0:00:03\n",
      "   ------- -------------------------------- 4.8/25.2 MB 8.1 MB/s eta 0:00:03\n",
      "   -------- ------------------------------- 5.6/25.2 MB 8.7 MB/s eta 0:00:03\n",
      "   ---------- ----------------------------- 6.3/25.2 MB 9.2 MB/s eta 0:00:03\n",
      "   ----------- ---------------------------- 7.0/25.2 MB 9.6 MB/s eta 0:00:02\n",
      "   ------------ --------------------------- 7.8/25.2 MB 9.9 MB/s eta 0:00:02\n",
      "   ------------- -------------------------- 8.8/25.2 MB 10.6 MB/s eta 0:00:02\n",
      "   --------------- ------------------------ 9.8/25.2 MB 11.2 MB/s eta 0:00:02\n",
      "   ----------------- ---------------------- 10.8/25.2 MB 13.9 MB/s eta 0:00:02\n",
      "   ------------------ --------------------- 11.4/25.2 MB 14.6 MB/s eta 0:00:01\n",
      "   ------------------- -------------------- 12.4/25.2 MB 16.0 MB/s eta 0:00:01\n",
      "   -------------------- ------------------- 13.2/25.2 MB 16.8 MB/s eta 0:00:01\n",
      "   ---------------------- ----------------- 14.2/25.2 MB 17.7 MB/s eta 0:00:01\n",
      "   ----------------------- ---------------- 15.1/25.2 MB 18.2 MB/s eta 0:00:01\n",
      "   ------------------------- -------------- 15.9/25.2 MB 18.7 MB/s eta 0:00:01\n",
      "   -------------------------- ------------- 16.9/25.2 MB 19.2 MB/s eta 0:00:01\n",
      "   ---------------------------- ----------- 17.6/25.2 MB 18.7 MB/s eta 0:00:01\n",
      "   ----------------------------- ---------- 18.4/25.2 MB 18.7 MB/s eta 0:00:01\n",
      "   ------------------------------- -------- 19.5/25.2 MB 19.3 MB/s eta 0:00:01\n",
      "   -------------------------------- ------- 20.4/25.2 MB 18.7 MB/s eta 0:00:01\n",
      "   --------------------------------- ------ 21.4/25.2 MB 18.7 MB/s eta 0:00:01\n",
      "   ----------------------------------- ---- 22.3/25.2 MB 19.8 MB/s eta 0:00:01\n",
      "   ------------------------------------ --- 23.2/25.2 MB 19.2 MB/s eta 0:00:01\n",
      "   -------------------------------------- - 24.2/25.2 MB 19.8 MB/s eta 0:00:01\n",
      "   ---------------------------------------  25.1/25.2 MB 20.5 MB/s eta 0:00:01\n",
      "   ---------------------------------------  25.1/25.2 MB 20.5 MB/s eta 0:00:01\n",
      "   ---------------------------------------  25.1/25.2 MB 20.5 MB/s eta 0:00:01\n",
      "   ---------------------------------------  25.1/25.2 MB 20.5 MB/s eta 0:00:01\n",
      "   ---------------------------------------  25.1/25.2 MB 20.5 MB/s eta 0:00:01\n",
      "   ---------------------------------------  25.1/25.2 MB 20.5 MB/s eta 0:00:01\n",
      "   ---------------------------------------- 25.2/25.2 MB 13.4 MB/s eta 0:00:00\n",
      "Installing collected packages: pyarrow\n",
      "Successfully installed pyarrow-17.0.0\n"
     ]
    },
    {
     "name": "stderr",
     "output_type": "stream",
     "text": [
      "\n",
      "[notice] A new release of pip is available: 24.0 -> 24.2\n",
      "[notice] To update, run: python.exe -m pip install --upgrade pip\n"
     ]
    }
   ],
   "source": [
    "!pip install pyarrow"
   ]
  },
  {
   "cell_type": "code",
   "execution_count": 34,
   "metadata": {},
   "outputs": [
    {
     "name": "stdout",
     "output_type": "stream",
     "text": [
      "Requirement already satisfied: numpy in c:\\users\\jeff\\appdata\\local\\programs\\python\\python311\\lib\\site-packages (2.0.1)\n",
      "Requirement already satisfied: pyarrow in c:\\users\\jeff\\appdata\\local\\programs\\python\\python311\\lib\\site-packages (17.0.0)\n",
      "Requirement already satisfied: pyspark in c:\\users\\jeff\\appdata\\local\\programs\\python\\python311\\lib\\site-packages (3.5.1)\n",
      "Requirement already satisfied: pandas in c:\\users\\jeff\\appdata\\local\\programs\\python\\python311\\lib\\site-packages (2.2.2)\n",
      "Requirement already satisfied: py4j==0.10.9.7 in c:\\users\\jeff\\appdata\\local\\programs\\python\\python311\\lib\\site-packages (from pyspark) (0.10.9.7)\n",
      "Requirement already satisfied: python-dateutil>=2.8.2 in c:\\users\\jeff\\appdata\\roaming\\python\\python311\\site-packages (from pandas) (2.9.0.post0)\n",
      "Requirement already satisfied: pytz>=2020.1 in c:\\users\\jeff\\appdata\\local\\programs\\python\\python311\\lib\\site-packages (from pandas) (2024.1)\n",
      "Requirement already satisfied: tzdata>=2022.7 in c:\\users\\jeff\\appdata\\local\\programs\\python\\python311\\lib\\site-packages (from pandas) (2024.1)\n",
      "Requirement already satisfied: six>=1.5 in c:\\users\\jeff\\appdata\\roaming\\python\\python311\\site-packages (from python-dateutil>=2.8.2->pandas) (1.16.0)\n"
     ]
    },
    {
     "name": "stderr",
     "output_type": "stream",
     "text": [
      "\n",
      "[notice] A new release of pip is available: 24.0 -> 24.2\n",
      "[notice] To update, run: python.exe -m pip install --upgrade pip\n"
     ]
    }
   ],
   "source": [
    "!pip install --upgrade numpy pyarrow pyspark pandas"
   ]
  },
  {
   "cell_type": "code",
   "execution_count": 36,
   "metadata": {},
   "outputs": [],
   "source": [
    "# convertendo para pandas consegue converter para outros formatos se necessario\n",
    "\n",
    "import pandas as pd\n",
    "\n",
    "pdf = df.toPandas()\n",
    "pdf.to_csv('output.csv', index=False)\n"
   ]
  },
  {
   "cell_type": "code",
   "execution_count": 37,
   "metadata": {},
   "outputs": [
    {
     "name": "stdout",
     "output_type": "stream",
     "text": [
      "Collecting openpyxl\n",
      "  Downloading openpyxl-3.1.5-py2.py3-none-any.whl.metadata (2.5 kB)\n",
      "Collecting et-xmlfile (from openpyxl)\n",
      "  Downloading et_xmlfile-1.1.0-py3-none-any.whl.metadata (1.8 kB)\n",
      "Downloading openpyxl-3.1.5-py2.py3-none-any.whl (250 kB)\n",
      "   ---------------------------------------- 0.0/250.9 kB ? eta -:--:--\n",
      "   - -------------------------------------- 10.2/250.9 kB ? eta -:--:--\n",
      "   --------- ----------------------------- 61.4/250.9 kB 812.7 kB/s eta 0:00:01\n",
      "   -------------------------------- ------- 204.8/250.9 kB 1.8 MB/s eta 0:00:01\n",
      "   ---------------------------------------- 250.9/250.9 kB 1.9 MB/s eta 0:00:00\n",
      "Downloading et_xmlfile-1.1.0-py3-none-any.whl (4.7 kB)\n",
      "Installing collected packages: et-xmlfile, openpyxl\n",
      "Successfully installed et-xmlfile-1.1.0 openpyxl-3.1.5\n"
     ]
    },
    {
     "name": "stderr",
     "output_type": "stream",
     "text": [
      "\n",
      "[notice] A new release of pip is available: 24.0 -> 24.2\n",
      "[notice] To update, run: python.exe -m pip install --upgrade pip\n"
     ]
    }
   ],
   "source": [
    "!pip install openpyxl"
   ]
  },
  {
   "cell_type": "code",
   "execution_count": 38,
   "metadata": {},
   "outputs": [],
   "source": [
    "df.toPandas().to_excel('output.xlsx')"
   ]
  },
  {
   "cell_type": "code",
   "execution_count": 39,
   "metadata": {},
   "outputs": [],
   "source": [
    "df.toPandas().to_csv('output.txt')"
   ]
  },
  {
   "cell_type": "code",
   "execution_count": 40,
   "metadata": {},
   "outputs": [],
   "source": [
    "df.toPandas().to_parquet('output.parquet')"
   ]
  },
  {
   "cell_type": "code",
   "execution_count": 41,
   "metadata": {},
   "outputs": [],
   "source": [
    "df.toPandas().to_feather('output.feather')"
   ]
  },
  {
   "cell_type": "code",
   "execution_count": null,
   "metadata": {},
   "outputs": [],
   "source": []
  }
 ],
 "metadata": {
  "kernelspec": {
   "display_name": "Python 3",
   "language": "python",
   "name": "python3"
  },
  "language_info": {
   "codemirror_mode": {
    "name": "ipython",
    "version": 3
   },
   "file_extension": ".py",
   "mimetype": "text/x-python",
   "name": "python",
   "nbconvert_exporter": "python",
   "pygments_lexer": "ipython3",
   "version": "3.11.8"
  }
 },
 "nbformat": 4,
 "nbformat_minor": 2
}
