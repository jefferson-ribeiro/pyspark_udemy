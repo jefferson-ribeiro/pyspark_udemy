{
 "cells": [
  {
   "cell_type": "code",
   "execution_count": 2,
   "metadata": {},
   "outputs": [],
   "source": [
    "#Cria sessão Spark\n",
    "from pyspark.sql import SparkSession\n",
    "from pyspark.sql.functions import col\n",
    "import pyspark.sql.functions as F"
   ]
  },
  {
   "cell_type": "code",
   "execution_count": 3,
   "metadata": {},
   "outputs": [],
   "source": [
    "#Instância Spark\n",
    "spark = SparkSession.builder.appName('Curso Pyspark') \\\n",
    "         .config('spark.sql.repl.eagerEval.enabled', True) \\\n",
    "         .getOrCreate()      "
   ]
  },
  {
   "cell_type": "code",
   "execution_count": 4,
   "metadata": {},
   "outputs": [],
   "source": [
    "# lendo um arquivo parquet\n",
    "df = spark.read.parquet('./DATASETS/IMC.parquet')"
   ]
  },
  {
   "cell_type": "code",
   "execution_count": 5,
   "metadata": {},
   "outputs": [
    {
     "name": "stdout",
     "output_type": "stream",
     "text": [
      "+----------------------+------+------+\n",
      "|nome                  |altura|peso  |\n",
      "+----------------------+------+------+\n",
      "|Pietra Fernandes      |176   |97.88 |\n",
      "|Ana Júlia da Rosa     |163   |80.56 |\n",
      "|Fernando Martins      |150   |85.55 |\n",
      "|Isis Silveira         |173   |70.1  |\n",
      "|Cecília Porto         |190   |93.42 |\n",
      "|Sra. Bruna Almeida    |198   |73.07 |\n",
      "|Maria Julia Silva     |170   |71.36 |\n",
      "|Pedro Henrique da Cruz|188   |105.57|\n",
      "|Davi Lucas Campos     |180   |98.49 |\n",
      "|Juan Gonçalves        |175   |71.87 |\n",
      "+----------------------+------+------+\n",
      "\n"
     ]
    }
   ],
   "source": [
    "df.show(20, False)"
   ]
  },
  {
   "cell_type": "code",
   "execution_count": 14,
   "metadata": {},
   "outputs": [
    {
     "data": {
      "text/html": [
       "<table border='1'>\n",
       "<tr><th>nome</th><th>altura</th><th>peso</th><th>round</th><th>ceil</th><th>floor</th><th>altura_negativa</th><th>abs</th><th>pow</th><th>sqrt</th></tr>\n",
       "<tr><td>Pietra Fernandes</td><td>176</td><td>97.88</td><td>97.9</td><td>98</td><td>97</td><td>-176</td><td>176</td><td>9580.4944</td><td>97.88</td></tr>\n",
       "<tr><td>Ana J&uacute;lia da Rosa</td><td>163</td><td>80.56</td><td>80.6</td><td>81</td><td>80</td><td>-163</td><td>163</td><td>6489.913600000001</td><td>80.56</td></tr>\n",
       "<tr><td>Fernando Martins</td><td>150</td><td>85.55</td><td>85.6</td><td>86</td><td>85</td><td>-150</td><td>150</td><td>7318.8025</td><td>85.55</td></tr>\n",
       "<tr><td>Isis Silveira</td><td>173</td><td>70.1</td><td>70.1</td><td>71</td><td>70</td><td>-173</td><td>173</td><td>4914.009999999999</td><td>70.1</td></tr>\n",
       "<tr><td>Cec&iacute;lia Porto</td><td>190</td><td>93.42</td><td>93.4</td><td>94</td><td>93</td><td>-190</td><td>190</td><td>8727.296400000001</td><td>93.42</td></tr>\n",
       "<tr><td>Sra. Bruna Almeida</td><td>198</td><td>73.07</td><td>73.1</td><td>74</td><td>73</td><td>-198</td><td>198</td><td>5339.224899999999</td><td>73.07</td></tr>\n",
       "<tr><td>Maria Julia Silva</td><td>170</td><td>71.36</td><td>71.4</td><td>72</td><td>71</td><td>-170</td><td>170</td><td>5092.2496</td><td>71.36</td></tr>\n",
       "<tr><td>Pedro Henrique da...</td><td>188</td><td>105.57</td><td>105.6</td><td>106</td><td>105</td><td>-188</td><td>188</td><td>11145.024899999999</td><td>105.57</td></tr>\n",
       "<tr><td>Davi Lucas Campos</td><td>180</td><td>98.49</td><td>98.5</td><td>99</td><td>98</td><td>-180</td><td>180</td><td>9700.280099999998</td><td>98.49</td></tr>\n",
       "<tr><td>Juan Gon&ccedil;alves</td><td>175</td><td>71.87</td><td>71.9</td><td>72</td><td>71</td><td>-175</td><td>175</td><td>5165.2969</td><td>71.87</td></tr>\n",
       "</table>\n"
      ],
      "text/plain": [
       "+--------------------+------+------+-----+----+-----+---------------+---+------------------+------+\n",
       "|                nome|altura|  peso|round|ceil|floor|altura_negativa|abs|               pow|  sqrt|\n",
       "+--------------------+------+------+-----+----+-----+---------------+---+------------------+------+\n",
       "|    Pietra Fernandes|   176| 97.88| 97.9|  98|   97|           -176|176|         9580.4944| 97.88|\n",
       "|   Ana Júlia da Rosa|   163| 80.56| 80.6|  81|   80|           -163|163| 6489.913600000001| 80.56|\n",
       "|    Fernando Martins|   150| 85.55| 85.6|  86|   85|           -150|150|         7318.8025| 85.55|\n",
       "|       Isis Silveira|   173|  70.1| 70.1|  71|   70|           -173|173| 4914.009999999999|  70.1|\n",
       "|       Cecília Porto|   190| 93.42| 93.4|  94|   93|           -190|190| 8727.296400000001| 93.42|\n",
       "|  Sra. Bruna Almeida|   198| 73.07| 73.1|  74|   73|           -198|198| 5339.224899999999| 73.07|\n",
       "|   Maria Julia Silva|   170| 71.36| 71.4|  72|   71|           -170|170|         5092.2496| 71.36|\n",
       "|Pedro Henrique da...|   188|105.57|105.6| 106|  105|           -188|188|11145.024899999999|105.57|\n",
       "|   Davi Lucas Campos|   180| 98.49| 98.5|  99|   98|           -180|180| 9700.280099999998| 98.49|\n",
       "|      Juan Gonçalves|   175| 71.87| 71.9|  72|   71|           -175|175|         5165.2969| 71.87|\n",
       "+--------------------+------+------+-----+----+-----+---------------+---+------------------+------+"
      ]
     },
     "execution_count": 14,
     "metadata": {},
     "output_type": "execute_result"
    }
   ],
   "source": [
    "(\n",
    "    df\n",
    "    # função de arrendondamento (casas decimais)\n",
    "    .withColumn('round', F.round(df.peso, 1))\n",
    "    #arrendondar sempre para cima\n",
    "    .withColumn('ceil', F.ceil(df.peso))\n",
    "    #arrendondar sempre para baixo\n",
    "    .withColumn('floor', F.floor(df.peso))\n",
    "    # criando coluna com númer negativos\n",
    "    .withColumn('altura_negativa', -F.col('altura'))\n",
    "    #somente valores absolutos (positivos)\n",
    "    .withColumn('abs', F.abs(F.col('altura_negativa')))\n",
    "    # criar potencia \n",
    "    .withColumn('pow', F.pow(df.peso, 2))\n",
    "    # raiz quadrada\n",
    "    .withColumn('sqrt', F.sqrt(F.col('pow')))\n",
    "\n",
    ")"
   ]
  },
  {
   "cell_type": "code",
   "execution_count": 26,
   "metadata": {},
   "outputs": [
    {
     "data": {
      "text/html": [
       "<table border='1'>\n",
       "<tr><th>nome</th><th>altura</th><th>peso</th><th>imc</th></tr>\n",
       "<tr><td>Pietra Fernandes</td><td>176</td><td>97.88</td><td>31.6</td></tr>\n",
       "<tr><td>Ana J&uacute;lia da Rosa</td><td>163</td><td>80.56</td><td>30.32</td></tr>\n",
       "<tr><td>Fernando Martins</td><td>150</td><td>85.55</td><td>38.02</td></tr>\n",
       "<tr><td>Isis Silveira</td><td>173</td><td>70.1</td><td>23.42</td></tr>\n",
       "<tr><td>Cec&iacute;lia Porto</td><td>190</td><td>93.42</td><td>25.88</td></tr>\n",
       "<tr><td>Sra. Bruna Almeida</td><td>198</td><td>73.07</td><td>18.64</td></tr>\n",
       "<tr><td>Maria Julia Silva</td><td>170</td><td>71.36</td><td>24.69</td></tr>\n",
       "<tr><td>Pedro Henrique da...</td><td>188</td><td>105.57</td><td>29.87</td></tr>\n",
       "<tr><td>Davi Lucas Campos</td><td>180</td><td>98.49</td><td>30.4</td></tr>\n",
       "<tr><td>Juan Gon&ccedil;alves</td><td>175</td><td>71.87</td><td>23.47</td></tr>\n",
       "</table>\n"
      ],
      "text/plain": [
       "+--------------------+------+------+-----+\n",
       "|                nome|altura|  peso|  imc|\n",
       "+--------------------+------+------+-----+\n",
       "|    Pietra Fernandes|   176| 97.88| 31.6|\n",
       "|   Ana Júlia da Rosa|   163| 80.56|30.32|\n",
       "|    Fernando Martins|   150| 85.55|38.02|\n",
       "|       Isis Silveira|   173|  70.1|23.42|\n",
       "|       Cecília Porto|   190| 93.42|25.88|\n",
       "|  Sra. Bruna Almeida|   198| 73.07|18.64|\n",
       "|   Maria Julia Silva|   170| 71.36|24.69|\n",
       "|Pedro Henrique da...|   188|105.57|29.87|\n",
       "|   Davi Lucas Campos|   180| 98.49| 30.4|\n",
       "|      Juan Gonçalves|   175| 71.87|23.47|\n",
       "+--------------------+------+------+-----+"
      ]
     },
     "execution_count": 26,
     "metadata": {},
     "output_type": "execute_result"
    }
   ],
   "source": [
    "# Calculo de IMC\n",
    "(\n",
    "    df\n",
    "    .withColumn('imc', F.round(F.col('peso')/F.pow(F.format_number(df.altura / 100, 2),2),2))\n",
    ")"
   ]
  },
  {
   "cell_type": "code",
   "execution_count": null,
   "metadata": {},
   "outputs": [],
   "source": []
  }
 ],
 "metadata": {
  "kernelspec": {
   "display_name": "Python 3",
   "language": "python",
   "name": "python3"
  },
  "language_info": {
   "codemirror_mode": {
    "name": "ipython",
    "version": 3
   },
   "file_extension": ".py",
   "mimetype": "text/x-python",
   "name": "python",
   "nbconvert_exporter": "python",
   "pygments_lexer": "ipython3",
   "version": "3.11.8"
  }
 },
 "nbformat": 4,
 "nbformat_minor": 2
}
