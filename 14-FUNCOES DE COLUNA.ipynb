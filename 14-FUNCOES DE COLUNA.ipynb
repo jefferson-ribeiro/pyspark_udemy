{
 "cells": [
  {
   "cell_type": "code",
   "execution_count": 1,
   "metadata": {},
   "outputs": [],
   "source": [
    "#Cria sessão Spark\n",
    "from pyspark.sql import SparkSession\n",
    "from pyspark.sql.functions import col\n",
    "import pyspark.sql.functions as F"
   ]
  },
  {
   "cell_type": "code",
   "execution_count": 2,
   "metadata": {},
   "outputs": [],
   "source": [
    "#Instância Spark\n",
    "spark = SparkSession.builder.appName('Curso Pyspark') \\\n",
    "         .config('spark.sql.repl.eagerEval.enabled', True) \\\n",
    "         .getOrCreate()      "
   ]
  },
  {
   "cell_type": "code",
   "execution_count": 3,
   "metadata": {},
   "outputs": [],
   "source": [
    "# lendo um arquivo parquet\n",
    "df = spark.read.parquet('./DATASETS/LOGINS.parquet')"
   ]
  },
  {
   "cell_type": "code",
   "execution_count": 4,
   "metadata": {},
   "outputs": [
    {
     "name": "stdout",
     "output_type": "stream",
     "text": [
      "+--------------+----------------------------------+----------+------------------+------+-------------+---------------+------------+---------------------------+-------------------+\n",
      "|cpf           |email                             |senha     |data_de_nascimento|estado|data_cadastro|ipv4           |cor_favorita|profissao                  |telefone           |\n",
      "+--------------+----------------------------------+----------+------------------+------+-------------+---------------+------------+---------------------------+-------------------+\n",
      "|981.507.362-12|pedro-lucas53@gmail.com           |+7^7E%xFBc|2006-12-18        |RR    |2023-02-26   |99.107.250.210 |Roxo        |Jogador De Golfe           |31 7785-4046       |\n",
      "|493.705.168-75|rezendeisaac@hotmail.com          |_O_2GRnGOe|1992-06-17        |GO    |2023-02-16   |197.11.26.213  |Ciano       |Atleta De Arremesso De Peso|(031) 0803-6753    |\n",
      "|398.471.625-73|felipepires@uol.com.br            |*Aw5EOAvy9|1921-11-11        |MG    |2023-01-02   |181.90.63.58   |Azul        |Papiloscopista             |11 9674-0553       |\n",
      "|092.618.354-06|stellamoraes@bol.com.br           |mw0AWYAs#s|2021-06-01        |AC    |2023-01-08   |26.121.127.94  |Marrom      |Aeromoça                   |+55 (071) 3033 9177|\n",
      "|509.427.136-99|wcarvalho@ig.com.br               |pGD%!2Pq5X|1969-10-28        |AP    |2023-02-14   |76.184.52.163  |Laranja     |Fonoaudiólogo              |+55 (071) 6272 2468|\n",
      "|218.795.460-94|da-conceicaodavi-lucas@hotmail.com|uhBbFxPA&9|1986-05-19        |MG    |2023-03-07   |192.93.0.24    |Rosa        |Taxista                    |+55 84 0652 9691   |\n",
      "|715.836.940-48|efreitas@bol.com.br               |s#q9VZt&xl|2018-04-20        |MG    |2023-01-13   |76.251.188.148 |Branco      |Produtor De Audio Visual   |+55 (084) 1363 0052|\n",
      "|475.698.032-56|wnunes@bol.com.br                 |_8az1W%n7g|1996-05-12        |SE    |2023-02-04   |139.196.176.154|Azul        |Cadeirinha                 |(071) 1640-3388    |\n",
      "|217.639.540-99|jribeiro@bol.com.br               |MEf1X7fj_0|2021-10-05        |PA    |2023-03-02   |71.22.224.5    |Marrom      |Geólogo                    |21 1432 4092       |\n",
      "|261.938.750-77|murilo05@gmail.com                |Te&gO7GkKs|1917-01-05        |MT    |2023-02-21   |136.54.123.165 |Marrom      |Técnico De Som             |+55 (084) 5878-3346|\n",
      "|520.831.796-68|joaquim57@ig.com.br               |&2E1NY+ARc|1912-05-25        |BA    |2023-01-25   |78.196.255.126 |Rosa        |Esteticista                |41 7914-3753       |\n",
      "|413.087.526-44|alexiada-rocha@ig.com.br          |@f@!Z!2c*2|1920-05-26        |MS    |2023-02-18   |182.61.65.201  |Laranja     |Microfonista               |(021) 3739-2944    |\n",
      "|509.287.143-14|pmendes@gmail.com                 |M+^XDBfe(2|1938-03-11        |RR    |2023-01-19   |61.234.208.17  |Verde Claro |Fiscal                     |+55 (084) 5940-1932|\n",
      "|563.170.492-70|renan46@bol.com.br                |Rp%2pVqfe$|1922-09-01        |PA    |2023-02-01   |122.203.83.177 |Verde Escuro|Contabilista               |+55 41 6248 5773   |\n",
      "|098.712.346-78|manuelada-rosa@hotmail.com        |#hEIEOztQ3|2013-01-10        |SE    |2023-01-07   |175.18.73.211  |Violeta     |Seguidor De Compras        |51 0278 0564       |\n",
      "|345.709.261-34|usales@ig.com.br                  |b_8xaY$ozJ|1992-10-16        |AM    |2023-01-05   |97.93.29.75    |Rosa        |Almirante                  |(084) 8993-4521    |\n",
      "|318.254.906-51|pereiranicolas@hotmail.com        |YA9I85Wb+2|1945-11-18        |MA    |2023-01-24   |182.195.33.137 |Amarelo     |Consultor De Moda          |(084) 4591 3795    |\n",
      "|610.287.453-62|cardosolivia@ig.com.br            |yXkDW7Ebh*|1915-11-15        |GO    |2023-01-22   |195.194.63.184 |Laranja     |Barbeiro                   |+55 61 8967-9563   |\n",
      "|615.790.842-49|brenda39@ig.com.br                |XS$84Hpsnw|1964-02-01        |RJ    |2023-02-16   |21.252.226.29  |Branco      |Promotor De Vendas         |+55 (021) 4751 2004|\n",
      "|624.095.138-24|luizapeixoto@gmail.com            |TbKy82Kda$|1959-02-01        |DF    |2023-02-25   |105.107.23.13  |Ciano       |Implantodontista           |84 1293 1906       |\n",
      "+--------------+----------------------------------+----------+------------------+------+-------------+---------------+------------+---------------------------+-------------------+\n",
      "only showing top 20 rows\n",
      "\n"
     ]
    }
   ],
   "source": [
    "df.show(20, truncate=0)"
   ]
  },
  {
   "cell_type": "code",
   "execution_count": 6,
   "metadata": {},
   "outputs": [
    {
     "name": "stdout",
     "output_type": "stream",
     "text": [
      "root\n",
      " |-- cpf: string (nullable = true)\n",
      " |-- email: string (nullable = true)\n",
      " |-- senha: string (nullable = true)\n",
      " |-- data_de_nascimento: date (nullable = true)\n",
      " |-- estado: string (nullable = true)\n",
      " |-- data_cadastro: date (nullable = true)\n",
      " |-- ipv4: string (nullable = true)\n",
      " |-- cor_favorita: string (nullable = true)\n",
      " |-- profissao: string (nullable = true)\n",
      " |-- telefone: string (nullable = true)\n",
      "\n"
     ]
    }
   ],
   "source": [
    "df.printSchema()"
   ]
  },
  {
   "cell_type": "code",
   "execution_count": 26,
   "metadata": {},
   "outputs": [
    {
     "name": "stdout",
     "output_type": "stream",
     "text": [
      "+--------------+------------------------------+----------+------------------+------+-------------+---------------+------------+---------------------------------+------------+----------+\n",
      "|cpf           |email                         |senha     |data_de_nascimento|estado|data_cadastro|ipv4           |cor_favorita|profissao                        |telefone    |tel       |\n",
      "+--------------+------------------------------+----------+------------------+------+-------------+---------------+------------+---------------------------------+------------+----------+\n",
      "|217.639.540-99|jribeiro@bol.com.br           |MEf1X7fj_0|2021-10-05        |PA    |2023-03-02   |71.22.224.5    |Marrom      |Geólogo                          |21 1432 4092|2114324092|\n",
      "|136.894.750-66|barrossarah@bol.com.br        |zm1eLH9t%o|1975-05-21        |CE    |2023-01-11   |79.204.112.52  |Magenta     |Auxiliar De Serviços Gerais      |11 7350 7069|1173507069|\n",
      "|748.591.320-41|nalves@yahoo.com.br           |$U0HLVZti5|1931-12-14        |RS    |2023-03-01   |131.147.18.150 |Violeta     |Escoteiro                        |21 2856 4753|2128564753|\n",
      "|265.793.184-73|jazevedo@ig.com.br            |*aObIfCg@1|2008-03-07        |AM    |2023-03-01   |182.108.108.197|Rosa        |Estampador De Tecidos            |11 7568 9493|1175689493|\n",
      "|918.524.730-88|moreiralivia@uol.com.br       |o3Yi$eNs_n|1914-01-17        |RJ    |2023-01-22   |63.34.144.217  |Laranja     |Agente De Defesa Sanitária       |11 2462 1478|1124621478|\n",
      "|514.063.978-57|cavalcantivinicius@hotmail.com|ZyH*9UtWx)|2011-02-21        |PA    |2023-02-10   |55.111.42.71   |Verde Escuro|Atuário                          |11 7741 4671|1177414671|\n",
      "|928.701.456-67|da-cunhaana-julia@ig.com.br   |)2XbB$axPv|1969-01-24        |PA    |2023-01-12   |187.203.37.154 |Violeta     |Prático                          |21 3348 1594|2133481594|\n",
      "|869.271.345-73|miguel76@yahoo.com.br         |*Q$JUx5n#3|2018-03-31        |MA    |2023-02-27   |80.229.217.105 |Cinza       |Técnico Em Segurança Do Trabalho |11 1252 6498|1112526498|\n",
      "|361.280.594-06|alice20@hotmail.com           |@0JRBP$&j)|2012-02-08        |SE    |2023-01-02   |129.116.136.189|Verde Claro |Otorrinolaringologista           |11 6808 5565|1168085565|\n",
      "|716.548.902-94|pedro-henriquemoura@uol.com.br|Og!5B2*m)o|1996-04-10        |GO    |2023-01-07   |25.92.123.244  |Cinza       |Cortador De Cana-De-Açucar       |11 4184 8361|1141848361|\n",
      "|360.179.485-39|joao-gabriel42@ig.com.br      |K9W5Mcerk(|2012-12-30        |CE    |2023-02-11   |64.227.160.247 |Amarelo     |Nefrologista                     |21 2369 3996|2123693996|\n",
      "|539.216.084-06|benjamin34@uol.com.br         |RH^c7vTsX!|2006-03-28        |DF    |2023-02-08   |6.42.198.179   |Marrom      |Telegrafista                     |21 0155 0726|2101550726|\n",
      "|957.102.438-41|calebe52@ig.com.br            |3VGXSE)t!6|1993-04-24        |SE    |2023-01-07   |218.214.242.30 |Roxo        |Profissional De Comércio Exterior|11 0384 7507|1103847507|\n",
      "|306.481.975-57|ana-juliaaraujo@uol.com.br    |Vur0uW9xA*|1936-07-28        |PI    |2023-03-02   |120.103.76.29  |Branco      |Biotecnólogo                     |11 7920 2821|1179202821|\n",
      "|731.602.589-12|castromirella@yahoo.com.br    |z9qQ0X_m%@|1935-04-06        |SC    |2023-01-24   |125.137.127.84 |Ciano       |Cortador De Cana-De-Açucar       |21 1503 8540|2115038540|\n",
      "|983.521.760-21|davi-lucas45@bol.com.br       |uaWqUFiV_4|1946-07-13        |PI    |2023-03-10   |1.122.154.219  |Roxo        |Ortopedista                      |11 1709 2950|1117092950|\n",
      "|172.690.485-76|csouza@ig.com.br              |&*4(B%z$dd|1979-09-03        |DF    |2023-02-03   |165.88.248.55  |Branco      |Cientista Político               |11 9349 7217|1193497217|\n",
      "|652.439.807-65|luiza17@bol.com.br            |^c40dFYUq3|2020-08-28        |RN    |2023-02-07   |223.81.136.76  |Laranja     |Carpinteiro                      |21 3405 8122|2134058122|\n",
      "|139.758.240-50|danilo36@hotmail.com          |_AUlAa*b3A|1956-05-29        |PB    |2023-02-23   |94.189.215.1   |Roxo        |Flanelinha                       |21 4367 0610|2143670610|\n",
      "|130.298.476-40|arezende@uol.com.br           |#W9^XgvTyR|2017-09-02        |MA    |2023-03-01   |129.103.171.217|Rosa        |Pediatra                         |21 3144 7568|2131447568|\n",
      "+--------------+------------------------------+----------+------------------+------+-------------+---------------+------------+---------------------------------+------------+----------+\n",
      "\n"
     ]
    }
   ],
   "source": [
    "(\n",
    "    df\n",
    "    # funçao que substitui valores de uma coluna especifca, neste exemplo na coluna telefone substitui 'espaco' por 'nada'\n",
    "    # cast transforma para numerico\n",
    "    .withColumn('tel', F.regexp_replace('telefone', ' ', '').cast('int'))\n",
    "    \n",
    "    # neste caso o regexp_replace mantem somente os numeros\n",
    "    # .withColumn('tel', F.regexp_replace('telefone', '(\\D)', ''))\n",
    "    \n",
    "    # ordernar \n",
    "    # .orderBy(F.asc('tel'))\n",
    "    # .orderBy(F.desc('tel'))\n",
    "    \n",
    "    # ordernar deixando os nulos para comeco, pode ser usado desc\n",
    "    # .orderBy(F.asc_nulls_first('tel'))\n",
    "    \n",
    "    # ordernar deixando os nulos para final, pode ser usado desc\n",
    "    # .orderBy(F.asc_nulls_last('tel'))\n",
    "    \n",
    "    # funcao between (intervalo)\n",
    "    # .where(F.year('data_de_nascimento').between(2010,2015))\n",
    "    \n",
    "    # funcao de filtro que contem a palavra joao\n",
    "    # .where(F.col('email').contains('joao'))\n",
    "    \n",
    "    # todas as palavras que terminam com uma palavra especifica\n",
    "    # .where(F.col('email').endswith('.br'))\n",
    "    \n",
    "    # todas as palavras que comecam com uma palavra especifica\n",
    "    # .where(F.col('email').startswith('d'))\n",
    "    \n",
    "    # neste caso traz todo mundo que é de SP e RJ\n",
    "    # .where(F.col('estado').isin('RJ', 'SP'))\n",
    "    \n",
    "    # apenas nulos\n",
    "    # .where(F.col('tel').isNull())\n",
    "    \n",
    "    # todos que nao sao nulos\n",
    "    # .where(F.col('tel').isNotNull())\n",
    "    # outra forma de negar uma condição\n",
    "    .where(~F.col('tel').isNull())\n",
    "    \n",
    "    \n",
    "    .show(20, False)\n",
    ")"
   ]
  },
  {
   "cell_type": "code",
   "execution_count": null,
   "metadata": {},
   "outputs": [],
   "source": []
  }
 ],
 "metadata": {
  "kernelspec": {
   "display_name": "Python 3",
   "language": "python",
   "name": "python3"
  },
  "language_info": {
   "codemirror_mode": {
    "name": "ipython",
    "version": 3
   },
   "file_extension": ".py",
   "mimetype": "text/x-python",
   "name": "python",
   "nbconvert_exporter": "python",
   "pygments_lexer": "ipython3",
   "version": "3.11.8"
  }
 },
 "nbformat": 4,
 "nbformat_minor": 2
}
