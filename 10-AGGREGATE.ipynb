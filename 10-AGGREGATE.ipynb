{
 "cells": [
  {
   "cell_type": "code",
   "execution_count": 1,
   "metadata": {},
   "outputs": [],
   "source": [
    "#Cria sessão Spark\n",
    "from pyspark.sql import SparkSession\n",
    "from pyspark.sql.functions import col\n",
    "import pyspark.sql.functions as F"
   ]
  },
  {
   "cell_type": "code",
   "execution_count": 2,
   "metadata": {},
   "outputs": [],
   "source": [
    "#Instância Spark\n",
    "spark = SparkSession.builder.appName('Curso Pyspark') \\\n",
    "         .config('spark.sql.repl.eagerEval.enabled', True) \\\n",
    "         .getOrCreate()      "
   ]
  },
  {
   "cell_type": "code",
   "execution_count": 3,
   "metadata": {},
   "outputs": [],
   "source": [
    "# lendo um arquivo parquet\n",
    "df = spark.read.parquet('./DATASETS/LOGINS.parquet')"
   ]
  },
  {
   "cell_type": "code",
   "execution_count": 4,
   "metadata": {},
   "outputs": [
    {
     "name": "stdout",
     "output_type": "stream",
     "text": [
      "+--------------+----------------------------------+----------+------------------+------+-------------+---------------+------------+---------------------------+-------------------+\n",
      "|cpf           |email                             |senha     |data_de_nascimento|estado|data_cadastro|ipv4           |cor_favorita|profissao                  |telefone           |\n",
      "+--------------+----------------------------------+----------+------------------+------+-------------+---------------+------------+---------------------------+-------------------+\n",
      "|981.507.362-12|pedro-lucas53@gmail.com           |+7^7E%xFBc|2006-12-18        |RR    |2023-02-26   |99.107.250.210 |Roxo        |Jogador De Golfe           |31 7785-4046       |\n",
      "|493.705.168-75|rezendeisaac@hotmail.com          |_O_2GRnGOe|1992-06-17        |GO    |2023-02-16   |197.11.26.213  |Ciano       |Atleta De Arremesso De Peso|(031) 0803-6753    |\n",
      "|398.471.625-73|felipepires@uol.com.br            |*Aw5EOAvy9|1921-11-11        |MG    |2023-01-02   |181.90.63.58   |Azul        |Papiloscopista             |11 9674-0553       |\n",
      "|092.618.354-06|stellamoraes@bol.com.br           |mw0AWYAs#s|2021-06-01        |AC    |2023-01-08   |26.121.127.94  |Marrom      |Aeromoça                   |+55 (071) 3033 9177|\n",
      "|509.427.136-99|wcarvalho@ig.com.br               |pGD%!2Pq5X|1969-10-28        |AP    |2023-02-14   |76.184.52.163  |Laranja     |Fonoaudiólogo              |+55 (071) 6272 2468|\n",
      "|218.795.460-94|da-conceicaodavi-lucas@hotmail.com|uhBbFxPA&9|1986-05-19        |MG    |2023-03-07   |192.93.0.24    |Rosa        |Taxista                    |+55 84 0652 9691   |\n",
      "|715.836.940-48|efreitas@bol.com.br               |s#q9VZt&xl|2018-04-20        |MG    |2023-01-13   |76.251.188.148 |Branco      |Produtor De Audio Visual   |+55 (084) 1363 0052|\n",
      "|475.698.032-56|wnunes@bol.com.br                 |_8az1W%n7g|1996-05-12        |SE    |2023-02-04   |139.196.176.154|Azul        |Cadeirinha                 |(071) 1640-3388    |\n",
      "|217.639.540-99|jribeiro@bol.com.br               |MEf1X7fj_0|2021-10-05        |PA    |2023-03-02   |71.22.224.5    |Marrom      |Geólogo                    |21 1432 4092       |\n",
      "|261.938.750-77|murilo05@gmail.com                |Te&gO7GkKs|1917-01-05        |MT    |2023-02-21   |136.54.123.165 |Marrom      |Técnico De Som             |+55 (084) 5878-3346|\n",
      "|520.831.796-68|joaquim57@ig.com.br               |&2E1NY+ARc|1912-05-25        |BA    |2023-01-25   |78.196.255.126 |Rosa        |Esteticista                |41 7914-3753       |\n",
      "|413.087.526-44|alexiada-rocha@ig.com.br          |@f@!Z!2c*2|1920-05-26        |MS    |2023-02-18   |182.61.65.201  |Laranja     |Microfonista               |(021) 3739-2944    |\n",
      "|509.287.143-14|pmendes@gmail.com                 |M+^XDBfe(2|1938-03-11        |RR    |2023-01-19   |61.234.208.17  |Verde Claro |Fiscal                     |+55 (084) 5940-1932|\n",
      "|563.170.492-70|renan46@bol.com.br                |Rp%2pVqfe$|1922-09-01        |PA    |2023-02-01   |122.203.83.177 |Verde Escuro|Contabilista               |+55 41 6248 5773   |\n",
      "|098.712.346-78|manuelada-rosa@hotmail.com        |#hEIEOztQ3|2013-01-10        |SE    |2023-01-07   |175.18.73.211  |Violeta     |Seguidor De Compras        |51 0278 0564       |\n",
      "|345.709.261-34|usales@ig.com.br                  |b_8xaY$ozJ|1992-10-16        |AM    |2023-01-05   |97.93.29.75    |Rosa        |Almirante                  |(084) 8993-4521    |\n",
      "|318.254.906-51|pereiranicolas@hotmail.com        |YA9I85Wb+2|1945-11-18        |MA    |2023-01-24   |182.195.33.137 |Amarelo     |Consultor De Moda          |(084) 4591 3795    |\n",
      "|610.287.453-62|cardosolivia@ig.com.br            |yXkDW7Ebh*|1915-11-15        |GO    |2023-01-22   |195.194.63.184 |Laranja     |Barbeiro                   |+55 61 8967-9563   |\n",
      "|615.790.842-49|brenda39@ig.com.br                |XS$84Hpsnw|1964-02-01        |RJ    |2023-02-16   |21.252.226.29  |Branco      |Promotor De Vendas         |+55 (021) 4751 2004|\n",
      "|624.095.138-24|luizapeixoto@gmail.com            |TbKy82Kda$|1959-02-01        |DF    |2023-02-25   |105.107.23.13  |Ciano       |Implantodontista           |84 1293 1906       |\n",
      "+--------------+----------------------------------+----------+------------------+------+-------------+---------------+------------+---------------------------+-------------------+\n",
      "only showing top 20 rows\n",
      "\n"
     ]
    }
   ],
   "source": [
    "df.show(20, False)"
   ]
  },
  {
   "cell_type": "code",
   "execution_count": 11,
   "metadata": {},
   "outputs": [],
   "source": [
    "df = df.withColumn('num', F.dayofmonth(df.data_de_nascimento))"
   ]
  },
  {
   "cell_type": "code",
   "execution_count": 12,
   "metadata": {},
   "outputs": [
    {
     "data": {
      "text/html": [
       "<table border='1'>\n",
       "<tr><th>cor_favorita</th><th>count(1)</th><th>sum(num)</th><th>avg(num)</th><th>max(num)</th><th>min(num)</th><th>stddev(num)</th></tr>\n",
       "<tr><td>Preto</td><td>57</td><td>893</td><td>15.666666666666666</td><td>31</td><td>1</td><td>9.158004565354158</td></tr>\n",
       "<tr><td>Violeta</td><td>47</td><td>773</td><td>16.4468085106383</td><td>31</td><td>1</td><td>8.609419792191972</td></tr>\n",
       "<tr><td>Rosa</td><td>81</td><td>1146</td><td>14.148148148148149</td><td>31</td><td>1</td><td>8.153390569436604</td></tr>\n",
       "<tr><td>Marrom</td><td>62</td><td>916</td><td>14.774193548387096</td><td>31</td><td>1</td><td>8.952368227455667</td></tr>\n",
       "<tr><td>Ciano</td><td>59</td><td>1085</td><td>18.389830508474578</td><td>31</td><td>1</td><td>9.02681245369735</td></tr>\n",
       "<tr><td>Laranja</td><td>53</td><td>956</td><td>18.037735849056602</td><td>31</td><td>1</td><td>8.735344350904686</td></tr>\n",
       "<tr><td>Azul</td><td>76</td><td>1295</td><td>17.039473684210527</td><td>31</td><td>1</td><td>9.107419377589803</td></tr>\n",
       "<tr><td>Verde Claro</td><td>66</td><td>1179</td><td>17.863636363636363</td><td>31</td><td>1</td><td>9.121211734002424</td></tr>\n",
       "<tr><td>Roxo</td><td>64</td><td>1025</td><td>16.015625</td><td>31</td><td>1</td><td>9.005275680364543</td></tr>\n",
       "<tr><td>Branco</td><td>66</td><td>1085</td><td>16.439393939393938</td><td>31</td><td>1</td><td>9.907462281422465</td></tr>\n",
       "<tr><td>Verde Escuro</td><td>65</td><td>1103</td><td>16.96923076923077</td><td>31</td><td>1</td><td>8.96341388431542</td></tr>\n",
       "<tr><td>Azul Escuro</td><td>62</td><td>1042</td><td>16.806451612903224</td><td>31</td><td>1</td><td>9.289229987459422</td></tr>\n",
       "<tr><td>Verde</td><td>53</td><td>858</td><td>16.18867924528302</td><td>31</td><td>1</td><td>8.991569991629305</td></tr>\n",
       "<tr><td>Magenta</td><td>54</td><td>935</td><td>17.314814814814813</td><td>29</td><td>1</td><td>8.871884941650764</td></tr>\n",
       "<tr><td>Cinza</td><td>75</td><td>1208</td><td>16.106666666666666</td><td>31</td><td>1</td><td>8.658027572226912</td></tr>\n",
       "<tr><td>Amarelo</td><td>60</td><td>828</td><td>13.8</td><td>30</td><td>1</td><td>9.34607685301019</td></tr>\n",
       "</table>\n"
      ],
      "text/plain": [
       "+------------+--------+--------+------------------+--------+--------+-----------------+\n",
       "|cor_favorita|count(1)|sum(num)|          avg(num)|max(num)|min(num)|      stddev(num)|\n",
       "+------------+--------+--------+------------------+--------+--------+-----------------+\n",
       "|       Preto|      57|     893|15.666666666666666|      31|       1|9.158004565354158|\n",
       "|     Violeta|      47|     773|  16.4468085106383|      31|       1|8.609419792191972|\n",
       "|        Rosa|      81|    1146|14.148148148148149|      31|       1|8.153390569436604|\n",
       "|      Marrom|      62|     916|14.774193548387096|      31|       1|8.952368227455667|\n",
       "|       Ciano|      59|    1085|18.389830508474578|      31|       1| 9.02681245369735|\n",
       "|     Laranja|      53|     956|18.037735849056602|      31|       1|8.735344350904686|\n",
       "|        Azul|      76|    1295|17.039473684210527|      31|       1|9.107419377589803|\n",
       "| Verde Claro|      66|    1179|17.863636363636363|      31|       1|9.121211734002424|\n",
       "|        Roxo|      64|    1025|         16.015625|      31|       1|9.005275680364543|\n",
       "|      Branco|      66|    1085|16.439393939393938|      31|       1|9.907462281422465|\n",
       "|Verde Escuro|      65|    1103| 16.96923076923077|      31|       1| 8.96341388431542|\n",
       "| Azul Escuro|      62|    1042|16.806451612903224|      31|       1|9.289229987459422|\n",
       "|       Verde|      53|     858| 16.18867924528302|      31|       1|8.991569991629305|\n",
       "|     Magenta|      54|     935|17.314814814814813|      29|       1|8.871884941650764|\n",
       "|       Cinza|      75|    1208|16.106666666666666|      31|       1|8.658027572226912|\n",
       "|     Amarelo|      60|     828|              13.8|      30|       1| 9.34607685301019|\n",
       "+------------+--------+--------+------------------+--------+--------+-----------------+"
      ]
     },
     "execution_count": 12,
     "metadata": {},
     "output_type": "execute_result"
    }
   ],
   "source": [
    "df.groupBy('cor_favorita').agg(F.count('*'), F.sum('num'), F.avg('num'), F.max('num'), F.min('num'), F.stddev('num'))"
   ]
  },
  {
   "cell_type": "code",
   "execution_count": 14,
   "metadata": {},
   "outputs": [
    {
     "data": {
      "text/html": [
       "<table border='1'>\n",
       "<tr><th>cor_favorita</th><th>avg(num)</th><th>count(1)</th></tr>\n",
       "<tr><td>Preto</td><td>15.666666666666666</td><td>57</td></tr>\n",
       "<tr><td>Violeta</td><td>16.4468085106383</td><td>47</td></tr>\n",
       "<tr><td>Rosa</td><td>14.148148148148149</td><td>81</td></tr>\n",
       "<tr><td>Marrom</td><td>14.774193548387096</td><td>62</td></tr>\n",
       "<tr><td>Ciano</td><td>18.389830508474578</td><td>59</td></tr>\n",
       "<tr><td>Laranja</td><td>18.037735849056602</td><td>53</td></tr>\n",
       "<tr><td>Azul</td><td>17.039473684210527</td><td>76</td></tr>\n",
       "<tr><td>Verde Claro</td><td>17.863636363636363</td><td>66</td></tr>\n",
       "<tr><td>Roxo</td><td>16.015625</td><td>64</td></tr>\n",
       "<tr><td>Branco</td><td>16.439393939393938</td><td>66</td></tr>\n",
       "<tr><td>Verde Escuro</td><td>16.96923076923077</td><td>65</td></tr>\n",
       "<tr><td>Azul Escuro</td><td>16.806451612903224</td><td>62</td></tr>\n",
       "<tr><td>Verde</td><td>16.18867924528302</td><td>53</td></tr>\n",
       "<tr><td>Magenta</td><td>17.314814814814813</td><td>54</td></tr>\n",
       "<tr><td>Cinza</td><td>16.106666666666666</td><td>75</td></tr>\n",
       "<tr><td>Amarelo</td><td>13.8</td><td>60</td></tr>\n",
       "</table>\n"
      ],
      "text/plain": [
       "+------------+------------------+--------+\n",
       "|cor_favorita|          avg(num)|count(1)|\n",
       "+------------+------------------+--------+\n",
       "|       Preto|15.666666666666666|      57|\n",
       "|     Violeta|  16.4468085106383|      47|\n",
       "|        Rosa|14.148148148148149|      81|\n",
       "|      Marrom|14.774193548387096|      62|\n",
       "|       Ciano|18.389830508474578|      59|\n",
       "|     Laranja|18.037735849056602|      53|\n",
       "|        Azul|17.039473684210527|      76|\n",
       "| Verde Claro|17.863636363636363|      66|\n",
       "|        Roxo|         16.015625|      64|\n",
       "|      Branco|16.439393939393938|      66|\n",
       "|Verde Escuro| 16.96923076923077|      65|\n",
       "| Azul Escuro|16.806451612903224|      62|\n",
       "|       Verde| 16.18867924528302|      53|\n",
       "|     Magenta|17.314814814814813|      54|\n",
       "|       Cinza|16.106666666666666|      75|\n",
       "|     Amarelo|              13.8|      60|\n",
       "+------------+------------------+--------+"
      ]
     },
     "execution_count": 14,
     "metadata": {},
     "output_type": "execute_result"
    }
   ],
   "source": [
    "# como podem ver desta forma ele sobrepoe e registra somente a ultima função utilizada\n",
    "\n",
    "df.groupBy('cor_favorita').agg({'*':'count', 'num':'sum', 'num':'avg'})"
   ]
  },
  {
   "cell_type": "code",
   "execution_count": null,
   "metadata": {},
   "outputs": [],
   "source": []
  }
 ],
 "metadata": {
  "kernelspec": {
   "display_name": "Python 3",
   "language": "python",
   "name": "python3"
  },
  "language_info": {
   "codemirror_mode": {
    "name": "ipython",
    "version": 3
   },
   "file_extension": ".py",
   "mimetype": "text/x-python",
   "name": "python",
   "nbconvert_exporter": "python",
   "pygments_lexer": "ipython3",
   "version": "3.11.8"
  }
 },
 "nbformat": 4,
 "nbformat_minor": 2
}
