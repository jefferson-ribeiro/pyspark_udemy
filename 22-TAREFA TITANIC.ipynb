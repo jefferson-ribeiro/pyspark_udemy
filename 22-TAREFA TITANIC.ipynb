{
 "cells": [
  {
   "cell_type": "markdown",
   "metadata": {},
   "source": [
    "Tarefa\n",
    "Utilize o dataset \"Titanic - Machine Learning from Disaster\" para realizar essa tarefa: https://www.kaggle.com/competitions/titanic/data\n",
    "\n",
    "Um empresário do ramo de cruzeiros está procurando expandir seus negócios, mas precisa entender melhor seu público-alvo. Ele tem em mãos os dados do \"Titanic - Machine Learning from Disaster\", que contém informações sobre passageiros do navio Titanic. Com base nesses dados, o empresário pode tomar decisões mais informadas sobre como atrair e atender melhor seus clientes:"
   ]
  },
  {
   "cell_type": "code",
   "execution_count": 1,
   "metadata": {},
   "outputs": [],
   "source": [
    "#Cria sessão Spark\n",
    "from pyspark.sql import SparkSession\n",
    "from pyspark.sql.functions import col\n",
    "import pyspark.sql.functions as F"
   ]
  },
  {
   "cell_type": "code",
   "execution_count": 2,
   "metadata": {},
   "outputs": [],
   "source": [
    "#Instância Spark\n",
    "spark = SparkSession.builder.appName('Curso Pyspark') \\\n",
    "         .config('spark.sql.repl.eagerEval.enabled', True) \\\n",
    "         .getOrCreate()      "
   ]
  },
  {
   "cell_type": "code",
   "execution_count": 3,
   "metadata": {},
   "outputs": [],
   "source": [
    "# lendo um arquivo parquet\n",
    "df = spark.read.csv('./DATASETS/Desafio/titanic.csv',sep=',', header=True)"
   ]
  },
  {
   "cell_type": "code",
   "execution_count": 4,
   "metadata": {},
   "outputs": [
    {
     "name": "stdout",
     "output_type": "stream",
     "text": [
      "+-----------+--------+------+-------------------------------------------------------+------+----+-----+-----+----------------+-------+-----+--------+\n",
      "|PassengerId|Survived|Pclass|Name                                                   |Sex   |Age |SibSp|Parch|Ticket          |Fare   |Cabin|Embarked|\n",
      "+-----------+--------+------+-------------------------------------------------------+------+----+-----+-----+----------------+-------+-----+--------+\n",
      "|1          |0       |3     |Braund, Mr. Owen Harris                                |male  |22  |1    |0    |A/5 21171       |7.25   |NULL |S       |\n",
      "|2          |1       |1     |Cumings, Mrs. John Bradley (Florence Briggs Thayer)    |female|38  |1    |0    |PC 17599        |71.2833|C85  |C       |\n",
      "|3          |1       |3     |Heikkinen, Miss. Laina                                 |female|26  |0    |0    |STON/O2. 3101282|7.925  |NULL |S       |\n",
      "|4          |1       |1     |Futrelle, Mrs. Jacques Heath (Lily May Peel)           |female|35  |1    |0    |113803          |53.1   |C123 |S       |\n",
      "|5          |0       |3     |Allen, Mr. William Henry                               |male  |35  |0    |0    |373450          |8.05   |NULL |S       |\n",
      "|6          |0       |3     |Moran, Mr. James                                       |male  |NULL|0    |0    |330877          |8.4583 |NULL |Q       |\n",
      "|7          |0       |1     |McCarthy, Mr. Timothy J                                |male  |54  |0    |0    |17463           |51.8625|E46  |S       |\n",
      "|8          |0       |3     |Palsson, Master. Gosta Leonard                         |male  |2   |3    |1    |349909          |21.075 |NULL |S       |\n",
      "|9          |1       |3     |Johnson, Mrs. Oscar W (Elisabeth Vilhelmina Berg)      |female|27  |0    |2    |347742          |11.1333|NULL |S       |\n",
      "|10         |1       |2     |Nasser, Mrs. Nicholas (Adele Achem)                    |female|14  |1    |0    |237736          |30.0708|NULL |C       |\n",
      "|11         |1       |3     |Sandstrom, Miss. Marguerite Rut                        |female|4   |1    |1    |PP 9549         |16.7   |G6   |S       |\n",
      "|12         |1       |1     |Bonnell, Miss. Elizabeth                               |female|58  |0    |0    |113783          |26.55  |C103 |S       |\n",
      "|13         |0       |3     |Saundercock, Mr. William Henry                         |male  |20  |0    |0    |A/5. 2151       |8.05   |NULL |S       |\n",
      "|14         |0       |3     |Andersson, Mr. Anders Johan                            |male  |39  |1    |5    |347082          |31.275 |NULL |S       |\n",
      "|15         |0       |3     |Vestrom, Miss. Hulda Amanda Adolfina                   |female|14  |0    |0    |350406          |7.8542 |NULL |S       |\n",
      "|16         |1       |2     |Hewlett, Mrs. (Mary D Kingcome)                        |female|55  |0    |0    |248706          |16     |NULL |S       |\n",
      "|17         |0       |3     |Rice, Master. Eugene                                   |male  |2   |4    |1    |382652          |29.125 |NULL |Q       |\n",
      "|18         |1       |2     |Williams, Mr. Charles Eugene                           |male  |NULL|0    |0    |244373          |13     |NULL |S       |\n",
      "|19         |0       |3     |Vander Planke, Mrs. Julius (Emelia Maria Vandemoortele)|female|31  |1    |0    |345763          |18     |NULL |S       |\n",
      "|20         |1       |3     |Masselmani, Mrs. Fatima                                |female|NULL|0    |0    |2649            |7.225  |NULL |C       |\n",
      "+-----------+--------+------+-------------------------------------------------------+------+----+-----+-----+----------------+-------+-----+--------+\n",
      "only showing top 20 rows\n",
      "\n"
     ]
    }
   ],
   "source": [
    "df.show(20, truncate=0)"
   ]
  },
  {
   "cell_type": "markdown",
   "metadata": {},
   "source": [
    "1 - O empresário quer saber se há alguma correlação entre a idade dos passageiros do Titanic e a classe em que estavam viajando. Ele gostaria de saber se os passageiros mais velhos tendiam a viajar em classes superiores ou inferiores. Como você poderia ajudá-lo a responder essa pergunta utilizando o conjunto de dados do Titanic?"
   ]
  },
  {
   "cell_type": "code",
   "execution_count": 5,
   "metadata": {},
   "outputs": [
    {
     "name": "stdout",
     "output_type": "stream",
     "text": [
      "+------+-----------+\n",
      "|Pclass|Average_Age|\n",
      "+------+-----------+\n",
      "|1     |38.0       |\n",
      "|2     |30.0       |\n",
      "|3     |25.0       |\n",
      "+------+-----------+\n",
      "\n"
     ]
    }
   ],
   "source": [
    "(\n",
    "df\n",
    ".groupBy('Pclass')\n",
    ".agg(F.round(F.avg('Age'),0).alias('Average_Age'))\n",
    ".orderBy('Pclass')\n",
    ".show(20, truncate=0)\n",
    ")"
   ]
  },
  {
   "cell_type": "markdown",
   "metadata": {},
   "source": [
    "\n",
    "2 - O empresário está interessado em criar um programa de fidelidade para seus clientes, mas não tem certeza de qual abordagem seria mais eficaz. Ele gostaria de saber se há alguma relação entre o gênero dos passageiros do Titanic e a sobrevivência no navio."
   ]
  },
  {
   "cell_type": "code",
   "execution_count": 6,
   "metadata": {},
   "outputs": [
    {
     "name": "stdout",
     "output_type": "stream",
     "text": [
      "+------+----------------+\n",
      "|Sex   |Average_Survived|\n",
      "+------+----------------+\n",
      "|female|1.0             |\n",
      "|male  |0.0             |\n",
      "+------+----------------+\n",
      "\n"
     ]
    }
   ],
   "source": [
    "(\n",
    "df\n",
    ".groupBy('Sex')\n",
    ".agg(F.round(F.avg('Survived'),0).alias('Average_Survived'))\n",
    ".orderBy('Sex')\n",
    ".show(20, truncate=0)\n",
    ")"
   ]
  },
  {
   "cell_type": "markdown",
   "metadata": {},
   "source": [
    "3 - Qual a probabilidade de sobrevivência de um passageiro de primeira classe com menos de 20 anos?"
   ]
  },
  {
   "cell_type": "code",
   "execution_count": 12,
   "metadata": {},
   "outputs": [
    {
     "name": "stdout",
     "output_type": "stream",
     "text": [
      "A probabilidade de sobrevivência de um passageiro de primeira classe com menos de 20 anos é de 80.95%\n"
     ]
    }
   ],
   "source": [
    "survival_rate = (\n",
    "df\n",
    ".filter((F.col('Pclass') == 1) & (F.col('Age') < 20))\n",
    ".agg(F.avg('Survived').alias('Survival_Rate'))\n",
    ".collect()[0]['Survival_Rate']\n",
    ")\n",
    "print(f'A probabilidade de sobrevivência de um passageiro de primeira classe com menos de 20 anos é de {survival_rate * 100:.2f}%')"
   ]
  },
  {
   "cell_type": "markdown",
   "metadata": {},
   "source": [
    "4 - Quais as principais características em comum entre os sobreviventes do desastre do Titanic?"
   ]
  },
  {
   "cell_type": "code",
   "execution_count": 16,
   "metadata": {},
   "outputs": [
    {
     "name": "stdout",
     "output_type": "stream",
     "text": [
      "Sobreviventes por Classe:\n",
      "+------+-----+\n",
      "|Pclass|count|\n",
      "+------+-----+\n",
      "|1     |136  |\n",
      "|2     |87   |\n",
      "|3     |119  |\n",
      "+------+-----+\n",
      "\n"
     ]
    }
   ],
   "source": [
    "print(\"Sobreviventes por Classe:\")\n",
    "(\n",
    "df\n",
    ".filter(col('Survived') == 1)\n",
    ".groupBy('Pclass').count().orderBy('Pclass')\n",
    ".show(20, truncate=0)\n",
    ")"
   ]
  },
  {
   "cell_type": "code",
   "execution_count": 17,
   "metadata": {},
   "outputs": [
    {
     "name": "stdout",
     "output_type": "stream",
     "text": [
      "Sobreviventes por gênero:\n",
      "+------+-----+\n",
      "|Sex   |count|\n",
      "+------+-----+\n",
      "|female|233  |\n",
      "|male  |109  |\n",
      "+------+-----+\n",
      "\n"
     ]
    }
   ],
   "source": [
    "print(\"Sobreviventes por gênero:\")\n",
    "(\n",
    "df\n",
    ".filter(col('Survived') == 1)\n",
    ".groupBy('Sex').count().orderBy('Sex')\n",
    ".show(20, truncate=0)\n",
    ")"
   ]
  },
  {
   "cell_type": "code",
   "execution_count": 22,
   "metadata": {},
   "outputs": [
    {
     "name": "stdout",
     "output_type": "stream",
     "text": [
      "Sobreviventes por idade (média de idade):\n",
      "+--------------------+\n",
      "|Survived_Average_Age|\n",
      "+--------------------+\n",
      "|28.0                |\n",
      "+--------------------+\n",
      "\n"
     ]
    }
   ],
   "source": [
    "print(\"Sobreviventes por idade (média de idade):\")\n",
    "(\n",
    "df\n",
    ".filter(col('Survived') == 1)\n",
    ".agg(F.round(F.avg('Age'),0).alias('Survived_Average_Age'))\n",
    ".show(20, truncate=0)\n",
    ")"
   ]
  },
  {
   "cell_type": "markdown",
   "metadata": {},
   "source": [
    "\n",
    "5 - É possível identificar alguma correlação entre a idade e a taxa de sobrevivência dos passageiros que embarcaram em Southampton?"
   ]
  },
  {
   "cell_type": "code",
   "execution_count": 35,
   "metadata": {},
   "outputs": [
    {
     "ename": "AttributeError",
     "evalue": "'GroupedData' object has no attribute 'orderBy'",
     "output_type": "error",
     "traceback": [
      "\u001b[1;31m---------------------------------------------------------------------------\u001b[0m",
      "\u001b[1;31mAttributeError\u001b[0m                            Traceback (most recent call last)",
      "Cell \u001b[1;32mIn[35], line 6\u001b[0m\n\u001b[0;32m      1\u001b[0m (\n\u001b[0;32m      2\u001b[0m \u001b[43mdf\u001b[49m\n\u001b[0;32m      3\u001b[0m \u001b[38;5;241;43m.\u001b[39;49m\u001b[43mfilter\u001b[49m\u001b[43m(\u001b[49m\u001b[43mcol\u001b[49m\u001b[43m(\u001b[49m\u001b[38;5;124;43m'\u001b[39;49m\u001b[38;5;124;43mEmbarked\u001b[39;49m\u001b[38;5;124;43m'\u001b[39;49m\u001b[43m)\u001b[49m\u001b[43m \u001b[49m\u001b[38;5;241;43m==\u001b[39;49m\u001b[43m \u001b[49m\u001b[38;5;124;43m'\u001b[39;49m\u001b[38;5;124;43mS\u001b[39;49m\u001b[38;5;124;43m'\u001b[39;49m\u001b[43m)\u001b[49m\n\u001b[0;32m      4\u001b[0m \u001b[38;5;241;43m.\u001b[39;49m\u001b[43mgroupBy\u001b[49m\u001b[43m(\u001b[49m\u001b[38;5;124;43m'\u001b[39;49m\u001b[38;5;124;43mAge\u001b[39;49m\u001b[38;5;124;43m'\u001b[39;49m\u001b[43m)\u001b[49m\n\u001b[0;32m      5\u001b[0m \u001b[38;5;66;43;03m# .agg(F.round(F.avg('Survived'),2).alias('Survival_Rate_Southampton'))\u001b[39;49;00m\n\u001b[1;32m----> 6\u001b[0m \u001b[38;5;241;43m.\u001b[39;49m\u001b[43morderBy\u001b[49m(\u001b[38;5;124m'\u001b[39m\u001b[38;5;124mAge\u001b[39m\u001b[38;5;124m'\u001b[39m)\n\u001b[0;32m      7\u001b[0m \u001b[38;5;241m.\u001b[39mshow(\u001b[38;5;241m20\u001b[39m, truncate\u001b[38;5;241m=\u001b[39m\u001b[38;5;241m0\u001b[39m)\n\u001b[0;32m      8\u001b[0m )\n",
      "\u001b[1;31mAttributeError\u001b[0m: 'GroupedData' object has no attribute 'orderBy'"
     ]
    }
   ],
   "source": [
    "(\n",
    "df\n",
    ".filter(col('Embarked') == 'S')\n",
    ".groupBy('Age')\n",
    ".agg(F.round(F.avg('Survived'),2).alias('Survival_Rate_Southampton'))\n",
    ".orderBy('Age')\n",
    ".show(20, truncate=0)\n",
    ")"
   ]
  }
 ],
 "metadata": {
  "kernelspec": {
   "display_name": "Python 3",
   "language": "python",
   "name": "python3"
  },
  "language_info": {
   "codemirror_mode": {
    "name": "ipython",
    "version": 3
   },
   "file_extension": ".py",
   "mimetype": "text/x-python",
   "name": "python",
   "nbconvert_exporter": "python",
   "pygments_lexer": "ipython3",
   "version": "3.11.8"
  }
 },
 "nbformat": 4,
 "nbformat_minor": 2
}
